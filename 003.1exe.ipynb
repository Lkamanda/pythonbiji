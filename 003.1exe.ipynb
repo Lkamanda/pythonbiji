{
 "cells": [
  {
   "cell_type": "code",
   "execution_count": 1,
   "metadata": {},
   "outputs": [
    {
     "name": "stdout",
     "output_type": "stream",
     "text": [
      "* * * * * \n",
      "* * * * * \n",
      "* * * * * \n",
      "* * * * * \n",
      "====================\n",
      "* * * * * \n",
      "*       * \n",
      "*       * \n",
      "* * * * * \n"
     ]
    }
   ],
   "source": [
    "# 打印出一个矩形\n",
    "# i控制行 ，j 控制列\n",
    "for i in range(1,5):\n",
    "    for j in range(1,6):\n",
    "         #取消换行\n",
    "        print('*', end= ' ')\n",
    "    # 当第j行的5行输出完后进行换行\n",
    "    print()\n",
    "# 分割一下输出\n",
    "print('='* 20)\n",
    "\n",
    "# 打印空心矩形\n",
    "for i in range(1,5):\n",
    "    for j in range(1,6):\n",
    "        if i == 1 or i == 4  or j == 1 or j == 5:\n",
    "            print('*', end= ' ')\n",
    "        else:\n",
    "            # 如果你这不加else打印空 占位\n",
    "            #出现下面情况\n",
    "            print(' ' ,end=\" \")\n",
    "          \n",
    "    print()\n",
    "        \n",
    "        \n",
    "\n",
    "    "
   ]
  },
  {
   "cell_type": "code",
   "execution_count": 244,
   "metadata": {},
   "outputs": [
    {
     "name": "stdout",
     "output_type": "stream",
     "text": [
      "* * * * * \n",
      "* * * * * \n",
      "* * * * * \n",
      "* * * * * \n",
      "====================\n",
      "* * * * * \n",
      "* * \n",
      "* * \n",
      "* * * * * \n"
     ]
    }
   ],
   "source": [
    "for i in range(1,5):\n",
    "    for j in range(1,6):\n",
    "         #取消换行\n",
    "        print('*', end= ' ')\n",
    "    # 当第j行的5行输出完后进行换行\n",
    "    print()\n",
    "# 分割一下输出\n",
    "print('='* 20)\n",
    "\n",
    "# 打印空心矩形\n",
    "for i in range(1,5):\n",
    "    for j in range(1,6):\n",
    "        if i == 1 or i == 4  or j == 1 or j == 5:\n",
    "            print('*', end= ' ')\n",
    "    print()"
   ]
  },
  {
   "cell_type": "code",
   "execution_count": 2,
   "metadata": {},
   "outputs": [
    {
     "name": "stdout",
     "output_type": "stream",
     "text": [
      "ii\n",
      "ii\n",
      "ii\n",
      "ii\n"
     ]
    }
   ],
   "source": []
  },
  {
   "cell_type": "code",
   "execution_count": 15,
   "metadata": {},
   "outputs": [
    {
     "name": "stdout",
     "output_type": "stream",
     "text": [
      "* * * * * \n",
      "*       * \n",
      "*       * \n",
      "* * * * * \n"
     ]
    }
   ],
   "source": [
    "for i in range(1,5):\n",
    "    for j in range(1,6):\n",
    "        if i ==1 or i==4 or j == 1 or j== 5:\n",
    "            print('*', end=' ')\n",
    "        else:\n",
    "            print(' ', end=' ')\n",
    "    print()"
   ]
  },
  {
   "cell_type": "markdown",
   "metadata": {},
   "source": [
    "## 直角三角形"
   ]
  },
  {
   "cell_type": "code",
   "execution_count": 21,
   "metadata": {},
   "outputs": [
    {
     "name": "stdout",
     "output_type": "stream",
     "text": [
      "* \n",
      "* * \n",
      "* * * \n",
      "* * * * \n",
      "* * * * * \n"
     ]
    }
   ],
   "source": [
    "# 控制行\n",
    "for i in range(1,6):\n",
    "    #控制列，第一行是一列，第二行是二列\n",
    "    for j in range(6-i,6):\n",
    "        print('*',end=' ')\n",
    "    print()   "
   ]
  },
  {
   "cell_type": "code",
   "execution_count": 27,
   "metadata": {},
   "outputs": [
    {
     "name": "stdout",
     "output_type": "stream",
     "text": [
      "* \n",
      "* \n",
      "* \n",
      "* \n",
      "* * * * * \n"
     ]
    }
   ],
   "source": [
    "# 变空心\n",
    "for i in range(1,6):\n",
    "    for j in range(6-i,6):\n",
    "        if i==1 or i== 5 or j==6-i:\n",
    "            print('*', end=' ')\n",
    "    print()\n",
    "        "
   ]
  },
  {
   "cell_type": "code",
   "execution_count": 117,
   "metadata": {},
   "outputs": [
    {
     "name": "stdout",
     "output_type": "stream",
     "text": [
      "* \n",
      "* * \n",
      "*   * \n",
      "*     * \n",
      "* * * * * \n"
     ]
    }
   ],
   "source": [
    "# 打印空心三角形 (左对齐)\n",
    "# j==5 打印最外层\n",
    "for i in range(1,6):\n",
    "    for j in range(6-i,6):\n",
    "        if i ==1 or i==5 or j== 6-i or j == 5:\n",
    "            print('*', end=' ')\n",
    "        else:\n",
    "            print(' ', end=' ')\n",
    "    print()"
   ]
  },
  {
   "cell_type": "code",
   "execution_count": 69,
   "metadata": {},
   "outputs": [
    {
     "name": "stdout",
     "output_type": "stream",
     "text": [
      "* * * * * \n",
      "* * * * \n",
      "* * * \n",
      "* * \n",
      "* \n"
     ]
    }
   ],
   "source": [
    "# 控制行\n",
    "for i in range(1,6):\n",
    "    # 控制列，规则是第一行五列，第二行是四列  i =1,j的范围6 ，i =2,j=5\n",
    "    for j in range(1,7-i):\n",
    "        print('*', end=\" \")\n",
    "    print()"
   ]
  },
  {
   "cell_type": "code",
   "execution_count": 122,
   "metadata": {},
   "outputs": [
    {
     "name": "stdout",
     "output_type": "stream",
     "text": [
      "* * * * * \n",
      "*     * \n",
      "*   * \n",
      "* * \n",
      "* \n"
     ]
    }
   ],
   "source": [
    "for i in range(1,6):\n",
    "    for j in range(1,7-i):\n",
    "        if i==1 or i==5 or j==1 or j==7-i-1:\n",
    "            print('*', end=' ')\n",
    "        else:\n",
    "            print(' ', end=' ')\n",
    "    print()"
   ]
  },
  {
   "cell_type": "code",
   "execution_count": 126,
   "metadata": {},
   "outputs": [
    {
     "name": "stdout",
     "output_type": "stream",
     "text": [
      "* * * * * \n",
      "*     * \n",
      "*   * \n",
      "* * \n",
      "* \n"
     ]
    }
   ],
   "source": [
    "for i in range(1,6):\n",
    "    for j in range(1,7-i):\n",
    "        if i==1 or i == 5 or j==7-i-1 or j== 1:\n",
    "            print('*', end=' ')\n",
    "        else:\n",
    "            print(' ', end=' ')\n",
    "    print()    "
   ]
  },
  {
   "cell_type": "code",
   "execution_count": 95,
   "metadata": {},
   "outputs": [
    {
     "name": "stdout",
     "output_type": "stream",
     "text": [
      "* \n",
      "* * \n",
      "* * * \n",
      "* * * * \n",
      "* * * * * \n"
     ]
    }
   ],
   "source": [
    "# 靠左  ---1\n",
    "for i in range(1,6):\n",
    "    for k in range(1,6-i):\n",
    "        print(end='')\n",
    "    #控制列，规则是第一行第一列，第二行第二列\n",
    "    for j in range(6-i,6):\n",
    "        print('*', end=' ')\n",
    "    print()"
   ]
  },
  {
   "cell_type": "code",
   "execution_count": 97,
   "metadata": {},
   "outputs": [
    {
     "name": "stdout",
     "output_type": "stream",
     "text": [
      "    * \n",
      "   * * \n",
      "  * * * \n",
      " * * * * \n",
      "* * * * * \n"
     ]
    }
   ],
   "source": [
    "# 局中  --2\n",
    "for i in range(1,6):\n",
    "    for k in range(1,6-i):\n",
    "        print(end=' ')\n",
    "    #控制列，规则是第一行第一列，第二行第二列\n",
    "    for j in range(6-i,6):\n",
    "        print('*', end=' ')\n",
    "    print()"
   ]
  },
  {
   "cell_type": "code",
   "execution_count": 101,
   "metadata": {},
   "outputs": [
    {
     "name": "stdout",
     "output_type": "stream",
     "text": [
      "        * \n",
      "      * * \n",
      "    * * * \n",
      "  * * * * \n",
      "* * * * * \n"
     ]
    }
   ],
   "source": [
    "# 靠右   -- 3\n",
    "for i in range(1,6):\n",
    "    # 更改打印起始位置\n",
    "    for k in range(1,6-i):\n",
    "        print(end='  ')\n",
    "    #控制列，规则是第一行第一列，第二行第二列\n",
    "    for j in range(6-i,6):\n",
    "        print('*', end=' ')\n",
    "    print()"
   ]
  },
  {
   "cell_type": "code",
   "execution_count": 138,
   "metadata": {},
   "outputs": [
    {
     "name": "stdout",
     "output_type": "stream",
     "text": [
      "    * \n",
      "   * * \n",
      "  *   * \n",
      " *     * \n",
      "* * * * * \n"
     ]
    }
   ],
   "source": [
    "# 空心三角\n",
    "for i in range(1,6):\n",
    "    for k in range(1,6-i):\n",
    "        print(end=' ')\n",
    "    #控制列，规则是第一行第一列，第二行第二列\n",
    "    for j in range(6-i,6):\n",
    "        if i==1 or i==5 or j==6-i or j==5:\n",
    "            print('*', end=' ')\n",
    "        else:\n",
    "            print(' ',end=' ')\n",
    "    print()"
   ]
  },
  {
   "cell_type": "code",
   "execution_count": 130,
   "metadata": {},
   "outputs": [
    {
     "name": "stdout",
     "output_type": "stream",
     "text": [
      "    * \n",
      "   * * \n",
      "  * * * \n",
      " *     * \n",
      "*       * \n"
     ]
    }
   ],
   "source": [
    "#字母Ａ\n",
    "for i in range(1,6):\n",
    "    for k in range(1,6-i):\n",
    "        print(end=' ')\n",
    "    #控制列，规则是第一行第一列，第二行第二列\n",
    "    for j in range(6-i,6):\n",
    "        if i==1 or i==3 or j==6-i or j==5 :\n",
    "            print('*', end=' ')\n",
    "        else:\n",
    "            print(' ',end=' ')\n",
    "    print()"
   ]
  },
  {
   "cell_type": "code",
   "execution_count": 156,
   "metadata": {},
   "outputs": [
    {
     "name": "stdout",
     "output_type": "stream",
     "text": [
      "     * \n",
      "    * * \n",
      "   * * * \n",
      "  * * * * \n",
      " * * * * * \n",
      "  * * * * \n",
      "   * * * \n",
      "    * * \n",
      "     * \n"
     ]
    }
   ],
   "source": [
    "# 菱形\n",
    "for i in range(1,5):\n",
    "    for k in range(1,7-i):\n",
    "        print(end=' ')\n",
    "    for j in range(6-i,6):\n",
    "        print('*', end=' ')\n",
    "    print()\n",
    "for i in range(1,6):\n",
    "    for k in range(i):\n",
    "        print(end=' ')\n",
    "    for j in range(6-i):\n",
    "        print('*', end=' ')\n",
    "    print()"
   ]
  },
  {
   "cell_type": "code",
   "execution_count": 209,
   "metadata": {},
   "outputs": [
    {
     "name": "stdout",
     "output_type": "stream",
     "text": [
      "     * \n",
      "    * * \n",
      "   *   * \n",
      "  *     * \n",
      " *       * \n",
      "  *     * \n",
      "   *   * \n",
      "    * * \n",
      "     * \n"
     ]
    }
   ],
   "source": [
    "# 空心菱形\n",
    "for i in range(1,5):\n",
    "    for k in range(1,7-i):\n",
    "        print(end=' ')\n",
    "    for j in range(6-i,6):\n",
    "        if i==1  or j== 6-i or j==5:\n",
    "            print('*', end=' ')\n",
    "        else:\n",
    "            print(' ',end=' ')\n",
    "    print()\n",
    "for i in range(1,6):\n",
    "    for k in range(i):\n",
    "        print(end=' ')\n",
    "    for j in range(6-i):\n",
    "        if j==0 or j==6-i-1:\n",
    "            print('*', end=' ')\n",
    "        else:\n",
    "            print(' ', end=' ')\n",
    "    print()\n"
   ]
  },
  {
   "cell_type": "code",
   "execution_count": 214,
   "metadata": {},
   "outputs": [
    {
     "name": "stdout",
     "output_type": "stream",
     "text": [
      "      * \n",
      "     * * \n",
      "    * * * \n",
      "   * * * * \n",
      "  * * * * * \n"
     ]
    }
   ],
   "source": [
    "# 等腰题型\n",
    "for i in range(1,6):\n",
    "    for m in range(7-i):\n",
    "        print(' ', end='')\n",
    "    for j in range(6-i,6):\n",
    "        print('*', end=' ')\n",
    "    print()"
   ]
  },
  {
   "cell_type": "code",
   "execution_count": 243,
   "metadata": {},
   "outputs": [
    {
     "name": "stdout",
     "output_type": "stream",
     "text": [
      "     * * * * \n",
      "    * * * * * \n",
      "   * * * * * * \n",
      "  * * * * * * * \n",
      " * * * * * * * * \n"
     ]
    }
   ],
   "source": [
    "for i in range(1,6):\n",
    "    for m in range(6-i):\n",
    "        print(end=' ')\n",
    "    for j in range(6-i,9):\n",
    "            print('*', end=' ')\n",
    "    print()"
   ]
  },
  {
   "cell_type": "code",
   "execution_count": 241,
   "metadata": {},
   "outputs": [
    {
     "name": "stdout",
     "output_type": "stream",
     "text": [
      "     * * * * \n",
      "    *       * \n",
      "   *         * \n",
      "  *           * \n",
      " * * * * * * * * \n"
     ]
    }
   ],
   "source": [
    "for i in range(1,6):\n",
    "    for m in range(6-i):\n",
    "        print(end=' ')\n",
    "    for j in range(6-i,9):\n",
    "        if i ==1 or i== 5 or j ==6-i or j==8:\n",
    "            print('*', end=' ')\n",
    "        else:\n",
    "            print(' ', end=' ')\n",
    "    print()"
   ]
  },
  {
   "cell_type": "code",
   "execution_count": 4,
   "metadata": {},
   "outputs": [
    {
     "name": "stdout",
     "output_type": "stream",
     "text": [
      "* \n",
      "* * \n",
      "* * * \n",
      "* * * * \n",
      "* * * * * \n"
     ]
    }
   ],
   "source": [
    "for i in range(1,6):\n",
    "    for j in range(6-i,6):\n",
    "        print('*', end= ' ')\n",
    "    print()\n",
    "        \n",
    "        "
   ]
  },
  {
   "cell_type": "code",
   "execution_count": 8,
   "metadata": {},
   "outputs": [
    {
     "name": "stdout",
     "output_type": "stream",
     "text": [
      "1\n"
     ]
    }
   ],
   "source": [
    "a= {'one':1,'two':2}\n",
    "if 'one' in a:\n",
    "    print(1)"
   ]
  }
 ],
 "metadata": {
  "kernelspec": {
   "display_name": "Python 3",
   "language": "python",
   "name": "python3"
  },
  "language_info": {
   "codemirror_mode": {
    "name": "ipython",
    "version": 3
   },
   "file_extension": ".py",
   "mimetype": "text/x-python",
   "name": "python",
   "nbconvert_exporter": "python",
   "pygments_lexer": "ipython3",
   "version": "3.6.3"
  }
 },
 "nbformat": 4,
 "nbformat_minor": 2
}
