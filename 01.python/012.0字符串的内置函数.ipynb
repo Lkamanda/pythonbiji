{
 "cells": [
  {
   "cell_type": "markdown",
   "metadata": {},
   "source": [
    "# 数据类型的内置函数\n",
    "- pyhon有哪些数据类型\n",
    "- number 数值型 (int  float bool complex(复数) \n",
    "- string 字符型\n",
    "- tuple  元祖\n",
    "- list   列表\n",
    "- dict   字典\n",
    "- set    集合"
   ]
  },
  {
   "cell_type": "markdown",
   "metadata": {},
   "source": [
    "## 字符串的简单操作\n",
    "- '+' 字符串拼接\n",
    "- '*' 字符串的复制操作\n",
    "- '[]' 字符串的索引操作 从[0]开始\n",
    "- [: :] 字符串的切片操作\n",
    "- [开始索引:结束索引:间隔值] (包含开始,不包含结束)\n"
   ]
  },
  {
   "cell_type": "code",
   "execution_count": 9,
   "metadata": {},
   "outputs": [
    {
     "name": "stdout",
     "output_type": "stream",
     "text": [
      "love\n",
      "love\n",
      "林林林林林林林林林林\n",
      "i\n",
      "g\n",
      "o\n",
      "like \n",
      "i like dog\n"
     ]
    }
   ],
   "source": [
    "str1 = 'lo'\n",
    "str2 = 've'\n",
    "print(str1+str2)\n",
    "print('lo'+'ve')\n",
    "\n",
    "print ('林'*10)\n",
    "\n",
    "s = 'i like dog'\n",
    "print(s[0])\n",
    "print(s[-1])\n",
    "print(s[-2])\n",
    "\n",
    "print(s[2:7])\n",
    "print(s)"
   ]
  },
  {
   "cell_type": "code",
   "execution_count": 17,
   "metadata": {},
   "outputs": [
    {
     "name": "stdout",
     "output_type": "stream",
     "text": [
      "246\n",
      "0123456789\n",
      "23456789\n",
      "0123\n",
      "2468\n",
      "024\n"
     ]
    }
   ],
   "source": [
    "s = '0123456789'\n",
    "print(s[2:7:2])\n",
    "# 切整个字符串\n",
    "print(s[:])\n",
    "\n",
    "# 指定开始,不指定结束\n",
    "print(s[2:])\n",
    "# 指定结束,不指定开始\n",
    "print(s[:4])\n",
    "# 指定开始,不指定结束,并给出间隔值\n",
    "print(s[2::2])\n",
    "# 指定结束,不指定开始,并给出间隔值\n",
    "print(s[:5:2])"
   ]
  },
  {
   "cell_type": "code",
   "execution_count": 31,
   "metadata": {},
   "outputs": [
    {
     "name": "stdout",
     "output_type": "stream",
     "text": [
      "140624076052352\n",
      "140624076052456\n",
      "狗 i like dog\n"
     ]
    }
   ],
   "source": [
    "# -1 capitalize 首字母大写  返回的是字符串\n",
    "s = '狗 i like dog'\n",
    "print(id(s))\n",
    "print(id(s.capitalize()))\n",
    "print(s.capitalize())"
   ]
  },
  {
   "cell_type": "code",
   "execution_count": 29,
   "metadata": {},
   "outputs": [
    {
     "name": "stdout",
     "output_type": "stream",
     "text": [
      "I Like Dog\n"
     ]
    }
   ],
   "source": [
    "# -2 title() 将每个单词首字母变成大写   返回的是字符串\n",
    "print(s.title())"
   ]
  },
  {
   "cell_type": "code",
   "execution_count": 43,
   "metadata": {},
   "outputs": [
    {
     "name": "stdout",
     "output_type": "stream",
     "text": [
      "I AM ZJL\n",
      "i am zjl\n"
     ]
    }
   ],
   "source": [
    "# -3 upper() 将所有字母变为大写  返回的是字符串\n",
    "s1 = 'i am zjl'\n",
    "a1= s1.upper()\n",
    "print(a1)\n",
    "print(s1)"
   ]
  },
  {
   "cell_type": "code",
   "execution_count": 47,
   "metadata": {},
   "outputs": [
    {
     "name": "stdout",
     "output_type": "stream",
     "text": [
      "I AM ZJL\n"
     ]
    },
    {
     "data": {
      "text/plain": [
       "'i am zjl'"
      ]
     },
     "execution_count": 47,
     "metadata": {},
     "output_type": "execute_result"
    }
   ],
   "source": [
    "# -4 lower() 将所有字母为小写  返回字符串\n",
    "print(a1)\n",
    "a1.lower()"
   ]
  },
  {
   "cell_type": "code",
   "execution_count": 49,
   "metadata": {},
   "outputs": [
    {
     "name": "stdout",
     "output_type": "stream",
     "text": [
      "i AM sTR\n"
     ]
    }
   ],
   "source": [
    "# -5 swapcase() 大小写互换\n",
    "s2 = 'I am Str'\n",
    "print(s2.swapcase())"
   ]
  },
  {
   "cell_type": "code",
   "execution_count": 51,
   "metadata": {},
   "outputs": [
    {
     "data": {
      "text/plain": [
       "8"
      ]
     },
     "execution_count": 51,
     "metadata": {},
     "output_type": "execute_result"
    }
   ],
   "source": [
    "# 计算字符串长度  返回整形  (不属于字符串的内置函数 )\n",
    "len(s2)"
   ]
  },
  {
   "cell_type": "code",
   "execution_count": 72,
   "metadata": {},
   "outputs": [
    {
     "name": "stdout",
     "output_type": "stream",
     "text": [
      "5\n",
      "5\n"
     ]
    }
   ],
   "source": [
    "# -6 find() 查找指定字符串　查不到返回　－１  查到返回第一个查到的索引值\n",
    "#    index()            查不到不报错\n",
    "s = 'xiaaolinxiaolin'\n",
    "s1=s.find('l',1,8)\n",
    "print(s1)\n",
    "s2 = s.index('l')\n",
    "print(s2)"
   ]
  },
  {
   "cell_type": "code",
   "execution_count": 73,
   "metadata": {},
   "outputs": [
    {
     "data": {
      "text/plain": [
       "12"
      ]
     },
     "execution_count": 73,
     "metadata": {},
     "output_type": "execute_result"
    }
   ],
   "source": [
    "s.index('l',6)"
   ]
  },
  {
   "cell_type": "code",
   "execution_count": 75,
   "metadata": {},
   "outputs": [
    {
     "data": {
      "text/plain": [
       "-1"
      ]
     },
     "execution_count": 75,
     "metadata": {},
     "output_type": "execute_result"
    }
   ],
   "source": [
    "s.find('m')"
   ]
  },
  {
   "cell_type": "code",
   "execution_count": 82,
   "metadata": {},
   "outputs": [
    {
     "name": "stdout",
     "output_type": "stream",
     "text": [
      "3\n",
      "0\n",
      "2\n"
     ]
    }
   ],
   "source": [
    "# -7 count() 计算字符串出现次数    返回整形\n",
    "s = 'zxyzxyzx'\n",
    "print(s.count('z'))\n",
    "print(s.count('m'))\n",
    "print(s.count('z',1))"
   ]
  },
  {
   "cell_type": "code",
   "execution_count": 100,
   "metadata": {},
   "outputs": [
    {
     "name": "stdout",
     "output_type": "stream",
     "text": [
      "True\n",
      "True\n",
      "True\n",
      "False\n",
      "True\n"
     ]
    }
   ],
   "source": [
    "# -8 startswith() 检测是否是以指定之母开头   返回布尔值\n",
    "\n",
    "#     endswith() 检测是否是以指定字结束\n",
    "s1 = 'i like dog'\n",
    "print(s1.startswith('i'))\n",
    "print(s1.startswith('l',2))  # 可以加入索引\n",
    "\n",
    "print(s1.endswith('g'))\n",
    "print(s1.endswith('0'))\n",
    "print(s1.endswith('g'))"
   ]
  },
  {
   "cell_type": "code",
   "execution_count": 7,
   "metadata": {},
   "outputs": [
    {
     "name": "stdout",
     "output_type": "stream",
     "text": [
      "False\n",
      "False\n",
      "True\n",
      "True False False\n",
      "False\n",
      "True\n",
      "False\n",
      "False\n",
      "False\n",
      "False\n",
      "True\n",
      "False\n"
     ]
    }
   ],
   "source": [
    "# - 9                                    返回布尔值\n",
    "\n",
    "# isupper() 检测所有字母是否是大写字母\n",
    "s = 'zxy'\n",
    "s1 = 'ZXy'\n",
    "s2 = 'Z X Y'\n",
    "print(s.isupper())\n",
    "print(s1.isupper())\n",
    "print(s2.isupper())\n",
    "\n",
    "# islower() 检测所有字母是否是小写字母\n",
    "print(s.islower(),s1.islower(),s2.islower())\n",
    "\n",
    "# istitle() 检测是否已制定标题显示(每个单词首字母大写)\n",
    "print(s1.istitle())\n",
    "print(s2.istitle())\n",
    "print(s.istitle())\n",
    "\n",
    "# isspace()  检测字符串是否全是由空格组成的 (至少有一个字符,并且为空格返回True\n",
    "\n",
    "print(s1.isspace())\n",
    "print(s2.isspace())\n",
    "print(s.isspace())\n",
    "a =' '\n",
    "print(a.isspace())\n",
    "b =''\n",
    "print(b.isspace())"
   ]
  },
  {
   "cell_type": "code",
   "execution_count": 28,
   "metadata": {},
   "outputs": [
    {
     "name": "stdout",
     "output_type": "stream",
     "text": [
      "False False True\n",
      "True False False\n"
     ]
    }
   ],
   "source": [
    "# -10 \n",
    "#isalpha 字符串中至少含有一个字符且所有字符都是字母,返回True\n",
    "# 可以有汉字 汉子被视作字母\n",
    "a = 'a '\n",
    "b = 'a1'\n",
    "c = 'iam林'\n",
    "print(a.isalpha(),b.isalpha(),c.isalpha())\n",
    "\n",
    "# isalnum 检验所有字符串是否都是字母数字 ,至少一个字符返回True\n",
    "a = 'z1林'\n",
    "b = 'z 1林'\n",
    "c = 'z,1'\n",
    "print(a.isalnum(),b.isalnum(),c.isalnum())\n"
   ]
  },
  {
   "cell_type": "code",
   "execution_count": 30,
   "metadata": {},
   "outputs": [
    {
     "name": "stdout",
     "output_type": "stream",
     "text": [
      "Help on method_descriptor:\n",
      "\n",
      "isdigit(...)\n",
      "    S.isdigit() -> bool\n",
      "    \n",
      "    Return True if all characters in S are digits\n",
      "    and there is at least one character in S, False otherwise.\n",
      "\n"
     ]
    }
   ],
   "source": [
    "help(str.isdigit)"
   ]
  },
  {
   "cell_type": "code",
   "execution_count": null,
   "metadata": {
    "collapsed": true
   },
   "outputs": [],
   "source": [
    "# - 11   都必须是整数   如果str中只有数字字符,则返回True\n",
    "\n",
    "# isdigit\n",
    "True:Unicode数字 byte数字(单字节) 全角数字(双字节) \n",
    "False: 汉子数字,罗马数字,小数\n",
    "Error: 无\n",
    "# isdecimal\n",
    "True: Unicode数字  全角数字(双字节)\n",
    "False: 罗马数字 汉子数字 小数\n",
    "Error: byte数字(单字节)\n",
    "# isnumeric   \n",
    "True:Unicode数字 全角数字(双字节) 罗马数字,汉子数字\n",
    "False:小数\n",
    "Error: byte   数字(单字节)\n",
    "\n"
   ]
  },
  {
   "cell_type": "code",
   "execution_count": 52,
   "metadata": {},
   "outputs": [
    {
     "name": "stdout",
     "output_type": "stream",
     "text": [
      "True True True\n"
     ]
    }
   ],
   "source": [
    "a = '123'\n",
    "print(a.isnumeric(),a.isdigit(),a.isdecimal())\n",
    "s = b'1010'  # 二进制\n"
   ]
  },
  {
   "cell_type": "code",
   "execution_count": 40,
   "metadata": {},
   "outputs": [
    {
     "ename": "AttributeError",
     "evalue": "'bytes' object has no attribute 'isnumeric'",
     "output_type": "error",
     "traceback": [
      "\u001b[0;31m---------------------------------------------------------------------------\u001b[0m",
      "\u001b[0;31mAttributeError\u001b[0m                            Traceback (most recent call last)",
      "\u001b[0;32m<ipython-input-40-6e3bbaf35f49>\u001b[0m in \u001b[0;36m<module>\u001b[0;34m()\u001b[0m\n\u001b[0;32m----> 1\u001b[0;31m \u001b[0mprint\u001b[0m\u001b[0;34m(\u001b[0m\u001b[0ms\u001b[0m\u001b[0;34m.\u001b[0m\u001b[0misnumeric\u001b[0m\u001b[0;34m(\u001b[0m\u001b[0;34m)\u001b[0m\u001b[0;34m)\u001b[0m\u001b[0;34m\u001b[0m\u001b[0m\n\u001b[0m",
      "\u001b[0;31mAttributeError\u001b[0m: 'bytes' object has no attribute 'isnumeric'"
     ]
    }
   ],
   "source": [
    "print(s.isnumeric())\n"
   ]
  },
  {
   "cell_type": "code",
   "execution_count": 42,
   "metadata": {},
   "outputs": [
    {
     "name": "stdout",
     "output_type": "stream",
     "text": [
      "True\n"
     ]
    }
   ],
   "source": [
    "print(s.isdigit())"
   ]
  },
  {
   "cell_type": "code",
   "execution_count": 44,
   "metadata": {},
   "outputs": [
    {
     "ename": "AttributeError",
     "evalue": "'bytes' object has no attribute 'isdecimal'",
     "output_type": "error",
     "traceback": [
      "\u001b[0;31m---------------------------------------------------------------------------\u001b[0m",
      "\u001b[0;31mAttributeError\u001b[0m                            Traceback (most recent call last)",
      "\u001b[0;32m<ipython-input-44-aa370b0f1be1>\u001b[0m in \u001b[0;36m<module>\u001b[0;34m()\u001b[0m\n\u001b[0;32m----> 1\u001b[0;31m \u001b[0mprint\u001b[0m\u001b[0;34m(\u001b[0m\u001b[0ms\u001b[0m\u001b[0;34m.\u001b[0m\u001b[0misdecimal\u001b[0m\u001b[0;34m(\u001b[0m\u001b[0;34m)\u001b[0m\u001b[0;34m)\u001b[0m\u001b[0;34m\u001b[0m\u001b[0m\n\u001b[0m",
      "\u001b[0;31mAttributeError\u001b[0m: 'bytes' object has no attribute 'isdecimal'"
     ]
    }
   ],
   "source": [
    "print(s.isdecimal())"
   ]
  },
  {
   "cell_type": "code",
   "execution_count": 45,
   "metadata": {},
   "outputs": [
    {
     "name": "stdout",
     "output_type": "stream",
     "text": [
      "False False False\n"
     ]
    }
   ],
   "source": [
    "s ='123.2'\n",
    "print(s.isnumeric(),s.isdigit(),s.isdecimal())"
   ]
  },
  {
   "cell_type": "code",
   "execution_count": 47,
   "metadata": {},
   "outputs": [
    {
     "name": "stdout",
     "output_type": "stream",
     "text": [
      "True False False\n"
     ]
    }
   ],
   "source": [
    "s = '三贰'\n",
    "print(s.isnumeric(),s.isdigit(),s.isdecimal())"
   ]
  },
  {
   "cell_type": "code",
   "execution_count": 57,
   "metadata": {},
   "outputs": [
    {
     "name": "stdout",
     "output_type": "stream",
     "text": [
      "<class 'str'>\n",
      "False False False\n"
     ]
    }
   ],
   "source": [
    "s = 'II'\n",
    "print(type(s))\n",
    "print(s.isnumeric(),s.isdigit(),s.isdecimal())"
   ]
  },
  {
   "cell_type": "code",
   "execution_count": 62,
   "metadata": {},
   "outputs": [
    {
     "data": {
      "text/plain": [
       "['日照香炉生紫烟', '疑是银河落九天', '飞流直下三千尺.']"
      ]
     },
     "execution_count": 62,
     "metadata": {},
     "output_type": "execute_result"
    }
   ],
   "source": [
    "#  - 12 切割字符串 \n",
    "# split  用指定字符切割字符串 \n",
    "s = '日照香炉生紫烟,疑是银河落九天,飞流直下三千尺.'\n",
    "list1 = s.split(',')\n",
    "list1"
   ]
  },
  {
   "cell_type": "code",
   "execution_count": 1,
   "metadata": {},
   "outputs": [
    {
     "data": {
      "text/plain": [
       "['日照香炉生紫烟', '小林', '卡曼达']"
      ]
     },
     "execution_count": 1,
     "metadata": {},
     "output_type": "execute_result"
    }
   ],
   "source": [
    "# splitlines  打破行边界  在结果中布包扣换行符\n",
    "s = '''日照香炉生紫烟\\n小林\\n卡曼达'''\n",
    "list2 = s.splitlines()\n",
    "list2"
   ]
  },
  {
   "cell_type": "code",
   "execution_count": 4,
   "metadata": {},
   "outputs": [
    {
     "name": "stdout",
     "output_type": "stream",
     "text": [
      "日照香炉生紫烟*遥看瀑布挂前川*飞流直下三千尺*疑是银河落九天\n"
     ]
    }
   ],
   "source": [
    "# join 将列表按照指定字符串连接\n",
    "list1 = ['日照香炉生紫烟','遥看瀑布挂前川','飞流直下三千尺','疑是银河落九天']\n",
    "list1 = '*'.join(list1)\n",
    "print(list1)"
   ]
  },
  {
   "cell_type": "code",
   "execution_count": 17,
   "metadata": {},
   "outputs": [
    {
     "name": "stdout",
     "output_type": "stream",
     "text": [
      "3\n",
      "abc**\n",
      "abc  \n",
      "5\n",
      "**abc\n",
      "  abc\n",
      " abc  \n",
      "*abc**\n"
     ]
    }
   ],
   "source": [
    "# ljust() 指定字符串长度,内容靠左,不足的位置用指定字符填充 ,  返回:str\n",
    "# rjust()              内容靠右\n",
    "# center()             内容居中\n",
    "s = 'abc'\n",
    "print(len(s))\n",
    "print(s.ljust(5,'*'))\n",
    "# 如果不设置指定字符填充,则默认为空格\n",
    "a = s.ljust(5)\n",
    "print(a)\n",
    "print(len(a))\n",
    "\n",
    "b = s.rjust(5,'*')\n",
    "print(b)\n",
    "c = s.rjust(5)\n",
    "print(c)\n",
    "\n",
    "# center \n",
    "d = s.center(6)\n",
    "print(d)\n",
    "d1 = s.center(6,'*')\n",
    "print(d1)"
   ]
  },
  {
   "cell_type": "code",
   "execution_count": 29,
   "metadata": {},
   "outputs": [
    {
     "name": "stdout",
     "output_type": "stream",
     "text": [
      "llabcll\n",
      "abc\n",
      "abcll\n",
      "abc\n"
     ]
    }
   ],
   "source": [
    "# strip()   去掉俩边指定字符,默认去掉空格         返回:str\n",
    "# lstrip()  去掉左侧指定字符,默认去掉空格\n",
    "# rstrip()  去掉右侧指定字符,默认取掉空格\n",
    "\n",
    "s = '    llabcll   '\n",
    "\n",
    "a =s.strip()\n",
    "print(a)\n",
    "a1 = a.strip('l')\n",
    "print(a1)\n",
    "a2 =  a.lstrip('l')\n",
    "print(a2)\n",
    "a3 = a.strip('l')\n",
    "print(a3)"
   ]
  },
  {
   "cell_type": "code",
   "execution_count": 34,
   "metadata": {},
   "outputs": [
    {
     "name": "stdout",
     "output_type": "stream",
     "text": [
      "000abc\n"
     ]
    }
   ],
   "source": [
    "# zfill() 指定字符串长度,内容靠右,用0补充不够的字符串长度  如果不给参数报错\n",
    "s ='abc'\n",
    "a = s.zfill(6)\n",
    "print(a)"
   ]
  },
  {
   "cell_type": "code",
   "execution_count": 37,
   "metadata": {},
   "outputs": [
    {
     "name": "stdout",
     "output_type": "stream",
     "text": [
      "{22823: 23567, 22320: 22320, 29916: 29916}\n",
      "今天我吃了小地瓜,贼好吃\n"
     ]
    }
   ],
   "source": [
    "# maketrans() 生成用于字符串替换映射表\n",
    "# translate() 进行字符串替换\n",
    "# maketrans\n",
    "s = '今天我吃了大地瓜,贼好吃'\n",
    "table = s.maketrans('大地瓜','小地瓜')\n",
    "print(table)\n",
    "print(s.translate(table))"
   ]
  },
  {
   "cell_type": "code",
   "execution_count": 41,
   "metadata": {},
   "outputs": [
    {
     "name": "stdout",
     "output_type": "stream",
     "text": [
      "今天我喝了大地瓜,贼好喝\n"
     ]
    }
   ],
   "source": [
    "a = s.translate(s.maketrans('吃','喝'))\n",
    "print(a)"
   ]
  }
 ],
 "metadata": {
  "kernelspec": {
   "display_name": "Python 3",
   "language": "python",
   "name": "python3"
  },
  "language_info": {
   "codemirror_mode": {
    "name": "ipython",
    "version": 3
   },
   "file_extension": ".py",
   "mimetype": "text/x-python",
   "name": "python",
   "nbconvert_exporter": "python",
   "pygments_lexer": "ipython3",
   "version": "3.6.3"
  }
 },
 "nbformat": 4,
 "nbformat_minor": 2
}
