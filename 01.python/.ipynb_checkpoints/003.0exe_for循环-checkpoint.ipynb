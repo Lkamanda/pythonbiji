{
 "cells": [
  {
   "cell_type": "code",
   "execution_count": 5,
   "metadata": {},
   "outputs": [
    {
     "name": "stdout",
     "output_type": "stream",
     "text": [
      "* * * * *\n",
      "* * * * *\n",
      "* * * * *\n",
      "* * * * *\n"
     ]
    }
   ],
   "source": [
    "#简单图形打印\n",
    "'''\n",
    "打印一下图形在输出上面\n",
    "*****\n",
    "*****\n",
    "*****\n",
    "*****\n",
    "'''\n",
    "print('* * * * *')\n",
    "print('* * * * *')\n",
    "print('* * * * *')\n",
    "print('* * * * *')\n"
   ]
  },
  {
   "cell_type": "code",
   "execution_count": 6,
   "metadata": {},
   "outputs": [
    {
     "name": "stdout",
     "output_type": "stream",
     "text": [
      "* * * * * \n"
     ]
    }
   ],
   "source": [
    "#更该上面代码\n",
    "print(\"* \" * 5)"
   ]
  },
  {
   "cell_type": "code",
   "execution_count": 14,
   "metadata": {},
   "outputs": [
    {
     "name": "stdout",
     "output_type": "stream",
     "text": [
      "* * * * * \n",
      "* * * * * \n",
      "* * * * * \n",
      "* * * * * \n"
     ]
    }
   ],
   "source": [
    "#利用for循环更该\n",
    "\n",
    "for i in range(0,4):\n",
    "    print(\"* \" * 5)"
   ]
  },
  {
   "cell_type": "code",
   "execution_count": 17,
   "metadata": {},
   "outputs": [
    {
     "name": "stdout",
     "output_type": "stream",
     "text": [
      "*****\n",
      "*****\n",
      "*****\n",
      "*****\n"
     ]
    }
   ],
   "source": [
    "#利用双层for循环更改上图案例\n",
    "for i in range(0,4):\n",
    "    #利用for循环打印一行星号\n",
    "    for j in range(5):\n",
    "        #print默认自动换行\n",
    "        print('*', end='')\n",
    "    print()"
   ]
  },
  {
   "cell_type": "code",
   "execution_count": 20,
   "metadata": {},
   "outputs": [
    {
     "name": "stdout",
     "output_type": "stream",
     "text": [
      "*****\n",
      "\n",
      "*****\n",
      "\n",
      "*****\n",
      "\n",
      "*****\n",
      "\n"
     ]
    }
   ],
   "source": [
    "#利用for循环更改上面案例\n",
    "for i in range(0,4):\n",
    "    print('*' * 5)\n",
    "    print()"
   ]
  },
  {
   "cell_type": "code",
   "execution_count": 19,
   "metadata": {},
   "outputs": [
    {
     "name": "stdout",
     "output_type": "stream",
     "text": [
      "*****\n",
      "*****\n",
      "*****\n",
      "*****\n"
     ]
    }
   ],
   "source": [
    "for i in range(0,4):\n",
    "    print('*' * 5)\n"
   ]
  },
  {
   "cell_type": "code",
   "execution_count": 45,
   "metadata": {},
   "outputs": [
    {
     "name": "stdout",
     "output_type": "stream",
     "text": [
      "*****\n",
      "*   *\n",
      "*   *\n",
      "*****\n"
     ]
    }
   ],
   "source": [
    "#简单图形打印\n",
    "'''\n",
    "打印以下图形在输出\n",
    "*****\n",
    "*   *\n",
    "*   *\n",
    "*****\n",
    "'''\n",
    "'''\n",
    "思路：\n",
    "1.正常用for循环检测打印\n",
    "2.如果是第一行和最后一行，则完整打印\n",
    "3.否则，判断打印列，如果是第一列或者最后一列，则打印星号否则打印空格\n",
    "'''\n",
    "#外层循环控制行\n",
    "for i in range (4):\n",
    "    if i == 0 :\n",
    "        print('*'*5)\n",
    "    if i == 3:\n",
    "        print('*'*5)\n",
    "    if i == 2:\n",
    "        print(\"*   *\")\n",
    "    if i == 1:\n",
    "        print(\"*   *\")\n",
    "    "
   ]
  },
  {
   "cell_type": "code",
   "execution_count": 46,
   "metadata": {},
   "outputs": [
    {
     "name": "stdout",
     "output_type": "stream",
     "text": [
      "*****\n",
      "*   *\n",
      "*   *\n",
      "*****\n"
     ]
    }
   ],
   "source": [
    "#更改上面写法(1)\n",
    "for i in range(4):\n",
    "    if i == 0 or i == 3:\n",
    "        print('*'*5)\n",
    "    if i == 1 or i == 2:\n",
    "        print(\"*   *\")"
   ]
  },
  {
   "cell_type": "code",
   "execution_count": 49,
   "metadata": {},
   "outputs": [
    {
     "name": "stdout",
     "output_type": "stream",
     "text": [
      "*****\n",
      "*   *\n",
      "*   *\n",
      "*****\n"
     ]
    }
   ],
   "source": [
    "#更改上面写法(2)\n",
    "for i in range(4):\n",
    "    if i == 0 or i == 3:\n",
    "        print('*'*5)\n",
    "    if i == 1 or i == 2:\n",
    "        for j in range(5):\n",
    "            if j==0 or j==4:\n",
    "                print(\"*\", end='')\n",
    "            else:\n",
    "                print(\" \", end='')\n",
    "        print()"
   ]
  },
  {
   "cell_type": "code",
   "execution_count": 5,
   "metadata": {},
   "outputs": [
    {
     "name": "stdout",
     "output_type": "stream",
     "text": [
      "* \n",
      "* * \n",
      "* * * \n",
      "* * * * \n",
      "* * * * * \n"
     ]
    }
   ],
   "source": [
    "#for 逐渐打印，这件事基本一样或相似，优先考虑循环\n",
    "\n",
    "for i in range(5):\n",
    "    #打印一行\n",
    "    #每一行打印几个星号，跟行号相关\n",
    "    for j in range(i+1):\n",
    "        print(\"* \",end='')\n",
    "    print()\n"
   ]
  },
  {
   "cell_type": "code",
   "execution_count": null,
   "metadata": {
    "collapsed": true
   },
   "outputs": [],
   "source": [
    "'''\n",
    "#打印空心三角\n",
    "*\n",
    "**\n",
    "* *\n",
    "*  *\n",
    "*****\n",
    "'''"
   ]
  },
  {
   "cell_type": "code",
   "execution_count": 22,
   "metadata": {},
   "outputs": [
    {
     "name": "stdout",
     "output_type": "stream",
     "text": [
      "* \n",
      "* * \n",
      "* *   \n",
      "* *     \n",
      "* * * * * \n"
     ]
    }
   ],
   "source": [
    "#for循环\n",
    "#每一行打印几个星号，跟行号有关\n",
    "#需要判断打印的是否是最后一行，如果是，则打印全部星号\n",
    "#否则，需要判断是否第一个和最后一个位置，如果是打印星号，否则空格\n",
    "\n",
    "for i in range(5):\n",
    "    for j in range(i+1):\n",
    "        if i == 4:\n",
    "            print(\"* \",end=\"\")\n",
    "            continue\n",
    "        if j == 0 or j == 1:\n",
    "            print(\"* \",end=\"\")\n",
    "        else:\n",
    "            print(\"  \",end=\"\")\n",
    "    print()"
   ]
  },
  {
   "cell_type": "code",
   "execution_count": 52,
   "metadata": {},
   "outputs": [
    {
     "name": "stdout",
     "output_type": "stream",
     "text": [
      "* \n",
      "* * \n",
      "*   * \n",
      "*     * \n",
      "* * * * * \n"
     ]
    }
   ],
   "source": [
    "for i in range(5):\n",
    "    for j in range(i+1):\n",
    "        if i ==4:\n",
    "            print(\"* \",end=\"\")\n",
    "            continue\n",
    "        if j == 0 or j==i:\n",
    "            print(\"* \", end=\"\")\n",
    "        else:\n",
    "            print(\"  \", end=\"\")\n",
    "    print()"
   ]
  },
  {
   "cell_type": "code",
   "execution_count": 29,
   "metadata": {},
   "outputs": [
    {
     "name": "stdout",
     "output_type": "stream",
     "text": [
      "* \n",
      "* * \n",
      "* * * \n",
      "* * * * \n",
      "* * * * * \n"
     ]
    }
   ],
   "source": [
    "for i in range(5):\n",
    "    for j in range(i+1):\n",
    "        print(\"* \",end='')\n",
    "    print()"
   ]
  },
  {
   "cell_type": "code",
   "execution_count": null,
   "metadata": {
    "collapsed": true
   },
   "outputs": [],
   "source": [
    "# 打印倒立三角\n",
    "'''\n",
    "* * * * *\n",
    "* * * *\n",
    "* * * \n",
    "* *\n",
    "*\n",
    "'''"
   ]
  },
  {
   "cell_type": "code",
   "execution_count": 37,
   "metadata": {},
   "outputs": [
    {
     "name": "stdout",
     "output_type": "stream",
     "text": [
      "* * * * * \n",
      "* * * * \n",
      "* * * \n",
      "* * \n",
      "* \n"
     ]
    }
   ],
   "source": [
    "# i -for控制行号\n",
    "#j- for 控制列号\n",
    "#使用参数控制range结果\n",
    "for i in range(5):\n",
    "    for j in range(5-i):\n",
    "        print('* ',end='')\n",
    "    print()"
   ]
  },
  {
   "cell_type": "code",
   "execution_count": 50,
   "metadata": {},
   "outputs": [
    {
     "name": "stdout",
     "output_type": "stream",
     "text": [
      "range(0, 3)\n"
     ]
    }
   ],
   "source": [
    "a = range(3)\n",
    "print(a)"
   ]
  },
  {
   "cell_type": "code",
   "execution_count": 48,
   "metadata": {},
   "outputs": [
    {
     "name": "stdout",
     "output_type": "stream",
     "text": [
      "* * * * * \n",
      "* * * * \n",
      "* * * \n"
     ]
    }
   ],
   "source": [
    "for i in range(5,2,-1):\n",
    "    for j in range(i,0,-1):\n",
    "        print('* ',end='')\n",
    "    print()"
   ]
  },
  {
   "cell_type": "code",
   "execution_count": null,
   "metadata": {
    "collapsed": true
   },
   "outputs": [],
   "source": [
    "#打印倒空三角\n",
    "'''\n",
    "* * * * *\n",
    "*     *\n",
    "*   *\n",
    "* *\n",
    "*\n",
    "'''"
   ]
  },
  {
   "cell_type": "code",
   "execution_count": 67,
   "metadata": {},
   "outputs": [
    {
     "name": "stdout",
     "output_type": "stream",
     "text": [
      "* * * * * \n",
      "*     * \n",
      "*   * \n",
      "* * \n",
      "* \n"
     ]
    }
   ],
   "source": [
    "for i in range(5):\n",
    "    for j in range(5-i):\n",
    "        if i == 0:\n",
    "            print('* ',end='')\n",
    "            continue\n",
    "        if j==0 or j==5-i-1:\n",
    "            print('* ',end='')\n",
    "        else:\n",
    "            print('  ',end='')\n",
    "    print()"
   ]
  },
  {
   "cell_type": "code",
   "execution_count": 72,
   "metadata": {},
   "outputs": [
    {
     "name": "stdout",
     "output_type": "stream",
     "text": [
      "      * \n",
      "     * * \n",
      "    * * * \n",
      "   * * * * \n",
      "  * * * * * \n",
      " * * * * * * \n"
     ]
    }
   ],
   "source": [
    "#打印三角形，正三角形\n",
    "'''\n",
    "      * \n",
    "     * * \n",
    "    * * * \n",
    "   * * * * \n",
    "  * * * * * \n",
    " * * * * * * \n",
    "\n",
    "'''\n",
    "#i-for 控制行\n",
    "#j-for 控制列\n",
    "#总体思路，先打印一行空格，代表每一行星星前的空格\n",
    "#在不换行打印星号\n",
    "for i in range(6):\n",
    "    for j in range(6-i):\n",
    "        print(' ',end='')\n",
    "    \n",
    "    for m in range(i+1):\n",
    "        print(\"* \",end='')\n",
    "        \n",
    "    #打印完换行\n",
    "    print()\n",
    "        \n",
    "    "
   ]
  },
  {
   "cell_type": "code",
   "execution_count": 105,
   "metadata": {},
   "outputs": [
    {
     "name": "stdout",
     "output_type": "stream",
     "text": [
      "    * \n",
      "   * * \n",
      "  *   * \n",
      " *     * \n",
      "* * * * * \n"
     ]
    }
   ],
   "source": [
    "#打印空正三角\n",
    "'''\n",
    "'''\n",
    "for i in range(1,6):\n",
    "    #更改打印起始位置\n",
    "    for k in range(1,6-i):\n",
    "        print(end=' ')\n",
    "    #控制列，规则是第一行第一列，第二行第二列\n",
    "    for j in range (6-i,6):\n",
    "        if i ==5:\n",
    "            print('*',end=' ')\n",
    "            continue\n",
    "        if j==6-i or j==5:\n",
    "            print('*',end=' ')\n",
    "        else:\n",
    "            print(' ',end=' ')\n",
    "    print()\n",
    "    "
   ]
  },
  {
   "cell_type": "code",
   "execution_count": 104,
   "metadata": {},
   "outputs": [
    {
     "name": "stdout",
     "output_type": "stream",
     "text": [
      "    5 \n",
      "   4 4 \n",
      "  3   3 \n",
      " 2     2 \n",
      "1 1 1 1 1 \n"
     ]
    }
   ],
   "source": [
    "for i in range(1,6):\n",
    "    #更改打印起始位置\n",
    "    for k in range(1,6-i):\n",
    "        print(end=' ')\n",
    "    #控制列，规则是第一行第一列，第二行第二列\n",
    "    for j in range (6-i,6):\n",
    "        if i ==5:\n",
    "            print(6-i,end=' ')\n",
    "            continue\n",
    "        if j==6-i or j==5:\n",
    "            print(6-i,end=' ')\n",
    "        else:\n",
    "            print(' ',end=' ')\n",
    "    print()"
   ]
  },
  {
   "cell_type": "code",
   "execution_count": null,
   "metadata": {
    "collapsed": true
   },
   "outputs": [],
   "source": []
  }
 ],
 "metadata": {
  "kernelspec": {
   "display_name": "Python 3",
   "language": "python",
   "name": "python3"
  },
  "language_info": {
   "codemirror_mode": {
    "name": "ipython",
    "version": 3
   },
   "file_extension": ".py",
   "mimetype": "text/x-python",
   "name": "python",
   "nbconvert_exporter": "python",
   "pygments_lexer": "ipython3",
   "version": "3.6.3"
  }
 },
 "nbformat": 4,
 "nbformat_minor": 2
}
