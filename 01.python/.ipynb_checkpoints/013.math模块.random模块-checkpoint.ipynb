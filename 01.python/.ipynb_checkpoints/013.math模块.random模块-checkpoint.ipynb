{
 "cells": [
  {
   "cell_type": "markdown",
   "metadata": {},
   "source": [
    "# 数学模块"
   ]
  },
  {
   "cell_type": "code",
   "execution_count": null,
   "metadata": {
    "collapsed": true
   },
   "outputs": [],
   "source": [
    "import math "
   ]
  },
  {
   "cell_type": "code",
   "execution_count": 3,
   "metadata": {},
   "outputs": [
    {
     "name": "stdout",
     "output_type": "stream",
     "text": [
      "6\n",
      "6\n"
     ]
    }
   ],
   "source": [
    "# math.ceil() 向上取整操作\n",
    "print(math.ceil(5.01))\n",
    "print(math.ceil(5.9))"
   ]
  },
  {
   "cell_type": "code",
   "execution_count": 5,
   "metadata": {},
   "outputs": [
    {
     "name": "stdout",
     "output_type": "stream",
     "text": [
      "5\n",
      "5\n"
     ]
    }
   ],
   "source": [
    "# math.floor() 向下取整操作\n",
    "print(math.floor(5.01))\n",
    "print(math.floor(5.9))"
   ]
  },
  {
   "cell_type": "code",
   "execution_count": 7,
   "metadata": {},
   "outputs": [
    {
     "name": "stdout",
     "output_type": "stream",
     "text": [
      "['False', 'None', 'True', 'and', 'as', 'assert', 'break', 'class', 'continue', 'def', 'del', 'elif', 'else', 'except', 'finally', 'for', 'from', 'global', 'if', 'import', 'in', 'is', 'lambda', 'nonlocal', 'not', 'or', 'pass', 'raise', 'return', 'try', 'while', 'with', 'yield']\n"
     ]
    }
   ],
   "source": [
    "# 查看系统保留的关键字,不可以当变量名使用\n",
    "import keyword \n",
    "print(keyword.kwlist)"
   ]
  },
  {
   "cell_type": "code",
   "execution_count": 10,
   "metadata": {},
   "outputs": [
    {
     "name": "stdout",
     "output_type": "stream",
     "text": [
      "5\n",
      "6\n"
     ]
    }
   ],
   "source": [
    "#　round()  四舍五入  python 内置\n",
    "print(round(5.41))\n",
    "print(round(5.51))"
   ]
  },
  {
   "cell_type": "code",
   "execution_count": 11,
   "metadata": {},
   "outputs": [
    {
     "name": "stdout",
     "output_type": "stream",
     "text": [
      "2.0\n",
      "0.479425538604203\n"
     ]
    }
   ],
   "source": [
    "# math.sqrt 开平方  返回的是浮点数\n",
    "print(math.sqrt(4))"
   ]
  },
  {
   "cell_type": "code",
   "execution_count": 12,
   "metadata": {},
   "outputs": [
    {
     "name": "stdout",
     "output_type": "stream",
     "text": [
      "0.479425538604203\n"
     ]
    }
   ],
   "source": [
    "# 正弦\n",
    "print(math.sin(0.5))"
   ]
  },
  {
   "cell_type": "code",
   "execution_count": 14,
   "metadata": {},
   "outputs": [
    {
     "name": "stdout",
     "output_type": "stream",
     "text": [
      "64.0\n",
      "64\n"
     ]
    }
   ],
   "source": [
    "# math.pow() 与幂运算差不多,一算一个数的几次方,第一个参数是底数,第二个是指数  ->浮点数\n",
    "print(math.pow(4,3))\n",
    "#　幂运算             ->整形\n",
    "print(4**3)"
   ]
  },
  {
   "cell_type": "code",
   "execution_count": 17,
   "metadata": {},
   "outputs": [
    {
     "name": "stdout",
     "output_type": "stream",
     "text": [
      "1.0\n",
      "2.0\n"
     ]
    }
   ],
   "source": [
    "# dmath.fabs()对一个数值取绝对值   ->浮点数\n",
    "a = -1\n",
    "b = math.fabs(a)\n",
    "print(b)\n",
    "c = 2\n",
    "d = math.fabs(c)\n",
    "print(d)"
   ]
  },
  {
   "cell_type": "code",
   "execution_count": 22,
   "metadata": {},
   "outputs": [
    {
     "name": "stdout",
     "output_type": "stream",
     "text": [
      "1\n",
      "1.0\n"
     ]
    }
   ],
   "source": [
    "# abs() 获取绝对值操作   不是数学模块操作 是python内置函数  -> 返回值与本身的类型决定\n",
    "a = -1\n",
    "b = abs(a)\n",
    "print(b)\n",
    "\n",
    "a = -1.0\n",
    "b = abs(a)\n",
    "print(b)"
   ]
  },
  {
   "cell_type": "code",
   "execution_count": 26,
   "metadata": {},
   "outputs": [
    {
     "name": "stdout",
     "output_type": "stream",
     "text": [
      "17.0\n",
      "17\n",
      "3.0\n"
     ]
    }
   ],
   "source": [
    "# mayh.fsum 数学模块  对整个序列求和  ->浮点型\n",
    "# sum python 内置求和         -> 数据类型与本身相同\n",
    "print(math.fsum([1,4,5,7]))\n",
    "print(sum([1,4,5,7]))\n",
    "print(sum([1.0,2.0]))"
   ]
  },
  {
   "cell_type": "code",
   "execution_count": 28,
   "metadata": {},
   "outputs": [
    {
     "name": "stdout",
     "output_type": "stream",
     "text": [
      "(0.5, 4.0)\n"
     ]
    }
   ],
   "source": [
    "# math.modf() 讲一个浮点数拆分为整数和小数组成部分 组成的元祖 小数在前\n",
    "print(math.modf(4.5))"
   ]
  },
  {
   "cell_type": "code",
   "execution_count": 32,
   "metadata": {},
   "outputs": [
    {
     "name": "stdout",
     "output_type": "stream",
     "text": [
      "-2.0\n"
     ]
    }
   ],
   "source": [
    "# math.copysign() 将第二个数的符号(正符号) 传给第一个数 -> 返回第一个数的浮点数\n",
    "print(math.copysign(2,-3))"
   ]
  },
  {
   "cell_type": "markdown",
   "metadata": {},
   "source": [
    "# random模块"
   ]
  },
  {
   "cell_type": "code",
   "execution_count": 37,
   "metadata": {},
   "outputs": [
    {
     "name": "stdout",
     "output_type": "stream",
     "text": [
      "0.8817158885978711\n",
      "0.6666363154762694\n",
      "0.9776337156629045\n",
      "0.03034657459402368\n",
      "0.17793506470144116\n",
      "0.7269848930449736\n",
      "0.7577201439219365\n",
      "0.5656946903309044\n",
      "0.001985606004469398\n",
      "0.11027588885456907\n"
     ]
    }
   ],
   "source": [
    "# random.random() 获取0-1 之间的的随机小数,包含0 不包含1\n",
    "import random\n",
    "for i in range(10):\n",
    "    print(random.random())"
   ]
  },
  {
   "cell_type": "code",
   "execution_count": 40,
   "metadata": {},
   "outputs": [
    {
     "name": "stdout",
     "output_type": "stream",
     "text": [
      "1\n",
      "2\n",
      "2\n",
      "1\n",
      "2\n",
      "1\n",
      "1\n",
      "1\n",
      "1\n"
     ]
    }
   ],
   "source": [
    "# random.randint(self,a,b) 随机指定开始和结束之间的值 整数\n",
    "for i in range(1,10):\n",
    "    print(random.randint(1,2))"
   ]
  },
  {
   "cell_type": "code",
   "execution_count": 42,
   "metadata": {},
   "outputs": [
    {
     "name": "stdout",
     "output_type": "stream",
     "text": [
      "1\n",
      "1\n",
      "4\n",
      "1\n",
      "4\n",
      "7\n",
      "4\n",
      "7\n",
      "1\n",
      "7\n"
     ]
    }
   ],
   "source": [
    "# random.randrange() 获取指定开始和结束之间的值,可以指定间隔值\n",
    "for i in range(10):\n",
    "    print(random.randrange(1,10,3))"
   ]
  }
 ],
 "metadata": {
  "kernelspec": {
   "display_name": "Python 3",
   "language": "python",
   "name": "python3"
  },
  "language_info": {
   "codemirror_mode": {
    "name": "ipython",
    "version": 3
   },
   "file_extension": ".py",
   "mimetype": "text/x-python",
   "name": "python",
   "nbconvert_exporter": "python",
   "pygments_lexer": "ipython3",
   "version": "3.6.3"
  }
 },
 "nbformat": 4,
 "nbformat_minor": 2
}
