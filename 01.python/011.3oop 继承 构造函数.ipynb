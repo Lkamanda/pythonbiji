{
 "cells": [
  {
   "cell_type": "code",
   "execution_count": 4,
   "metadata": {},
   "outputs": [
    {
     "name": "stdout",
     "output_type": "stream",
     "text": [
      "(<class '__main__.A'>, <class 'object'>)\n",
      "(<class '__main__.B'>, <class '__main__.A'>, <class 'object'>)\n"
     ]
    }
   ],
   "source": [
    "class A():\n",
    "    pass\n",
    "class B(A):\n",
    "    pass\n",
    "# 多个父类 不建议使用，除非实在没办法\n",
    "class C(B,A):\n",
    "    pass\n",
    "# mro 为所有父类的一个列表\n",
    "print(A.__mro__)\n",
    "print(B.__mro__)\n"
   ]
  },
  {
   "cell_type": "code",
   "execution_count": 16,
   "metadata": {},
   "outputs": [
    {
     "name": "stdout",
     "output_type": "stream",
     "text": [
      "i can fly\n",
      "i can work\n",
      "i can swim\n",
      "i can work\n"
     ]
    }
   ],
   "source": [
    "# 多继承的例子\n",
    "# 子类可以直接拥有父类的索性方法，私有属性和方法除外\n",
    "class Fish():\n",
    "    def __init__(self,name):\n",
    "        self.name = name\n",
    "    def swim (self):\n",
    "        print('i can swim')\n",
    "class Bird ():\n",
    "    def __init__(self,name):\n",
    "        self.name = name \n",
    "    def fly(self):\n",
    "        print('i can fly')\n",
    "class Person ():\n",
    "    def __init__(self,name):\n",
    "        self.name = name \n",
    "    def work(self):\n",
    "        print('i can work')\n",
    "\n",
    "\n",
    "# 有顺序的\n",
    "class SuperMan(Fish,Bird,Person):\n",
    "    def __init__(self,name):\n",
    "        self.name = name \n",
    "\n",
    "s = SuperMan(\"xiaolin\")\n",
    "s.fly()\n",
    "s.work()\n",
    "s.swim()\n",
    "\n",
    "# 单继承例子\n",
    "class Student(Person):\n",
    "    def __init__(self,name):\n",
    "        # 构造函数称为魔法方法\n",
    "        self.name = name\n",
    "x = Student('lin')\n",
    "x.work()"
   ]
  },
  {
   "cell_type": "code",
   "execution_count": 18,
   "metadata": {},
   "outputs": [
    {
     "name": "stdout",
     "output_type": "stream",
     "text": [
      "(<class '__main__.D'>, <class '__main__.B'>, <class '__main__.C'>, <class '__main__.A'>, <class 'object'>)\n"
     ]
    }
   ],
   "source": [
    "# 菱形问题\n",
    "class A():\n",
    "    pass \n",
    "class B(A):\n",
    "    pass\n",
    "class C(A):\n",
    "    pass\n",
    "class D(B,C):\n",
    "    pass\n",
    "print(D.__mro__)\n"
   ]
  },
  {
   "cell_type": "code",
   "execution_count": 24,
   "metadata": {},
   "outputs": [
    {
     "name": "stdout",
     "output_type": "stream",
     "text": [
      "i am __init__\n"
     ]
    }
   ],
   "source": [
    "# 构造函数例子\n",
    "# 通常用来初始话\n",
    "\n",
    "class Person():\n",
    "    # 对Person类进行实例话的时候\n",
    "    # 姓名要确定\n",
    "    # 年龄要确定\n",
    "    # 地址肯定有\n",
    "    def __init__(self):\n",
    "        self.name = \"NoName\"\n",
    "        self.age = 18 \n",
    "        self.address ='home'\n",
    "        print ('i am __init__')\n",
    "    \n",
    "\n",
    "# 实例化一个人\n",
    "p = Person()"
   ]
  },
  {
   "cell_type": "code",
   "execution_count": 27,
   "metadata": {},
   "outputs": [
    {
     "name": "stdout",
     "output_type": "stream",
     "text": [
      "B\n"
     ]
    }
   ],
   "source": [
    "# 构造函数的调用顺序 -1 \n",
    "# 如果子类里没有写构造函数，则自动向上查找，直到找到位置\n",
    "class A():\n",
    "    def __init__(self):\n",
    "        print('A')\n",
    "class B(A):\n",
    "    def __init__(self):\n",
    "        print('B')\n",
    "\n",
    "class C(B):\n",
    "    pass \n",
    "# 此时，说先查找c的构造函数 ，按照 mro 向上查找父类的构造函数，直到找到为止 \n",
    "c = C()\n",
    "\n"
   ]
  },
  {
   "cell_type": "code",
   "execution_count": 30,
   "metadata": {},
   "outputs": [
    {
     "ename": "TypeError",
     "evalue": "__init__() missing 1 required positional argument: 'name'",
     "output_type": "error",
     "traceback": [
      "\u001b[0;31m---------------------------------------------------------------------------\u001b[0m",
      "\u001b[0;31mTypeError\u001b[0m                                 Traceback (most recent call last)",
      "\u001b[0;32m<ipython-input-30-3ca0829eaf30>\u001b[0m in \u001b[0;36m<module>\u001b[0;34m()\u001b[0m\n\u001b[1;32m     10\u001b[0m \u001b[0;32mclass\u001b[0m \u001b[0mC\u001b[0m\u001b[0;34m(\u001b[0m\u001b[0mB\u001b[0m\u001b[0;34m)\u001b[0m\u001b[0;34m:\u001b[0m\u001b[0;34m\u001b[0m\u001b[0m\n\u001b[1;32m     11\u001b[0m     \u001b[0;32mpass\u001b[0m\u001b[0;34m\u001b[0m\u001b[0m\n\u001b[0;32m---> 12\u001b[0;31m \u001b[0mc\u001b[0m \u001b[0;34m=\u001b[0m \u001b[0mC\u001b[0m\u001b[0;34m(\u001b[0m\u001b[0;34m)\u001b[0m\u001b[0;34m\u001b[0m\u001b[0m\n\u001b[0m",
      "\u001b[0;31mTypeError\u001b[0m: __init__() missing 1 required positional argument: 'name'"
     ]
    }
   ],
   "source": [
    "# 构造函数调用顺序  - 2 \n",
    "class A():\n",
    "    def __init__(self):\n",
    "        print('A')\n",
    "class B(A):\n",
    "    def __init__(self,name):\n",
    "        print('B')\n",
    "        print(name)\n",
    "# 此时，会出现参数结构不对应的错误\n",
    "class C(B):\n",
    "    pass \n",
    "c = C()\n",
    "# 报错提示 缺少参数 ，子类如果没有构造函数继承父类，参数列表一定和父类列表一致"
   ]
  },
  {
   "cell_type": "code",
   "execution_count": 33,
   "metadata": {},
   "outputs": [
    {
     "name": "stdout",
     "output_type": "stream",
     "text": [
      "B\n",
      "我是c\n",
      "这是C中附加的功能\n"
     ]
    }
   ],
   "source": [
    "# 构造函数调用顺序 -3 -1   第一种通过父类名调用 （通过调用父类的构造函数，再增加自己的\n",
    "# 的构造函数\n",
    "class A():\n",
    "    def __init__(self):\n",
    "        print('A')\n",
    "\n",
    "class B(A):\n",
    "    def __init__(self,name):\n",
    "        print('B')\n",
    "        print(name)\n",
    "\n",
    "class C(B):\n",
    "    # 此时想扩展构造函数\n",
    "    # 即调用B的构造函数后添加一些功能\n",
    "    # 有俩种方法实现\n",
    "    # 第一种通过 父类名调用\n",
    "    def __init__(self,name):\n",
    "        # 首先调用父类的构造函数，再增加自己的功能\n",
    "        B.__init__(self,name)\n",
    "        \n",
    "        print ('这是C中附加的功能')\n",
    "    pass\n",
    "\n",
    "c = C('我是c')\n"
   ]
  },
  {
   "cell_type": "code",
   "execution_count": null,
   "metadata": {
    "collapsed": true
   },
   "outputs": [],
   "source": [
    "# 构造函数调用顺序 - 3 -2 使用supper\n",
    "class A():\n",
    "    def __init__(self,name):\n",
    "        print ('A')\n",
    "        \n",
    "class B(A):\n",
    "    def __init__(self,name):\n",
    "        self.name = name \n",
    "        print (name)\n",
    "        print('B')\n",
    "    \n",
    "class C(B):\n",
    "    def __init__(self,name):\n",
    "        # 首先调用父类构造函数，其次增加自己的功能\n",
    "        super (C,self).__init__(name)\n",
    "        \n",
    "        "
   ]
  },
  {
   "cell_type": "markdown",
   "metadata": {},
   "source": [
    "# 多态"
   ]
  },
  {
   "cell_type": "code",
   "execution_count": 24,
   "metadata": {},
   "outputs": [
    {
     "name": "stdout",
     "output_type": "stream",
     "text": [
      "直立行走\n",
      "猪在爬\n",
      "dog is running\n"
     ]
    },
    {
     "ename": "TypeError",
     "evalue": "catching classes that do not inherit from BaseException is not allowed",
     "output_type": "error",
     "traceback": [
      "\u001b[0;31m---------------------------------------------------------------------------\u001b[0m",
      "\u001b[0;31mAttributeError\u001b[0m                            Traceback (most recent call last)",
      "\u001b[0;32m<ipython-input-24-3cda9b45f12e>\u001b[0m in \u001b[0;36mrun\u001b[0;34m(self, arg)\u001b[0m\n\u001b[1;32m     15\u001b[0m         \u001b[0;32mtry\u001b[0m\u001b[0;34m:\u001b[0m\u001b[0;34m\u001b[0m\u001b[0m\n\u001b[0;32m---> 16\u001b[0;31m             \u001b[0;32mraise\u001b[0m \u001b[0mAttributeError\u001b[0m\u001b[0;34m(\u001b[0m\u001b[0marg\u001b[0m\u001b[0;34m)\u001b[0m\u001b[0;34m\u001b[0m\u001b[0m\n\u001b[0m\u001b[1;32m     17\u001b[0m         \u001b[0;32mexcept\u001b[0m \u001b[0mAttributeError\u001b[0m\u001b[0;34m(\u001b[0m\u001b[0marg\u001b[0m\u001b[0;34m)\u001b[0m\u001b[0;34m:\u001b[0m\u001b[0;34m\u001b[0m\u001b[0m\n",
      "\u001b[0;31mAttributeError\u001b[0m: 9",
      "\nDuring handling of the above exception, another exception occurred:\n",
      "\u001b[0;31mTypeError\u001b[0m                                 Traceback (most recent call last)",
      "\u001b[0;32m<ipython-input-24-3cda9b45f12e>\u001b[0m in \u001b[0;36m<module>\u001b[0;34m()\u001b[0m\n\u001b[1;32m     33\u001b[0m \u001b[0mpeo1\u001b[0m\u001b[0;34m.\u001b[0m\u001b[0mrun\u001b[0m\u001b[0;34m(\u001b[0m\u001b[0;34m)\u001b[0m\u001b[0;34m\u001b[0m\u001b[0m\n\u001b[1;32m     34\u001b[0m \u001b[0mpig1\u001b[0m\u001b[0;34m.\u001b[0m\u001b[0mrun\u001b[0m\u001b[0;34m(\u001b[0m\u001b[0;34m)\u001b[0m\u001b[0;34m\u001b[0m\u001b[0m\n\u001b[0;32m---> 35\u001b[0;31m \u001b[0mdog\u001b[0m\u001b[0;34m.\u001b[0m\u001b[0mrun\u001b[0m\u001b[0;34m(\u001b[0m\u001b[0;36m9\u001b[0m\u001b[0;34m)\u001b[0m\u001b[0;34m\u001b[0m\u001b[0m\n\u001b[0m",
      "\u001b[0;32m<ipython-input-24-3cda9b45f12e>\u001b[0m in \u001b[0;36mrun\u001b[0;34m(self, arg)\u001b[0m\n\u001b[1;32m     15\u001b[0m         \u001b[0;32mtry\u001b[0m\u001b[0;34m:\u001b[0m\u001b[0;34m\u001b[0m\u001b[0m\n\u001b[1;32m     16\u001b[0m             \u001b[0;32mraise\u001b[0m \u001b[0mAttributeError\u001b[0m\u001b[0;34m(\u001b[0m\u001b[0marg\u001b[0m\u001b[0;34m)\u001b[0m\u001b[0;34m\u001b[0m\u001b[0m\n\u001b[0;32m---> 17\u001b[0;31m         \u001b[0;32mexcept\u001b[0m \u001b[0mAttributeError\u001b[0m\u001b[0;34m(\u001b[0m\u001b[0marg\u001b[0m\u001b[0;34m)\u001b[0m\u001b[0;34m:\u001b[0m\u001b[0;34m\u001b[0m\u001b[0m\n\u001b[0m\u001b[1;32m     18\u001b[0m             \u001b[0mprint\u001b[0m\u001b[0;34m(\u001b[0m\u001b[0marg\u001b[0m\u001b[0;34m)\u001b[0m\u001b[0;34m\u001b[0m\u001b[0m\n\u001b[1;32m     19\u001b[0m \u001b[0;34m\u001b[0m\u001b[0m\n",
      "\u001b[0;31mTypeError\u001b[0m: catching classes that do not inherit from BaseException is not allowed"
     ]
    }
   ],
   "source": [
    "class Animal:\n",
    "    def run (self,arg):\n",
    "        raise AttributeError('子类必须实现这个方法')    \n",
    "\n",
    "class people(Animal):\n",
    "    def run (self):\n",
    "        print ('直立行走')      \n",
    "class Pig(Animal):\n",
    "    def run (self):\n",
    "        print('猪在爬')\n",
    "\n",
    "class Dog(Animal):\n",
    "    def run(self,arg):\n",
    "        print('dog is running')\n",
    "        \n",
    "        \n",
    "    \n",
    "    \n",
    "    \n",
    "peo1 = people()\n",
    "pig1 = Pig()\n",
    "dog =  Dog()\n",
    "\n",
    "peo1.run()\n",
    "pig1.run()\n",
    "dog.run(9)\n"
   ]
  },
  {
   "cell_type": "code",
   "execution_count": 20,
   "metadata": {},
   "outputs": [
    {
     "name": "stdout",
     "output_type": "stream",
     "text": [
      "直立行走\n",
      "猪在爬\n",
      "dog is running\n"
     ]
    },
    {
     "ename": "NameError",
     "evalue": "name 'd1' is not defined",
     "output_type": "error",
     "traceback": [
      "\u001b[0;31m---------------------------------------------------------------------------\u001b[0m",
      "\u001b[0;31mNameError\u001b[0m                                 Traceback (most recent call last)",
      "\u001b[0;32m<ipython-input-20-62b089f7c368>\u001b[0m in \u001b[0;36m<module>\u001b[0;34m()\u001b[0m\n\u001b[1;32m      7\u001b[0m \u001b[0mfunc\u001b[0m\u001b[0;34m(\u001b[0m\u001b[0mdog\u001b[0m\u001b[0;34m)\u001b[0m\u001b[0;34m\u001b[0m\u001b[0m\n\u001b[1;32m      8\u001b[0m \u001b[0;34m\u001b[0m\u001b[0m\n\u001b[0;32m----> 9\u001b[0;31m \u001b[0mfunc\u001b[0m\u001b[0;34m(\u001b[0m\u001b[0md1\u001b[0m\u001b[0;34m)\u001b[0m\u001b[0;34m\u001b[0m\u001b[0m\n\u001b[0m",
      "\u001b[0;31mNameError\u001b[0m: name 'd1' is not defined"
     ]
    }
   ],
   "source": [
    "# 多态性调试\n",
    "# 多态性:定义统一接口\n",
    "def func(obj):#obj这个参数没有类型限制,可以传入不同的参数类型\n",
    "    obj.run() # 调用的漏记一样,执行的结果不一样\n",
    "func(peo1)\n",
    "func(pig1)\n",
    "func(dog)\n",
    "# 参数为obj 就是多态性的具体表现形式\n"
   ]
  },
  {
   "cell_type": "code",
   "execution_count": 5,
   "metadata": {},
   "outputs": [
    {
     "name": "stdout",
     "output_type": "stream",
     "text": [
      "(<class '__main__.Tutor'>, <class '__main__.Teacher'>, <class '__main__.Student'>, <class '__main__.Person'>, <class 'object'>)\n",
      "{}\n",
      "{'__module__': '__main__', '__doc__': None}\n"
     ]
    }
   ],
   "source": [
    "# 同过继承 方式 一层层传递\n",
    "class Person():\n",
    "    name = 'xiaolin'\n",
    "    age =22\n",
    "    def eat(self):\n",
    "        print('eating')\n",
    "    def drink(self):\n",
    "        print('drinking')\n",
    "    def sleep(self):\n",
    "        print('sleeping')\n",
    "class Teacher(Person):\n",
    "    def work(self):\n",
    "        print('working')\n",
    "\n",
    "class Student(Person):\n",
    "    def study(self):\n",
    "        print('studying')\n",
    "\n",
    "class Tutor (Teacher,Student):\n",
    "    pass \n",
    "t = Tutor()\n",
    "print(Tutor.__mro__)\n",
    "# 实例\n",
    "print(t.__dict__)\n",
    "# 类存放属性的字典  键为属性名,值为属性值\n",
    "print(Tutor.__dict__)"
   ]
  },
  {
   "cell_type": "code",
   "execution_count": 16,
   "metadata": {},
   "outputs": [
    {
     "name": "stdout",
     "output_type": "stream",
     "text": [
      "(<class '__main__.ZhujiaoM'>, <class '__main__.Person'>, <class '__main__.TeacherMinxin'>, <class '__main__.StudentMinxin'>, <class 'object'>)\n",
      "{}\n",
      "{'__module__': '__main__', '__doc__': None}\n",
      "mstudy\n"
     ]
    }
   ],
   "source": [
    "# 通过迷信的方式 多继承 减少了复杂的继承关系\n",
    "class TeacherMinxin():\n",
    "    def work(self):\n",
    "        print('mworking')\n",
    "\n",
    "class StudentMinxin():\n",
    "    def study(self):\n",
    "        print('mstudy')\n",
    "\n",
    "class ZhujiaoM(Person,TeacherMinxin,StudentMinxin):\n",
    "    pass \n",
    "d = ZhujiaoM()\n",
    "print(ZhujiaoM.__mro__)\n",
    "print(d.__dict__)\n",
    "print(ZhujiaoM.__dict__)\n",
    "d.study()"
   ]
  },
  {
   "cell_type": "code",
   "execution_count": 33,
   "metadata": {},
   "outputs": [
    {
     "name": "stdout",
     "output_type": "stream",
     "text": [
      "True\n",
      "False\n"
     ]
    },
    {
     "data": {
      "text/plain": [
       "True"
      ]
     },
     "execution_count": 33,
     "metadata": {},
     "output_type": "execute_result"
    }
   ],
   "source": [
    "# issubclass\n",
    "#　检测一个类是否是另一个类的子类\n",
    "print(issubclass(ZhujiaoM,Person))\n",
    "\n",
    "print(issubclass(StudentMinxin,Person))\n",
    "issubclass(ZhujiaoM,object)"
   ]
  },
  {
   "cell_type": "code",
   "execution_count": 37,
   "metadata": {},
   "outputs": [
    {
     "name": "stdout",
     "output_type": "stream",
     "text": [
      "True\n"
     ]
    },
    {
     "data": {
      "text/plain": [
       "False"
      ]
     },
     "execution_count": 37,
     "metadata": {},
     "output_type": "execute_result"
    }
   ],
   "source": [
    "# isinstance 检测一个对象是否是一个类的实例\n",
    "class A():\n",
    "    pass\n",
    "a = A()\n",
    "class B():\n",
    "    pass\n",
    "b= B()\n",
    "print(isinstance(a,A))\n",
    "isinstance(b,A)"
   ]
  },
  {
   "cell_type": "code",
   "execution_count": 53,
   "metadata": {
    "scrolled": true
   },
   "outputs": [
    {
     "name": "stdout",
     "output_type": "stream",
     "text": [
      "True\n"
     ]
    },
    {
     "data": {
      "text/plain": [
       "False"
      ]
     },
     "execution_count": 53,
     "metadata": {},
     "output_type": "execute_result"
    }
   ],
   "source": [
    "#　hasattr\n",
    "class A ():\n",
    "    name = 'xiaolin'\n",
    "a = A()       \n",
    "print(hasattr(a,\"name\"))\n",
    "\n",
    "class B():\n",
    "    age ='20'\n",
    "hasattr(a,\"age\")"
   ]
  },
  {
   "cell_type": "code",
   "execution_count": 54,
   "metadata": {},
   "outputs": [
    {
     "name": "stdout",
     "output_type": "stream",
     "text": [
      "Help on built-in function hasattr in module builtins:\n",
      "\n",
      "hasattr(obj, name, /)\n",
      "    Return whether the object has an attribute with the given name.\n",
      "    \n",
      "    This is done by calling getattr(obj, name) and catching AttributeError.\n",
      "\n"
     ]
    }
   ],
   "source": [
    "help(hasattr)"
   ]
  },
  {
   "cell_type": "code",
   "execution_count": 57,
   "metadata": {},
   "outputs": [
    {
     "name": "stdout",
     "output_type": "stream",
     "text": [
      "Help on built-in function setattr in module builtins:\n",
      "\n",
      "setattr(obj, name, value, /)\n",
      "    Sets the named attribute on the given object to the specified value.\n",
      "    \n",
      "    setattr(x, 'y', v) is equivalent to ``x.y = v''\n",
      "\n"
     ]
    }
   ],
   "source": [
    "help(setattr)"
   ]
  },
  {
   "cell_type": "code",
   "execution_count": 62,
   "metadata": {},
   "outputs": [
    {
     "name": "stdout",
     "output_type": "stream",
     "text": [
      "['__class__', '__delattr__', '__dict__', '__dir__', '__doc__', '__eq__', '__format__', '__ge__', '__getattribute__', '__gt__', '__hash__', '__init__', '__init_subclass__', '__le__', '__lt__', '__module__', '__ne__', '__new__', '__reduce__', '__reduce_ex__', '__repr__', '__setattr__', '__sizeof__', '__str__', '__subclasshook__', '__weakref__']\n"
     ]
    }
   ],
   "source": [
    "# dir 显示成员\n",
    "class A():\n",
    "    pass \n",
    "print(dir(A))\n",
    "a = A()\n"
   ]
  },
  {
   "cell_type": "code",
   "execution_count": 63,
   "metadata": {},
   "outputs": [
    {
     "data": {
      "text/plain": [
       "['__class__',\n",
       " '__delattr__',\n",
       " '__dict__',\n",
       " '__dir__',\n",
       " '__doc__',\n",
       " '__eq__',\n",
       " '__format__',\n",
       " '__ge__',\n",
       " '__getattribute__',\n",
       " '__gt__',\n",
       " '__hash__',\n",
       " '__init__',\n",
       " '__init_subclass__',\n",
       " '__le__',\n",
       " '__lt__',\n",
       " '__module__',\n",
       " '__ne__',\n",
       " '__new__',\n",
       " '__reduce__',\n",
       " '__reduce_ex__',\n",
       " '__repr__',\n",
       " '__setattr__',\n",
       " '__sizeof__',\n",
       " '__str__',\n",
       " '__subclasshook__',\n",
       " '__weakref__']"
      ]
     },
     "execution_count": 63,
     "metadata": {},
     "output_type": "execute_result"
    }
   ],
   "source": [
    "dir(a)"
   ]
  }
 ],
 "metadata": {
  "kernelspec": {
   "display_name": "Python 3",
   "language": "python",
   "name": "python3"
  },
  "language_info": {
   "codemirror_mode": {
    "name": "ipython",
    "version": 3
   },
   "file_extension": ".py",
   "mimetype": "text/x-python",
   "name": "python",
   "nbconvert_exporter": "python",
   "pygments_lexer": "ipython3",
   "version": "3.6.3"
  }
 },
 "nbformat": 4,
 "nbformat_minor": 2
}
