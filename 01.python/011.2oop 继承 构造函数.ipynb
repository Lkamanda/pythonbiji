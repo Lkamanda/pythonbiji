{
 "cells": [
  {
   "cell_type": "code",
   "execution_count": 34,
   "metadata": {
    "collapsed": true
   },
   "outputs": [],
   "source": [
    "# 继承的语法\n",
    "# 在python 中任何类都有一个共同的父类叫object\n",
    "# 如果括号里没有，也存在默认的为 object\n",
    "class Person():\n",
    "    name = \"NoName\"\n",
    "    age = 0\n",
    "    __score = 0 # 考试成绩是秘密，只要自己知道\n",
    "    _petname = \"sec\" #小明，是保护的，子类可以用，但不能公用\n",
    "    def sleeep(self):\n",
    "        print(\"sleep..\")\n",
    "#父类写在括号内\n",
    "class Teacher(Person):\n",
    "    teacher_id = '5555'\n",
    "    def make_test(self):\n",
    "        print(\"attention\")"
   ]
  },
  {
   "cell_type": "code",
   "execution_count": 35,
   "metadata": {},
   "outputs": [
    {
     "name": "stdout",
     "output_type": "stream",
     "text": [
      "NoName\n",
      "NoName\n",
      "sec\n"
     ]
    }
   ],
   "source": [
    "# 除Person 私有属性 Teacher 都具有\n",
    "\n",
    "t = Teacher()\n",
    "print(t.name)\n",
    "print(Teacher.name)\n",
    "\n",
    "# 受保护的不能外部访问，为啥这里可以\n",
    "print(t._petname)"
   ]
  },
  {
   "cell_type": "code",
   "execution_count": 22,
   "metadata": {},
   "outputs": [
    {
     "name": "stdout",
     "output_type": "stream",
     "text": [
      "{'__module__': '__main__', 'name': 'NoName', 'age': 0, '_Person__score': 0, '_petname': 'sec', 'sleeep': <function Person.sleeep at 0x7f790c01d8c8>, '__dict__': <attribute '__dict__' of 'Person' objects>, '__weakref__': <attribute '__weakref__' of 'Person' objects>, '__doc__': None}\n"
     ]
    }
   ],
   "source": [
    "print(Person.__dict__)"
   ]
  },
  {
   "cell_type": "code",
   "execution_count": 29,
   "metadata": {},
   "outputs": [
    {
     "ename": "AttributeError",
     "evalue": "'Teacher' object has no attribute '__socre'",
     "output_type": "error",
     "traceback": [
      "\u001b[0;31m---------------------------------------------------------------------------\u001b[0m",
      "\u001b[0;31mAttributeError\u001b[0m                            Traceback (most recent call last)",
      "\u001b[0;32m<ipython-input-29-bb69ed48b672>\u001b[0m in \u001b[0;36m<module>\u001b[0;34m()\u001b[0m\n\u001b[1;32m      1\u001b[0m \u001b[0;31m# 私有访问问题\u001b[0m\u001b[0;34m\u001b[0m\u001b[0;34m\u001b[0m\u001b[0m\n\u001b[0;32m----> 2\u001b[0;31m \u001b[0mprint\u001b[0m\u001b[0;34m(\u001b[0m\u001b[0mt\u001b[0m\u001b[0;34m.\u001b[0m\u001b[0m__socre\u001b[0m\u001b[0;34m)\u001b[0m\u001b[0;34m\u001b[0m\u001b[0m\n\u001b[0m",
      "\u001b[0;31mAttributeError\u001b[0m: 'Teacher' object has no attribute '__socre'"
     ]
    }
   ],
   "source": [
    "# 私有访问问题\n",
    "print(t.__socre)"
   ]
  },
  {
   "cell_type": "code",
   "execution_count": 30,
   "metadata": {},
   "outputs": [
    {
     "name": "stdout",
     "output_type": "stream",
     "text": [
      "0\n"
     ]
    }
   ],
   "source": [
    "# 强行访问私有属性\n",
    "print(t._Person__score)"
   ]
  },
  {
   "cell_type": "code",
   "execution_count": 38,
   "metadata": {},
   "outputs": [
    {
     "name": "stdout",
     "output_type": "stream",
     "text": [
      "5555\n",
      "attention\n"
     ]
    }
   ],
   "source": [
    "# 子类中可以有自己独有的东西\n",
    "print(t.teacher_id)\n",
    "t.make_test()"
   ]
  },
  {
   "cell_type": "code",
   "execution_count": 42,
   "metadata": {},
   "outputs": [
    {
     "name": "stdout",
     "output_type": "stream",
     "text": [
      "xiaolin\n"
     ]
    }
   ],
   "source": [
    "# 子类和父类定义同一个变量名称，则有限使用子类本身\n",
    "class Person():\n",
    "    name = \"NoName\"\n",
    "    age = 0\n",
    "    __score = 0 # 考试成绩是秘密，只要自己知道\n",
    "    _petname = \"sec\" #小明，是保护的，子类可以用，但不能公用\n",
    "    def sleeep(self):\n",
    "        print(\"sleep..\")\n",
    "        \n",
    "#父类写在括号内\n",
    "class Teacher(Person):\n",
    "    name = 'xiaolin'\n",
    "    teacher_id = '5555'\n",
    "    def make_test(self):\n",
    "        print(\"attention\")\n",
    "\n",
    "t = Teacher()\n",
    "print(t.name)\n",
    "# 谁离我近我用谁"
   ]
  },
  {
   "cell_type": "code",
   "execution_count": 50,
   "metadata": {},
   "outputs": [
    {
     "name": "stdout",
     "output_type": "stream",
     "text": [
      "make some money\n",
      "attention\n"
     ]
    }
   ],
   "source": [
    "#　子类扩充父类功能的案例\n",
    "# 人有工作函数 ， 老师也有工作的函数，但老师的工作需要讲课\n",
    "class Person():\n",
    "    name = \"NoName\"\n",
    "    age = 0\n",
    "    __score = 0 # 考试成绩是秘密，只要自己知道\n",
    "    _petname = \"sec\" #小明，是保护的，子类可以用，但不能公用\n",
    "    def sleeep(self):\n",
    "        print(\"sleep..\")\n",
    "    def work(self):\n",
    "        print('make some money')\n",
    "        \n",
    "#父类写在括号内\n",
    "class Teacher(Person):\n",
    "    name = 'xiaolin'\n",
    "    teacher_id = '5555'\n",
    "    def make_test(self):\n",
    "        print(\"attention\")\n",
    "    def work(self):\n",
    "\n",
    "        #扩充父类功能 需要调用父类相应的函数  （把父类的功能拿来使用）\n",
    "        # 父类名.父类成员\n",
    "        #Person.work(self)\n",
    "        \n",
    "        #　super代表的到父类\n",
    "        super().work()\n",
    "        self.make_test()\n",
    "t = Teacher()\n",
    "t.work()"
   ]
  },
  {
   "cell_type": "code",
   "execution_count": null,
   "metadata": {
    "collapsed": true
   },
   "outputs": [],
   "source": [
    "a = Person()\n",
    "a.work()"
   ]
  },
  {
   "cell_type": "code",
   "execution_count": 52,
   "metadata": {},
   "outputs": [
    {
     "name": "stdout",
     "output_type": "stream",
     "text": [
      "i am a dog\n"
     ]
    }
   ],
   "source": [
    "# 构造函数的概念\n",
    "class Dog():\n",
    "    # __init__就是构造函数\n",
    "    #每次实例化的时候，第一个被调用\n",
    "    # 因为主要工作就是进行初始话，所以得名\n",
    "    def __init__(self):\n",
    "        print('i am a dog')\n",
    "xiaojun = Dog()\n"
   ]
  },
  {
   "cell_type": "code",
   "execution_count": 53,
   "metadata": {},
   "outputs": [
    {
     "name": "stdout",
     "output_type": "stream",
     "text": [
      "i am a dog\n"
     ]
    }
   ],
   "source": [
    "# 继承中的构造函数  -1\n",
    "\n",
    "class Animal():\n",
    "    pass\n",
    "class PaxingAni(Animal):\n",
    "    pass \n",
    "class Dog(PaxingAni):\n",
    "    def __init__(self):\n",
    "        print('i am a dog')\n",
    "        \n",
    "# 实例话的时候，括号内的参数需要跟构造函数参数匹配\n",
    "xiaojun = Dog()"
   ]
  },
  {
   "cell_type": "code",
   "execution_count": 57,
   "metadata": {},
   "outputs": [
    {
     "name": "stdout",
     "output_type": "stream",
     "text": [
      "我是动物\n",
      "i am a dog\n",
      "Paxing Dongwu\n"
     ]
    }
   ],
   "source": [
    "# 继承中的构造函数  -2\n",
    "\n",
    "class Animal():\n",
    "    print('我是动物')\n",
    "\n",
    "class PaxingAni(Animal):\n",
    "    def __init__(self):\n",
    "        print('Paxing Dongwu')\n",
    "\n",
    "class Dog(PaxingAni):\n",
    "    def __init__(self):\n",
    "        print('i am a dog')\n",
    "        \n",
    "# 实例话的时候，括号内的参数需要跟构造函数参数匹配\n",
    "# 因为找到了父类的构造函数，则不在查找\n",
    "xiaojun = Dog()\n",
    "\n",
    "# Cat 没有写构造函数\n",
    "class Cat (PaxingAni):\n",
    "    pass\n",
    "\n",
    "# 此时应该自动调用构造函数，因为Cat没有构造函数，所以查找父类构造函数 \n",
    "# 在PaxingAni中查找到了构造函数，则停止向上查找\n",
    "# 如果找不到构造函数则，继续向上一级查找\n",
    "c = Cat()"
   ]
  },
  {
   "cell_type": "code",
   "execution_count": 61,
   "metadata": {},
   "outputs": [
    {
     "name": "stdout",
     "output_type": "stream",
     "text": [
      "i am a dog\n"
     ]
    }
   ],
   "source": [
    "# 继承中的构造函数  -3\n",
    "\n",
    "class Animal():\n",
    "    def __init__(self):\n",
    "        print('我是动物')\n",
    "\n",
    "# PaxingAni有参数\n",
    "class PaxingAni(Animal):\n",
    "    def __init__(self,name):\n",
    "        print('Paxing Dongwu {0}'.format(name))\n",
    "\n",
    "class Dog(PaxingAni):\n",
    "    def __init__(self):\n",
    "        print('i am a dog')\n",
    "class Cat (PaxingAni):\n",
    "    pass\n",
    "\n",
    "# 实例化Dog时 查找到Dog的构造函数，参数不匹配，不报错\n",
    "d = Dog() \n"
   ]
  },
  {
   "cell_type": "code",
   "execution_count": 65,
   "metadata": {},
   "outputs": [
    {
     "ename": "TypeError",
     "evalue": "__init__() missing 1 required positional argument: 'name'",
     "output_type": "error",
     "traceback": [
      "\u001b[0;31m---------------------------------------------------------------------------\u001b[0m",
      "\u001b[0;31mTypeError\u001b[0m                                 Traceback (most recent call last)",
      "\u001b[0;32m<ipython-input-65-54911734938e>\u001b[0m in \u001b[0;36m<module>\u001b[0;34m()\u001b[0m\n\u001b[1;32m      1\u001b[0m \u001b[0;31m# 此时，由于Cat 没有构造函数，则向上查找\u001b[0m\u001b[0;34m\u001b[0m\u001b[0;34m\u001b[0m\u001b[0m\n\u001b[1;32m      2\u001b[0m \u001b[0;31m# 因为PaxingAni的构造函数需要俩个参数，实例化的时候给了一个，报错\u001b[0m\u001b[0;34m\u001b[0m\u001b[0;34m\u001b[0m\u001b[0m\n\u001b[0;32m----> 3\u001b[0;31m \u001b[0mc\u001b[0m \u001b[0;34m=\u001b[0m \u001b[0mCat\u001b[0m\u001b[0;34m(\u001b[0m\u001b[0;34m)\u001b[0m\u001b[0;34m\u001b[0m\u001b[0m\n\u001b[0m",
      "\u001b[0;31mTypeError\u001b[0m: __init__() missing 1 required positional argument: 'name'"
     ]
    }
   ],
   "source": [
    "# 此时，由于Cat 没有构造函数，则向上查找\n",
    "# 因为PaxingAni的构造函数需要俩个参数，实例化的时候给了一个，报错\n",
    "c = Cat()"
   ]
  },
  {
   "cell_type": "code",
   "execution_count": 67,
   "metadata": {},
   "outputs": [
    {
     "name": "stdout",
     "output_type": "stream",
     "text": [
      "我是动物\n"
     ]
    }
   ],
   "source": [
    "# 继承中的构造函数  -4\n",
    "\n",
    "class Animal():\n",
    "    def __init__(self):\n",
    "        print('我是动物')\n",
    "\n",
    "# PaxingAni有参数\n",
    "class PaxingAni(Animal):\n",
    "    pass\n",
    "\n",
    "class Dog(PaxingAni):\n",
    "    pass\n",
    "class Cat (PaxingAni):\n",
    "    pass\n",
    "c = Cat()"
   ]
  },
  {
   "cell_type": "code",
   "execution_count": 69,
   "metadata": {},
   "outputs": [
    {
     "name": "stdout",
     "output_type": "stream",
     "text": [
      "<class 'type'>\n",
      "Help on class super in module builtins:\n",
      "\n",
      "class super(object)\n",
      " |  super() -> same as super(__class__, <first argument>)\n",
      " |  super(type) -> unbound super object\n",
      " |  super(type, obj) -> bound super object; requires isinstance(obj, type)\n",
      " |  super(type, type2) -> bound super object; requires issubclass(type2, type)\n",
      " |  Typical use to call a cooperative superclass method:\n",
      " |  class C(B):\n",
      " |      def meth(self, arg):\n",
      " |          super().meth(arg)\n",
      " |  This works for class methods too:\n",
      " |  class C(B):\n",
      " |      @classmethod\n",
      " |      def cmeth(cls, arg):\n",
      " |          super().cmeth(arg)\n",
      " |  \n",
      " |  Methods defined here:\n",
      " |  \n",
      " |  __get__(self, instance, owner, /)\n",
      " |      Return an attribute of instance, which is of type owner.\n",
      " |  \n",
      " |  __getattribute__(self, name, /)\n",
      " |      Return getattr(self, name).\n",
      " |  \n",
      " |  __init__(self, /, *args, **kwargs)\n",
      " |      Initialize self.  See help(type(self)) for accurate signature.\n",
      " |  \n",
      " |  __new__(*args, **kwargs) from builtins.type\n",
      " |      Create and return a new object.  See help(type) for accurate signature.\n",
      " |  \n",
      " |  __repr__(self, /)\n",
      " |      Return repr(self).\n",
      " |  \n",
      " |  ----------------------------------------------------------------------\n",
      " |  Data descriptors defined here:\n",
      " |  \n",
      " |  __self__\n",
      " |      the instance invoking super(); may be None\n",
      " |  \n",
      " |  __self_class__\n",
      " |      the type of the instance invoking super(); may be None\n",
      " |  \n",
      " |  __thisclass__\n",
      " |      the class invoking super()\n",
      "\n"
     ]
    }
   ],
   "source": [
    "print(type(super))\n",
    "help (super)"
   ]
  },
  {
   "cell_type": "code",
   "execution_count": null,
   "metadata": {
    "collapsed": true
   },
   "outputs": [],
   "source": [
    "a = [[1,2,3],[3,4,5],[7,8,9]]\n",
    "s = 0 \n",
    "for c in a:\n",
    "    for j in range(3):\n",
    "        s += c[j]\n",
    "print(s)"
   ]
  }
 ],
 "metadata": {
  "kernelspec": {
   "display_name": "Python 3",
   "language": "python",
   "name": "python3"
  },
  "language_info": {
   "codemirror_mode": {
    "name": "ipython",
    "version": 3
   },
   "file_extension": ".py",
   "mimetype": "text/x-python",
   "name": "python",
   "nbconvert_exporter": "python",
   "pygments_lexer": "ipython3",
   "version": "3.6.3"
  }
 },
 "nbformat": 4,
 "nbformat_minor": 2
}
