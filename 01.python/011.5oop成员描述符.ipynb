{
 "cells": [
  {
   "cell_type": "code",
   "execution_count": 11,
   "metadata": {},
   "outputs": [
    {
     "name": "stdout",
     "output_type": "stream",
     "text": [
      "小林\n"
     ]
    }
   ],
   "source": [
    "#变量的三种用法\n",
    "class A():\n",
    "    def __init__(self,):\n",
    "        self.name = 'Nonename'\n",
    "        self.age = 19\n",
    "a = A()\n",
    "# 属性的三种方法\n",
    "#　１．赋值\n",
    "#  2.读取\n",
    "#  3.删除 \n",
    "a.name = '小林'\n",
    "print(a.name)\n",
    "del a.name\n",
    "# print (a.name)\n"
   ]
  },
  {
   "cell_type": "code",
   "execution_count": 15,
   "metadata": {},
   "outputs": [
    {
     "name": "stdout",
     "output_type": "stream",
     "text": [
      "Noname\n",
      "我被读取了\n",
      "Noname\n"
     ]
    }
   ],
   "source": [
    "# 类属性\n",
    "#应用场景：\n",
    "# 对于除了普通的三种操作,还想添加一些附加的操作,那么可以通过property完成\n",
    "class A():\n",
    "    def __init__(self):\n",
    "        self.name = 'Noname'\n",
    "        self.age = 18\n",
    "    # 此功能,是对变量进行的读取操作的适合应该执行的函数功能\n",
    "    def fget (self):\n",
    "        print('我被读取了')\n",
    "        return self.name\n",
    "    def fset (self):\n",
    "        print('我被写入了,但是还可以添加功能')\n",
    "        self.name = '我的名字是:' + name \n",
    "    # 模拟删除变量时进行的操作\n",
    "    def fdel(self):\n",
    "        pass \n",
    "    \n",
    "    # property 的四个参数顺序是固定的\n",
    "    #　第一个参数代表读取的时候需要调用的函数\n",
    "    # 第二个参数代表写入的适合需要调用的函数\n",
    "    #　第三个是删除\n",
    "    name2 = property(fget,fset,fdel,'这是一个说明文档')\n",
    "\n",
    "a = A()\n",
    "print(a.name)\n",
    "\n",
    "print(a.name2)\n",
    "\n",
    "        \n",
    "    "
   ]
  },
  {
   "cell_type": "code",
   "execution_count": 2,
   "metadata": {},
   "outputs": [
    {
     "name": "stdout",
     "output_type": "stream",
     "text": [
      " 闻味道\n",
      " 闻味道\n"
     ]
    }
   ],
   "source": [
    "# 抽象\n",
    "# 规范类,方便以后继承使用\n",
    "class Animal():\n",
    "    def sayHello(self):\n",
    "        print(' 闻味道')\n",
    "\n",
    "class Person (Animal):\n",
    "    pass \n",
    "\n",
    "class Dog(Animal):\n",
    "    pass \n",
    "d = Dog()\n",
    "d.sayHello()\n",
    "\n",
    "\n",
    "p = Person()\n",
    "p.sayHello()"
   ]
  },
  {
   "cell_type": "code",
   "execution_count": 7,
   "metadata": {},
   "outputs": [
    {
     "name": "stdout",
     "output_type": "stream",
     "text": [
      "hello\n"
     ]
    }
   ],
   "source": [
    "# 所以干脆不在父类上实现,在子类中实现\n",
    "class Animal():\n",
    "    #　表明了父类应该具有的功能\n",
    "    # 意义:符类没有明确的功能功能,子类必须实现否则报错\n",
    "    def sayHello(self):\n",
    "        pass\n",
    "\n",
    "class Person (Animal):\n",
    "    print('hello')\n",
    "\n",
    "class Dog(Animal):\n",
    "    pass\n",
    "d = Dog()\n",
    "d.sayHello()\n",
    "\n",
    "\n",
    "p = Person()\n",
    "p.sayHello()"
   ]
  },
  {
   "cell_type": "code",
   "execution_count": 10,
   "metadata": {
    "collapsed": true
   },
   "outputs": [],
   "source": [
    "# 抽象类的实现 \n",
    "import abc\n",
    "\n",
    "# 声明一个类并且指定当前类的原类\n",
    "\n",
    "# 只要是抽象的都是未实现的 只需要用pass \n",
    "class Human(metaclass = abc.ABCMeta):\n",
    "    \n",
    "    # 定义一个抽象方法\n",
    "    @abc.abstractmethod\n",
    "    \n",
    "    def smoking(self):\n",
    "        pass \n",
    "    \n",
    "    # 定义类的抽象方法\n",
    "    \n",
    "    @abc.abstractclassmethod\n",
    "    def drink():\n",
    "        pass\n",
    "    \n",
    "    # 定义静态的抽象方法\n",
    "    @abc.abstractstaticmethod\n",
    "    \n",
    "    def play():\n",
    "        pass \n",
    "    \n",
    "    def sleep(self):\n",
    "        print('sleeping')"
   ]
  },
  {
   "cell_type": "code",
   "execution_count": 22,
   "metadata": {},
   "outputs": [
    {
     "name": "stdout",
     "output_type": "stream",
     "text": [
      "saying\n",
      "saying\n",
      "saying\n"
     ]
    }
   ],
   "source": [
    "# 自己组装一个类\n",
    "\n",
    "class A ():\n",
    "    pass \n",
    "\n",
    "def say(self):\n",
    "        print('saying')\n",
    "say(9)\n",
    "\n",
    "# 函数名称可以当变量使用\n",
    "\n",
    "A.say = say \n",
    "\n",
    "a = A()\n",
    "a.say()\n",
    "# 显示类的成员\n",
    "dir(A)\n",
    "\n",
    "class B():\n",
    "    def say(self):\n",
    "        print('saying')\n",
    "b = B()\n",
    "b.say()\n",
    "\n",
    "# 三种实现是一样的  看着想面向对象 实则是家乡"
   ]
  },
  {
   "cell_type": "code",
   "execution_count": 47,
   "metadata": {},
   "outputs": [
    {
     "name": "stdout",
     "output_type": "stream",
     "text": [
      "saying\n"
     ]
    }
   ],
   "source": [
    "#　类的实例　－　２\n",
    "# 自己组装一个类\n",
    "from types import MethodType\n",
    "\n",
    "class A ():\n",
    "    pass \n",
    "\n",
    "def say(self):\n",
    "    print('saying')\n",
    "\n",
    "a = A()\n",
    "\n",
    "# 通过 MethodType()绑定到一块 俩个参数 , 一个是 有功能的对象 , 你个是待绑定的\n",
    "a.say = MethodType(say,A)\n",
    "a.say() \n",
    "# 缺少参数"
   ]
  },
  {
   "cell_type": "code",
   "execution_count": 49,
   "metadata": {
    "scrolled": true
   },
   "outputs": [
    {
     "name": "stdout",
     "output_type": "stream",
     "text": [
      "Help on class method in module builtins:\n",
      "\n",
      "class method(object)\n",
      " |  method(function, instance)\n",
      " |  \n",
      " |  Create a bound instance method object.\n",
      " |  \n",
      " |  Methods defined here:\n",
      " |  \n",
      " |  __call__(self, /, *args, **kwargs)\n",
      " |      Call self as a function.\n",
      " |  \n",
      " |  __delattr__(self, name, /)\n",
      " |      Implement delattr(self, name).\n",
      " |  \n",
      " |  __eq__(self, value, /)\n",
      " |      Return self==value.\n",
      " |  \n",
      " |  __ge__(self, value, /)\n",
      " |      Return self>=value.\n",
      " |  \n",
      " |  __get__(self, instance, owner, /)\n",
      " |      Return an attribute of instance, which is of type owner.\n",
      " |  \n",
      " |  __getattribute__(self, name, /)\n",
      " |      Return getattr(self, name).\n",
      " |  \n",
      " |  __gt__(self, value, /)\n",
      " |      Return self>value.\n",
      " |  \n",
      " |  __hash__(self, /)\n",
      " |      Return hash(self).\n",
      " |  \n",
      " |  __le__(self, value, /)\n",
      " |      Return self<=value.\n",
      " |  \n",
      " |  __lt__(self, value, /)\n",
      " |      Return self<value.\n",
      " |  \n",
      " |  __ne__(self, value, /)\n",
      " |      Return self!=value.\n",
      " |  \n",
      " |  __new__(*args, **kwargs) from builtins.type\n",
      " |      Create and return a new object.  See help(type) for accurate signature.\n",
      " |  \n",
      " |  __reduce__(...)\n",
      " |      helper for pickle\n",
      " |  \n",
      " |  __repr__(self, /)\n",
      " |      Return repr(self).\n",
      " |  \n",
      " |  __setattr__(self, name, value, /)\n",
      " |      Implement setattr(self, name, value).\n",
      " |  \n",
      " |  ----------------------------------------------------------------------\n",
      " |  Data descriptors defined here:\n",
      " |  \n",
      " |  __func__\n",
      " |      the function (or other callable) implementing a method\n",
      " |  \n",
      " |  __self__\n",
      " |      the instance to which a method is bound\n",
      "\n"
     ]
    }
   ],
   "source": [
    "help (MethodType)"
   ]
  },
  {
   "cell_type": "code",
   "execution_count": 20,
   "metadata": {},
   "outputs": [
    {
     "name": "stdout",
     "output_type": "stream",
     "text": [
      "小林您好\n",
      "小军您好\n"
     ]
    }
   ],
   "source": [
    "# 函数可以当变量使用\n",
    "\n",
    "def sayHello(name):\n",
    "    print('{0}您好'.format(name))\n",
    "    \n",
    "sayHello('小林')\n",
    "\n",
    "# 同时指向同一个函数\n",
    "liumang = sayHello\n",
    "\n",
    "liumang('小军')\n",
    "\n"
   ]
  },
  {
   "cell_type": "code",
   "execution_count": 2,
   "metadata": {},
   "outputs": [
    {
     "data": {
      "text/plain": [
       "int"
      ]
     },
     "execution_count": 2,
     "metadata": {},
     "output_type": "execute_result"
    }
   ],
   "source": [
    "type(9) \n",
    "#返回对象的类型\n"
   ]
  },
  {
   "cell_type": "code",
   "execution_count": 15,
   "metadata": {},
   "outputs": [
    {
     "name": "stdout",
     "output_type": "stream",
     "text": [
      "saying\n"
     ]
    }
   ],
   "source": [
    "# 利用 type 造一个类\n",
    "# 先定义类应该据有的成员函数\n",
    "\n",
    "# A = type (object_or_name, bases , dict)\n",
    "                           #父类     属性\n",
    "\n",
    "def say(self):\n",
    "    print('saying')\n",
    "def take(self):\n",
    "    print('taking')\n",
    "\n",
    "# 利用创建一个类\n",
    "A = type ('AName',(object, ), {'class_say': say, 'class_talk': take})\n",
    "          # 名字                 父类 是元祖类型            字典类型\n",
    "# 然后可以想正常访问一样使用 \n",
    "a = A()\n",
    "dir(a)\n",
    "a.class_say()\n",
    "    "
   ]
  },
  {
   "cell_type": "code",
   "execution_count": 28,
   "metadata": {},
   "outputs": [
    {
     "name": "stdout",
     "output_type": "stream",
     "text": [
      "i am yuanlei\n"
     ]
    },
    {
     "data": {
      "text/plain": [
       "'000000'"
      ]
     },
     "execution_count": 28,
     "metadata": {},
     "output_type": "execute_result"
    }
   ],
   "source": [
    "#  元类是固定的`\n",
    "\n",
    "# 元类写法是固定的,它必须继承子 type \n",
    "\n",
    "# 约定俗成以MetaClass结尾\n",
    "\n",
    "class LinMetaClass(type):\n",
    "    def __new__(cls, name, bases, attrs):\n",
    "        # 自己的业务处理\n",
    "        \n",
    "        print('i am yuanlei')\n",
    "        \n",
    "        attrs['id'] = '000000'\n",
    "        attrs['addr']  = '西二旗'\n",
    "        return type.__new__(cls, name, bases, attrs)\n",
    "    \n",
    "# 元类定义完了就可以使用,使用注意写法\n",
    "class Teacher(object, metaclass = LinMetaClass):\n",
    "    pass \n",
    "\n",
    "t = Teacher()\n",
    "t.__dict__\n",
    "\n",
    "t.id \n",
    "\n",
    "# orm 廖雪峯"
   ]
  }
 ],
 "metadata": {
  "kernelspec": {
   "display_name": "Python 3",
   "language": "python",
   "name": "python3"
  },
  "language_info": {
   "codemirror_mode": {
    "name": "ipython",
    "version": 3
   },
   "file_extension": ".py",
   "mimetype": "text/x-python",
   "name": "python",
   "nbconvert_exporter": "python",
   "pygments_lexer": "ipython3",
   "version": "3.6.3"
  }
 },
 "nbformat": 4,
 "nbformat_minor": 2
}
