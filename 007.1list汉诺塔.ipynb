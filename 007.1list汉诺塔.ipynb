{
 "cells": [
  {
   "cell_type": "markdown",
   "metadata": {},
   "source": [
    "# 汉诺塔问题\n",
    "- 规则 ：\n",
    "1.每次只能移动一个盘子\n",
    "2.任意一次移动大盘子在下，小盘子在上\n",
    "- 移动\n",
    "1.n = 1  a -> c\n",
    "2.n = 2 a1 -> c ,a2-> b,a2->c\n",
    "3.n = 3 a1 -> b ,a 2>c , a\n",
    "    1.把A上的俩个盘子，可以通过c移动到b上，调用地柜实现\n",
    "    2.吧A上剩下的一个最大盘子移动到c上，A- >C\n",
    "    3.吧上的俩个盘子借助A ，挪到C上去，调用递归\n",
    "4.n = n :\n",
    "    1.把A上n-1个盘子，借助与C,移动到B上去，调用递归\n",
    "    2.把A上最大盘子，也是唯一一个，移动到C上，A- >C\n",
    "    3.把n-1个盘子，借助于A,移动到C调用地递归\n"
   ]
  },
  {
   "cell_type": "code",
   "execution_count": 97,
   "metadata": {},
   "outputs": [],
   "source": [
    "def hano(n,a,b,c):\n",
    "    '''\n",
    "    汉诺塔的递归实现\n",
    "    n:代表几个盘子\n",
    "    a:代表第一棍\n",
    "    b:代表第二棍\n",
    "    c:代表第三棍\n",
    "    '''\n",
    "    if n == 1:\n",
    "        print(a,'-->',c)\n",
    "        return None\n",
    "    if n == 2:\n",
    "        print(a,'-->',b)\n",
    "        print(a,'-->',c)\n",
    "        print(b,'-->',c)\n",
    "        return None\n",
    "    #把n-1 个盘子 从a 借助c移到b上\n",
    "    hano(n-1,a,c,b)\n",
    "    print(a,'-->',c)\n",
    "    #把n-1个盘子从b塔借助a塔挪到c塔上去\n",
    "    hano(n-1,b,a,c)\n",
    "a = 'A'\n",
    "b = 'B'\n",
    "c = 'C'\n",
    "\n",
    "\n",
    "\n",
    "\n",
    "\n",
    "\n",
    "\n"
   ]
  },
  {
   "cell_type": "code",
   "execution_count": 59,
   "metadata": {},
   "outputs": [
    {
     "name": "stdout",
     "output_type": "stream",
     "text": [
      "A --> B\n"
     ]
    }
   ],
   "source": []
  },
  {
   "cell_type": "code",
   "execution_count": 98,
   "metadata": {},
   "outputs": [
    {
     "name": "stdout",
     "output_type": "stream",
     "text": [
      "A --> B\n",
      "A --> C\n",
      "B --> C\n"
     ]
    }
   ],
   "source": [
    "n = 2\n",
    "hano(n,a,b,c)"
   ]
  },
  {
   "cell_type": "code",
   "execution_count": 99,
   "metadata": {},
   "outputs": [
    {
     "name": "stdout",
     "output_type": "stream",
     "text": [
      "A --> C\n",
      "A --> B\n",
      "C --> B\n",
      "A --> C\n",
      "B --> A\n",
      "B --> C\n",
      "A --> C\n"
     ]
    }
   ],
   "source": [
    "n = 3\n",
    "hano(n,a,b,c)"
   ]
  },
  {
   "cell_type": "code",
   "execution_count": 65,
   "metadata": {},
   "outputs": [
    {
     "name": "stdout",
     "output_type": "stream",
     "text": [
      "A --> B\n",
      "A --> C\n",
      "B --> C\n",
      "A --> B\n",
      "C --> A\n",
      "C --> B\n",
      "A --> B\n",
      "A --> C\n",
      "B --> C\n",
      "B --> A\n",
      "C --> A\n",
      "B --> C\n",
      "A --> B\n",
      "A --> C\n",
      "B --> C\n"
     ]
    }
   ],
   "source": [
    "n = 4 \n",
    "hano(n,a,b,c)"
   ]
  },
  {
   "cell_type": "code",
   "execution_count": null,
   "metadata": {
    "collapsed": true
   },
   "outputs": [],
   "source": []
  }
 ],
 "metadata": {
  "kernelspec": {
   "display_name": "Python 3",
   "language": "python",
   "name": "python3"
  },
  "language_info": {
   "codemirror_mode": {
    "name": "ipython",
    "version": 3
   },
   "file_extension": ".py",
   "mimetype": "text/x-python",
   "name": "python",
   "nbconvert_exporter": "python",
   "pygments_lexer": "ipython3",
   "version": "3.6.3"
  }
 },
 "nbformat": 4,
 "nbformat_minor": 2
}
