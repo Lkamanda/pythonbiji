{
 "cells": [
  {
   "cell_type": "code",
   "execution_count": 6,
   "metadata": {},
   "outputs": [
    {
     "name": "stdout",
     "output_type": "stream",
     "text": [
      "4\n",
      "3\n",
      "2\n",
      "1\n",
      "0\n",
      "====================\n",
      "0\n",
      "1\n",
      "2\n",
      "3\n",
      "4\n"
     ]
    }
   ],
   "source": [
    "# 类似于栈的先进后出\n",
    "#　１．递推关系\n",
    "#  2.要有临界值,如果没有则会造成栈溢出.\n",
    "def digui(num):\n",
    "    print(num)\n",
    "    if num > 0:\n",
    "        ＃这里用的是调用本身的函数\n",
    "        digui(num-1)\n",
    "    else:\n",
    "        print('='*20)\n",
    "    print(num)\n",
    "\n",
    "digui(4)"
   ]
  },
  {
   "cell_type": "code",
   "execution_count": 4,
   "metadata": {},
   "outputs": [
    {
     "name": "stdout",
     "output_type": "stream",
     "text": [
      "移动第 1 次 A -> C\n",
      "移动第 2 次 A -> B\n",
      "移动第 3 次 C -> B\n",
      "移动第 4 次 A -> C\n",
      "移动第 5 次 B -> A\n",
      "移动第 6 次 B -> C\n",
      "移动第 7 次 A -> C\n"
     ]
    }
   ],
   "source": [
    "# 汉诺塔 \n",
    "# 3 个 7步\n",
    "\n",
    "i = 0\n",
    "def move(n,a,b,c):\n",
    "    # 把变量全局化\n",
    "    global i\n",
    "    if n==1:\n",
    "        i += 1\n",
    "        print('移动第',i,'次',a,'->',c)\n",
    "    else:\n",
    "        move(n-1,a,c,b)\n",
    "        move(1,a,b,c)\n",
    "        move(n-1,b,a,c)\n",
    "move(3,'A','B','C')"
   ]
  },
  {
   "cell_type": "code",
   "execution_count": 19,
   "metadata": {},
   "outputs": [
    {
     "ename": "UnboundLocalError",
     "evalue": "local variable 'i' referenced before assignment",
     "output_type": "error",
     "traceback": [
      "\u001b[0;31m---------------------------------------------------------------------------\u001b[0m",
      "\u001b[0;31mUnboundLocalError\u001b[0m                         Traceback (most recent call last)",
      "\u001b[0;32m<ipython-input-19-ab2e991d8bb4>\u001b[0m in \u001b[0;36m<module>\u001b[0;34m()\u001b[0m\n\u001b[1;32m      5\u001b[0m     \u001b[0mi\u001b[0m \u001b[0;34m+=\u001b[0m \u001b[0;36m1\u001b[0m\u001b[0;34m\u001b[0m\u001b[0m\n\u001b[1;32m      6\u001b[0m     \u001b[0mprint\u001b[0m\u001b[0;34m(\u001b[0m\u001b[0mi\u001b[0m\u001b[0;34m)\u001b[0m\u001b[0;34m\u001b[0m\u001b[0m\n\u001b[0;32m----> 7\u001b[0;31m \u001b[0ma\u001b[0m\u001b[0;34m(\u001b[0m\u001b[0;34m)\u001b[0m\u001b[0;34m\u001b[0m\u001b[0m\n\u001b[0m",
      "\u001b[0;32m<ipython-input-19-ab2e991d8bb4>\u001b[0m in \u001b[0;36ma\u001b[0;34m()\u001b[0m\n\u001b[1;32m      3\u001b[0m     \u001b[0;31m# 为定义 i 为全局变量 如果不定义只能访问不能操作\u001b[0m\u001b[0;34m\u001b[0m\u001b[0;34m\u001b[0m\u001b[0m\n\u001b[1;32m      4\u001b[0m     \u001b[0;31m# global i\u001b[0m\u001b[0;34m\u001b[0m\u001b[0;34m\u001b[0m\u001b[0m\n\u001b[0;32m----> 5\u001b[0;31m     \u001b[0mi\u001b[0m \u001b[0;34m+=\u001b[0m \u001b[0;36m1\u001b[0m\u001b[0;34m\u001b[0m\u001b[0m\n\u001b[0m\u001b[1;32m      6\u001b[0m     \u001b[0mprint\u001b[0m\u001b[0;34m(\u001b[0m\u001b[0mi\u001b[0m\u001b[0;34m)\u001b[0m\u001b[0;34m\u001b[0m\u001b[0m\n\u001b[1;32m      7\u001b[0m \u001b[0ma\u001b[0m\u001b[0;34m(\u001b[0m\u001b[0;34m)\u001b[0m\u001b[0;34m\u001b[0m\u001b[0m\n",
      "\u001b[0;31mUnboundLocalError\u001b[0m: local variable 'i' referenced before assignment"
     ]
    }
   ],
   "source": [
    "i = 0\n",
    "def a():\n",
    "    # 为定义 i 为全局变量 如果不定义只能访问不能操作\n",
    "    # global i\n",
    "    i += 1\n",
    "    print(i)\n",
    "a()"
   ]
  },
  {
   "cell_type": "code",
   "execution_count": 21,
   "metadata": {},
   "outputs": [
    {
     "name": "stdout",
     "output_type": "stream",
     "text": [
      "1\n"
     ]
    }
   ],
   "source": [
    "i = 0\n",
    "def a():\n",
    "    \n",
    "    global i\n",
    "    i += 1\n",
    "    print(i)\n",
    "a()"
   ]
  },
  {
   "cell_type": "code",
   "execution_count": 9,
   "metadata": {},
   "outputs": [
    {
     "name": "stdout",
     "output_type": "stream",
     "text": [
      "860271\n"
     ]
    }
   ],
   "source": [
    "import os\n",
    "\n",
    "def getdirpath(dirpath):\n",
    "    total = 0 \n",
    "    # 获取所有文件\n",
    "    allname = os.listdir(dirpath)\n",
    "    for name in allname:\n",
    "            # 拼接成完整路径\n",
    "        fullpath=os.path.join(dirpath,name)\n",
    "        # 判断是否是文件\n",
    "        if os.path.isfile(fullpath):\n",
    "            #　获取文件大小\n",
    "            total += os.path.getsize(fullpath)\n",
    "            # 判断是否为文件夹\n",
    "        elif os.path.isdir(fullpath):\n",
    "            # 如果是文件夹　，则调用自身 (递归 )\n",
    "            total += getdirpath(fullpath)\n",
    "    #　返回大小　\n",
    "    return total\n",
    "    \n",
    "size = getdirpath(r'/home/tlxy/pythonnote')\n",
    "print(size)"
   ]
  },
  {
   "cell_type": "code",
   "execution_count": 8,
   "metadata": {},
   "outputs": [
    {
     "name": "stdout",
     "output_type": "stream",
     "text": [
      "移动了 1 次 A -> C\n",
      "移动了 2 次 A -> B\n",
      "移动了 3 次 C -> B\n",
      "移动了 4 次 A -> C\n",
      "移动了 5 次 B -> A\n",
      "移动了 6 次 B -> C\n",
      "移动了 7 次 A -> C\n"
     ]
    }
   ],
   "source": [
    "# 汉诺塔　\n",
    "# 如果有n个盘 ,所有移动的步数为2^n-1 \n",
    "i = 0 \n",
    "# 定义一个函数给4个参数 ,n 为圆盘的个数,a代表A柱子\n",
    "def move(n,a,b,c):\n",
    "    global i \n",
    "    if n ==1: \n",
    "        i += 1\n",
    "        print('移动了',i,'次',a,'->',c)\n",
    "    else:\n",
    "        # 把柱子A上的n-1个圆盘移动到B柱子上\n",
    "        move(n-1,a,c,b)\n",
    "        # 把柱子 A上最大的柱子移动到C上\n",
    "        move(1,a,b,c)\n",
    "        # 把柱子B上的n-1个圆盘借助A移动到B上\n",
    "        move(n-1,b,a,c)\n",
    "\n",
    "move(3,'A','B','C')\n",
    "\n"
   ]
  },
  {
   "cell_type": "code",
   "execution_count": null,
   "metadata": {
    "collapsed": true
   },
   "outputs": [],
   "source": []
  }
 ],
 "metadata": {
  "kernelspec": {
   "display_name": "Python 3",
   "language": "python",
   "name": "python3"
  },
  "language_info": {
   "codemirror_mode": {
    "name": "ipython",
    "version": 3
   },
   "file_extension": ".py",
   "mimetype": "text/x-python",
   "name": "python",
   "nbconvert_exporter": "python",
   "pygments_lexer": "ipython3",
   "version": "3.6.3"
  }
 },
 "nbformat": 4,
 "nbformat_minor": 2
}
