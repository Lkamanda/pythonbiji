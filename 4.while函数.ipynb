{
 "cells": [
  {
   "cell_type": "markdown",
   "metadata": {},
   "source": [
    "# while 循环\n",
    "- 一个循环语句\n",
    "- 表示某条件成立的时候，就循环\n",
    "- 不知道具体循环次数\n",
    "- 不知道具体循环此时，但能情定循环的成立条件的时候用while循环\n",
    "- while语法：\n",
    "    \n",
    "    while 条件 表达式：\n",
    "        语句块\n",
    "    #另外一种表达式方法\n",
    "    while 条件表达式：\n",
    "        语句块1\n",
    "    else:\n",
    "        语句快2\n",
    "        \n"
   ]
  },
  {
   "cell_type": "code",
   "execution_count": 4,
   "metadata": {},
   "outputs": [
    {
     "name": "stdout",
     "output_type": "stream",
     "text": [
      "第1年拿了10670.0块钱\n",
      "第2年拿了11384.89块钱\n",
      "第3年拿了12147.677629999998块钱\n",
      "第4年拿了12961.572031209998块钱\n",
      "第5年拿了13829.997357301068块钱\n",
      "第6年拿了14756.607180240238块钱\n",
      "第7年拿了15745.299861316334块钱\n",
      "第8年拿了16800.23495202453块钱\n",
      "第9年拿了17925.85069381017块钱\n",
      "第10年拿了19126.88269029545块钱\n",
      "第11年拿了20408.383830545245块钱\n"
     ]
    }
   ],
   "source": [
    "# 如果年利率是6.7%，则多少年会翻倍，本利是每年翻滚。\n",
    "benqian = 10000\n",
    "year = 0\n",
    "while benqian < 2*10000:\n",
    "    benqian = benqian *(1+0.067)\n",
    "    year += 1 # year = year+1\n",
    "    print(\"第{0}年拿了{1}块钱\".format(year,benqian))"
   ]
  },
  {
   "cell_type": "code",
   "execution_count": 5,
   "metadata": {},
   "outputs": [
    {
     "name": "stdout",
     "output_type": "stream",
     "text": [
      "第1年拿了10670.0块钱\n",
      "第2年拿了11384.89块钱\n",
      "第3年拿了12147.677629999998块钱\n",
      "第4年拿了12961.572031209998块钱\n",
      "第5年拿了13829.997357301068块钱\n",
      "第6年拿了14756.607180240238块钱\n",
      "第7年拿了15745.299861316334块钱\n",
      "第8年拿了16800.23495202453块钱\n",
      "第9年拿了17925.85069381017块钱\n",
      "第10年拿了19126.88269029545块钱\n",
      "第11年拿了20408.383830545245块钱\n",
      "庆贺一下\n"
     ]
    }
   ],
   "source": [
    "# 如果年利率是6.7%，则多少年会翻倍，本利是每年翻滚。\n",
    "# 如果拿到的钱翻倍了，则print（庆贺一下）\n",
    "benqian = 10000\n",
    "year = 0\n",
    "while benqian < 2*10000:\n",
    "    benqian = benqian *(1+0.067)\n",
    "    year += 1 # year = year+1\n",
    "    print(\"第{0}年拿了{1}块钱\".format(year,benqian))\n",
    "else:\n",
    "    print(\"庆贺一下\")"
   ]
  },
  {
   "cell_type": "markdown",
   "metadata": {},
   "source": [
    "# 函数：\n",
    "- 代码的一种组织形式\n",
    "- 一个函数一般完成一项特定的功能\n",
    "- 函数使用：\n",
    "    - 函数需要先定义\n",
    "    - 使用函数，俗称调用"
   ]
  },
  {
   "cell_type": "code",
   "execution_count": 6,
   "metadata": {
    "collapsed": true
   },
   "outputs": [],
   "source": [
    "#定义一个函数\n",
    "# 只需要定义的话不会执行\n",
    "#1.def 关键字，后跟一个空格\n",
    "#2.函数名，自己定义，起名需要准许你变量名规则，约定俗称\n",
    "#3.后面跟的扩号和冒号不能省，口号内可以有参数\n",
    "\n",
    "\n",
    "def func():\n",
    "    print('我是函数')\n",
    "    print('我要完成一定功能')\n",
    "    print('我结束了')"
   ]
  },
  {
   "cell_type": "code",
   "execution_count": 7,
   "metadata": {},
   "outputs": [
    {
     "name": "stdout",
     "output_type": "stream",
     "text": [
      "我是函数\n",
      "我要完成一定功能\n",
      "我结束了\n"
     ]
    }
   ],
   "source": [
    "#函数调用\n",
    "#直接函数名后面跟括号\n",
    "func()"
   ]
  },
  {
   "cell_type": "markdown",
   "metadata": {},
   "source": [
    "### 函数的参数和返回值\n",
    "- 参数：负责给函数传递一些必要的数据或者信息\n",
    "    - 形参（形式参数）：在函数定义的时候只是一个占位符号，成为形象\n",
    "    - 实参（实际参数）：在用函数的时候输入的值\n",
    "- 返回值：函数的执行结果\n",
    "    - 使用return关键字\n",
    "    - 如果没有return,默认返回一个None\n",
    "    - 函数一旦执行return语句，则无条件返回，即结束"
   ]
  },
  {
   "cell_type": "code",
   "execution_count": 11,
   "metadata": {},
   "outputs": [
    {
     "name": "stdout",
     "output_type": "stream",
     "text": [
      "xiaolin,你怎么了\n",
      "xiaolin,你不理解就走\n"
     ]
    }
   ],
   "source": [
    "#参数的定义和使用\n",
    "#参数person只是一个符号，代表是调用的时候的某一个数据\n",
    "#调用的时候，会用p的值代替函数中所有的person\n",
    "def hello(person):\n",
    "    print(\"{0},你怎么了\".format(person))\n",
    "    print(\"{0},你不理解就走\".format(person))\n",
    "p =\"xiaolin\"\n",
    "hello(p)"
   ]
  },
  {
   "cell_type": "code",
   "execution_count": 16,
   "metadata": {},
   "outputs": [
    {
     "name": "stdout",
     "output_type": "stream",
     "text": [
      "xiaolin,你是怎么了\n",
      "sir,你怎么了\n",
      "我走了xiaolin\n"
     ]
    }
   ],
   "source": [
    "#return语句的基本使用\n",
    "#函数打完招呼后返回一句话\n",
    "def hello(person):\n",
    "    print(\"{0},你是怎么了\".format(person))\n",
    "    print(\"sir,你怎么了\")\n",
    "    \n",
    "    return\"我走了{0}\".format(person)\n",
    "p = \"xiaolin\"\n",
    "rst = hello(p)\n",
    "print(rst)\n",
    "    \n",
    "    "
   ]
  },
  {
   "cell_type": "code",
   "execution_count": 17,
   "metadata": {},
   "outputs": [
    {
     "name": "stdout",
     "output_type": "stream",
     "text": [
      "xiaolin,你是怎么了\n",
      "哈哈结束吧\n"
     ]
    }
   ],
   "source": [
    "#return 案例2\n",
    "def hello(person):\n",
    "    print(\"{0},你是怎么了\".format(person))\n",
    "    return \"哈哈结束吧\"\n",
    "    print(\"sir,你怎么了\")\n",
    "    \n",
    "    return\"我走了{0}\".format(person)\n",
    "p = \"xiaolin\"\n",
    "rst = hello(p)\n",
    "print(rst)"
   ]
  },
  {
   "cell_type": "code",
   "execution_count": 34,
   "metadata": {},
   "outputs": [
    {
     "name": "stdout",
     "output_type": "stream",
     "text": [
      "1 \n",
      "2 4 \n",
      "3 6 9 \n",
      "4 8 12 16 \n",
      "5 10 15 20 25 \n",
      "6 12 18 24 30 36 \n",
      "7 14 21 28 35 42 49 \n",
      "8 16 24 32 40 48 56 64 \n",
      "9 18 27 36 45 54 63 72 81 \n"
     ]
    }
   ],
   "source": [
    "#九九乘法表\n",
    "#占位符\n",
    "for row in range(1,10):\n",
    "    #打印一行\n",
    "    for col in range(1,row+1):\n",
    "        #print函数默认任务打印完毕后换行\n",
    "        print(row * col, end=' ')\n",
    "    print(\"\")\n",
    "    pass\n",
    "        "
   ]
  },
  {
   "cell_type": "code",
   "execution_count": 21,
   "metadata": {},
   "outputs": [
    {
     "name": "stdout",
     "output_type": "stream",
     "text": [
      "Help on built-in function print in module builtins:\n",
      "\n",
      "print(...)\n",
      "    print(value, ..., sep=' ', end='\\n', file=sys.stdout, flush=False)\n",
      "    \n",
      "    Prints the values to a stream, or to sys.stdout by default.\n",
      "    Optional keyword arguments:\n",
      "    file:  a file-like object (stream); defaults to the current sys.stdout.\n",
      "    sep:   string inserted between values, default a space.\n",
      "    end:   string appended after the last value, default a newline.\n",
      "    flush: whether to forcibly flush the stream.\n",
      "\n"
     ]
    }
   ],
   "source": [
    "#查找函数帮助文档\n",
    "#1.用help函数\n",
    "help(print)"
   ]
  },
  {
   "cell_type": "code",
   "execution_count": 37,
   "metadata": {},
   "outputs": [
    {
     "name": "stdout",
     "output_type": "stream",
     "text": [
      "1 \n",
      "2 4 \n",
      "3 6 9 \n",
      "4 8 12 16 \n",
      "5 10 15 20 25 \n",
      "6 12 18 24 30 36 \n",
      "7 14 21 28 35 42 49 \n",
      "8 16 24 32 40 48 56 64 \n",
      "9 18 27 36 45 54 63 72 81 \n"
     ]
    }
   ],
   "source": [
    "#定义一个函数，打印一行九九乘法表\n",
    "def printline(row):\n",
    "    for col in range(1,row+1):\n",
    "        #print函数默认任务打印完毕后换行\n",
    "        print( row * col, end=\" \")\n",
    "    print(\"\")\n",
    "\n",
    "#九九乘法表 第二版\n",
    "for row in range(1,10):\n",
    "    printline(row)\n"
   ]
  },
  {
   "cell_type": "markdown",
   "metadata": {},
   "source": [
    "## 参数详解\n",
    "-(参考资料) (https://www.cnblogs.com/bingabcd/p/6671368.html)\n",
    "-参数分类\n",
    "    - 普通参数\n",
    "    - 收集参数\n",
    "    - 默认参数\n",
    "    - 关键子参数\n",
    "- 普通参数\n",
    "    - 定义的时候直接定义便利名\n",
    "    - 调用的时候直接吧变量或这值放入制定位置\n",
    "        \n",
    "        def 函数名 (参数1，参数2，....):\n",
    "            函数体\n",
    "        #调用\n",
    "        函数名(value1,value2,....)\n",
    "        #调用的时候，具体参考的是位置，按位置赋值\n",
    "- 默认参数\n",
    "    -形参拥有默认值\n",
    "    - 调用的时候，如果没有对应的参数赋值，则使用默认值\n",
    "        def fun_name(pl = v1,p2 = v2...):\n",
    "            func_block\n",
    "        #调用1\n",
    "        fun_name()\n",
    "        #调用2\n",
    "        value1 = 100\n",
    "        value2 = 200\n",
    "        fun_name(value,value2)\n",
    "        \n",
    "        "
   ]
  },
  {
   "cell_type": "code",
   "execution_count": 49,
   "metadata": {
    "collapsed": true
   },
   "outputs": [],
   "source": [
    "#默认参数示例\n",
    "#报名函数，需要知道学生性别\n",
    "#学习python的学生都是男生，所以，报名的时候如果没有特别指定，我们的性别是男\n",
    "def reg(name,age,gender=\"male\"):\n",
    "    if gender == \"male\":\n",
    "        print(\"{0} is (1) ,and he isgood \".format(name,age))\n",
    "    else:\n",
    "        print(\"{0} is {1}, and she is good student\".format(name,age))\n",
    "        "
   ]
  },
  {
   "cell_type": "code",
   "execution_count": 50,
   "metadata": {},
   "outputs": [
    {
     "name": "stdout",
     "output_type": "stream",
     "text": [
      "mingyue is (1) ,and he isgood \n",
      "xiaoyue is 23, and she is good student\n"
     ]
    }
   ],
   "source": [
    "#调用默认参数函数案例1\n",
    "reg(\"mingyue\",21)\n",
    "reg(\"xiaoyue\",23,gender=\"female\")"
   ]
  },
  {
   "cell_type": "markdown",
   "metadata": {
    "collapsed": true
   },
   "source": [
    "# 函数文档\n",
    "- 函数文档的作用是对函数提供使用相关的参考信息\n",
    "- 文档的写法：\n",
    "    - 在函数内部开始的第一行使用三引号字符串\n",
    "    - 一般具有特殊格式\n",
    "- 文档查看\n",
    "    - 使用help函数，形如help(func)\n",
    "    - 使用.__doc__ ,查看案例"
   ]
  },
  {
   "cell_type": "code",
   "execution_count": 4,
   "metadata": {},
   "outputs": [
    {
     "name": "stdout",
     "output_type": "stream",
     "text": [
      "Help on function stu in module __main__:\n",
      "\n",
      "stu(name, age, *args)\n",
      "    这是第一行\n",
      "    这是第二行\n",
      "\n"
     ]
    },
    {
     "data": {
      "text/plain": [
       "'\\n    这是第一行\\n    这是第二行\\n    '"
      ]
     },
     "execution_count": 4,
     "metadata": {},
     "output_type": "execute_result"
    }
   ],
   "source": [
    "#文档案例\n",
    "def stu(name,age,*args):\n",
    "    \"\"\"\n",
    "    这是第一行\n",
    "    这是第二行\n",
    "    \"\"\"\n",
    "    print('this is hanshu stu')\n",
    "help(stu)\n",
    "stu.__doc__"
   ]
  }
 ],
 "metadata": {
  "kernelspec": {
   "display_name": "Python 3",
   "language": "python",
   "name": "python3"
  },
  "language_info": {
   "codemirror_mode": {
    "name": "ipython",
    "version": 3
   },
   "file_extension": ".py",
   "mimetype": "text/x-python",
   "name": "python",
   "nbconvert_exporter": "python",
   "pygments_lexer": "ipython3",
   "version": "3.6.3"
  }
 },
 "nbformat": 4,
 "nbformat_minor": 2
}
