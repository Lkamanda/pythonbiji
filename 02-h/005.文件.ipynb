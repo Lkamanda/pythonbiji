{
 "cells": [
  {
   "cell_type": "markdown",
   "metadata": {},
   "source": [
    "# 文件\n",
    "- 文件保存信息的一种数据集合\n",
    "- 常用操作\n",
    "    - 打开关闭,(文件一旦打开,需要关闭操作)\n",
    "    - 读写内容\n",
    "    - 查找\n",
    "# open函数\n",
    "- open函数负责打开文件,带有很多参数\n",
    "- 第一个参数:必须有,文件的路径和名称\n",
    "- mode :表示文件用什么方式打开\n",
    "    - r:只读方式打开\n",
    "    - w: 写方式打开,会覆盖以前的内容\n",
    "    - x:创建方式打开,如果文件已经存在,报错\n",
    "    - a:append方式,以追加的方式对文件内容进行写入\n",
    "    - b:binary 方式,而金子方式写入\n",
    "    - t:文本打开\n",
    "    - +:可读写"
   ]
  },
  {
   "cell_type": "code",
   "execution_count": 1,
   "metadata": {
    "collapsed": true
   },
   "outputs": [],
   "source": [
    "# 打开文件,用写的方式\n",
    "# r表示后面字符串内容不需要转译\n",
    "# f称之为打开文件句柄,(打开文件实例)\n",
    "f = open(r\"test01.txt\",'w')\n",
    "# 文件打开必须关闭\n",
    "f.close()\n",
    "\n",
    "# 此方式说明,以写方式打开文件,默认是如果没有文件,则创建"
   ]
  },
  {
   "cell_type": "markdown",
   "metadata": {},
   "source": [
    "# with 语句\n",
    "- with 语句使用的技术是一种上下问管理协议(ContextMangementProtocal)\n",
    "- 自动判断文件的作用地域,自动关闭不适用的打开的文件"
   ]
  },
  {
   "cell_type": "code",
   "execution_count": 2,
   "metadata": {
    "collapsed": true
   },
   "outputs": [],
   "source": [
    "# with 语句案例\n",
    "with open (r\"test01.txt\",'r') as f:\n",
    "    pass\n",
    "# 下面语句块对文件f进行操作\n",
    "#在本模块中不需要在使用close关闭文件ｆ\n"
   ]
  },
  {
   "cell_type": "code",
   "execution_count": 4,
   "metadata": {},
   "outputs": [
    {
     "name": "stdout",
     "output_type": "stream",
     "text": [
      "有志者事竟成\n",
      "\n",
      "破釜沉舟\n",
      "\n",
      "百二秦关终归楚\n",
      "\n",
      "苦心人\n",
      "\n",
      "天不负\n",
      "\n",
      "卧薪尝胆\n",
      "\n",
      "三千越甲可吞吴\n",
      "\n"
     ]
    }
   ],
   "source": [
    "# with 案例\n",
    "with open(r'test01.txt','r') as f:\n",
    "    # 按行读取内容\n",
    "    strline = f.readline()\n",
    "    # 此结构保证能够完整读取文件直到结束\n",
    "    while strline:\n",
    "        print(strline)\n",
    "        strline = f.readline()\n",
    "        "
   ]
  },
  {
   "cell_type": "code",
   "execution_count": 7,
   "metadata": {},
   "outputs": [
    {
     "name": "stdout",
     "output_type": "stream",
     "text": [
      "有志者事竟成\n",
      "\n",
      "破釜沉舟\n",
      "\n",
      "百二秦关终归楚\n",
      "\n",
      "苦心人\n",
      "\n",
      "天不负\n",
      "\n",
      "卧薪尝胆\n",
      "\n",
      "三千越甲可吞吴\n",
      "\n"
     ]
    }
   ],
   "source": [
    "# 能用list打开文件参数,把文件内没遗憾内容作为一个元素\n",
    "with open (r'test01.txt','r') as f:\n",
    "    # 以打开的文件作为参数,创建列表\n",
    "    l = list(f)\n",
    "    for line in l:\n",
    "        print(line)"
   ]
  },
  {
   "cell_type": "code",
   "execution_count": 9,
   "metadata": {},
   "outputs": [
    {
     "name": "stdout",
     "output_type": "stream",
     "text": [
      "2\n",
      "有志\n"
     ]
    }
   ],
   "source": [
    "# read 是按字符读取文件内容\n",
    "# 允许输入参数决定读取几个字符,如果没有指定,从当前位置读取到结尾\n",
    "# 否则,从当前位置读取指定个数字符\n",
    "# 赋值的时候等号前各有一个空格  \n",
    "# 参数直接写死 a=100\n",
    "with open(r'test01.txt', 'r') as f:\n",
    "    strChar = f.read(2)\n",
    "    print (len(strChar))\n",
    "    print(strChar)\n",
    "\n",
    "# 作业\n",
    "# 使用read读取文件,每次读取一个,使用循环读完\n",
    "# 尽量注意格式\n"
   ]
  },
  {
   "cell_type": "code",
   "execution_count": 9,
   "metadata": {},
   "outputs": [
    {
     "name": "stdout",
     "output_type": "stream",
     "text": [
      "窗前明月光\n",
      "疑是地上霜\n",
      "举头\n",
      "明月"
     ]
    }
   ],
   "source": [
    "with open (r\"test02.txt\", 'r')as f:\n",
    "    for i in f.read():\n",
    "        print(i,end=\"\")"
   ]
  },
  {
   "cell_type": "markdown",
   "metadata": {},
   "source": [
    "# seek(offset, from)\n",
    "- offset : 移动多少个字节\n",
    "- from: 从哪开始读\n",
    "- 移动文件的读取位置,也叫读取指针\n",
    "- from的取值范围\n",
    "    - 0:从文件头开始偏移\n",
    "    - 1:从文件当前的位置开始偏移\n",
    "    - 2:从文件末尾开始偏移\n",
    "- 移动的单位是字节(byte)\n",
    "- 一个汉子由若干个字节构成\n",
    "- 返回文件只针对当前位置"
   ]
  },
  {
   "cell_type": "code",
   "execution_count": 14,
   "metadata": {},
   "outputs": [
    {
     "name": "stdout",
     "output_type": "stream",
     "text": [
      "明月光\n",
      "疑是地上霜\n",
      "举头\n",
      "明月\n"
     ]
    }
   ],
   "source": [
    "# seek 案例\n",
    "# 打开文件后,从第五个字节开始读取\n",
    "# 打开读写指针在0处,即文件的开头\n",
    "with open(r'test02.txt','r') as f:\n",
    "    # seek移动单位是字节\n",
    "    f.seek(6,0)\n",
    "    strChar = f.read()\n",
    "    print(strChar)"
   ]
  },
  {
   "cell_type": "code",
   "execution_count": 16,
   "metadata": {},
   "outputs": [
    {
     "name": "stdout",
     "output_type": "stream",
     "text": [
      "窗前明\n",
      "月光\n",
      "\n",
      "疑是地\n",
      "上霜\n",
      "\n",
      "举头\n",
      "\n",
      "明月\n"
     ]
    }
   ],
   "source": [
    "# 关于读取文件的练习\n",
    "# 打开文件,三个字符一组读出内容,然后显示在屏幕上\n",
    "# 没读一次,休息一秒钟\n",
    "\n",
    "# 让程序展厅，可以使用time下sleep函数\n",
    "from time  import sleep\n",
    "with open (r'test02.txt', 'r')as f:\n",
    "    # read参数的单位是字符,可以理解成一个汉子就是一个字符\n",
    "    strChar = f.read(3)\n",
    "    while strChar:\n",
    "        print(strChar)\n",
    "        sleep(1)\n",
    "        strChar = f.read(3)"
   ]
  },
  {
   "cell_type": "code",
   "execution_count": null,
   "metadata": {
    "collapsed": true
   },
   "outputs": [],
   "source": [
    "# 作业:\n",
    "# 解释上运行结果,为什么不是每行三个字符\n"
   ]
  },
  {
   "cell_type": "code",
   "execution_count": null,
   "metadata": {
    "collapsed": true
   },
   "outputs": [],
   "source": []
  },
  {
   "cell_type": "code",
   "execution_count": 10,
   "metadata": {},
   "outputs": [
    {
     "ename": "NameError",
     "evalue": "name 'seek' is not defined",
     "output_type": "error",
     "traceback": [
      "\u001b[0;31m---------------------------------------------------------------------------\u001b[0m",
      "\u001b[0;31mNameError\u001b[0m                                 Traceback (most recent call last)",
      "\u001b[0;32m<ipython-input-10-bc468d5a1ee8>\u001b[0m in \u001b[0;36m<module>\u001b[0;34m()\u001b[0m\n\u001b[0;32m----> 1\u001b[0;31m \u001b[0mhelp\u001b[0m\u001b[0;34m(\u001b[0m\u001b[0mseek\u001b[0m\u001b[0;34m)\u001b[0m\u001b[0;34m\u001b[0m\u001b[0m\n\u001b[0m",
      "\u001b[0;31mNameError\u001b[0m: name 'seek' is not defined"
     ]
    }
   ],
   "source": []
  },
  {
   "cell_type": "code",
   "execution_count": null,
   "metadata": {
    "collapsed": true
   },
   "outputs": [],
   "source": []
  },
  {
   "cell_type": "code",
   "execution_count": null,
   "metadata": {
    "collapsed": true
   },
   "outputs": [],
   "source": []
  },
  {
   "cell_type": "code",
   "execution_count": null,
   "metadata": {
    "collapsed": true
   },
   "outputs": [],
   "source": []
  },
  {
   "cell_type": "code",
   "execution_count": null,
   "metadata": {
    "collapsed": true
   },
   "outputs": [],
   "source": []
  },
  {
   "cell_type": "code",
   "execution_count": null,
   "metadata": {
    "collapsed": true
   },
   "outputs": [],
   "source": []
  },
  {
   "cell_type": "code",
   "execution_count": null,
   "metadata": {
    "collapsed": true
   },
   "outputs": [],
   "source": []
  },
  {
   "cell_type": "code",
   "execution_count": null,
   "metadata": {
    "collapsed": true
   },
   "outputs": [],
   "source": []
  },
  {
   "cell_type": "code",
   "execution_count": null,
   "metadata": {
    "collapsed": true
   },
   "outputs": [],
   "source": []
  },
  {
   "cell_type": "code",
   "execution_count": null,
   "metadata": {
    "collapsed": true
   },
   "outputs": [],
   "source": []
  },
  {
   "cell_type": "code",
   "execution_count": null,
   "metadata": {
    "collapsed": true
   },
   "outputs": [],
   "source": []
  },
  {
   "cell_type": "code",
   "execution_count": null,
   "metadata": {
    "collapsed": true
   },
   "outputs": [],
   "source": []
  },
  {
   "cell_type": "code",
   "execution_count": null,
   "metadata": {
    "collapsed": true
   },
   "outputs": [],
   "source": []
  },
  {
   "cell_type": "code",
   "execution_count": null,
   "metadata": {
    "collapsed": true
   },
   "outputs": [],
   "source": []
  },
  {
   "cell_type": "code",
   "execution_count": null,
   "metadata": {
    "collapsed": true
   },
   "outputs": [],
   "source": []
  },
  {
   "cell_type": "code",
   "execution_count": null,
   "metadata": {
    "collapsed": true
   },
   "outputs": [],
   "source": []
  },
  {
   "cell_type": "code",
   "execution_count": null,
   "metadata": {
    "collapsed": true
   },
   "outputs": [],
   "source": []
  },
  {
   "cell_type": "code",
   "execution_count": null,
   "metadata": {
    "collapsed": true
   },
   "outputs": [],
   "source": []
  }
 ],
 "metadata": {
  "kernelspec": {
   "display_name": "Python 3",
   "language": "python",
   "name": "python3"
  },
  "language_info": {
   "codemirror_mode": {
    "name": "ipython",
    "version": 3
   },
   "file_extension": ".py",
   "mimetype": "text/x-python",
   "name": "python",
   "nbconvert_exporter": "python",
   "pygments_lexer": "ipython3",
   "version": "3.6.3"
  }
 },
 "nbformat": 4,
 "nbformat_minor": 2
}
