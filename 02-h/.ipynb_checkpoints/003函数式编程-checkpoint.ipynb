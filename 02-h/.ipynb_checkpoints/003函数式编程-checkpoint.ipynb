{
 "cells": [
  {
   "cell_type": "markdown",
   "metadata": {},
   "source": [
    "# log模块资料\n",
    "- https://www.cnblogs.com/yyds/p/6901864.html"
   ]
  },
  {
   "cell_type": "markdown",
   "metadata": {},
   "source": [
    "# python语言的高级特性\n"
   ]
  },
  {
   "cell_type": "markdown",
   "metadata": {},
   "source": [
    "## 函数式编程(FunctionProgramming)\n",
    "- 基于lambda演算的一种编程方式\n",
    "    - 程序只有函数\n",
    "    - 函数可以作为参数,同样可以作为返回值\n",
    "    - 纯函数编程语言: LISP,Haskell\n",
    "- python函数式编程只是借鉴函数式编程的一些特点,可以理解成一半函数式一半python\n",
    "    - 函数可以作为参数,可以作为返回值,这些都是借鉴函数式编程\n",
    "- 需要讲述\n",
    "    - 高阶函数\n",
    "    - 返回函数\n",
    "    - 匿名函数\n",
    "    - 装饰器\n",
    "    - 偏函数   "
   ]
  },
  {
   "cell_type": "markdown",
   "metadata": {},
   "source": [
    "### lambda表达式\n",
    "- 函数:最大程度的复用代码\n",
    "    - 存在问题: 如果函数很小,很短.则会造成啰嗦\n",
    "    - 如果函数被调用次数少,功能简单,则会造成浪费\n",
    "    - 对于阅读者来说,造成阅读流程的被迫中断\n",
    "- lambda表达式(匿名函数):\n",
    "    - 一个表达式,函数体先对简单\n",
    "    - 不是一个代码块,仅仅是一个表达式\n",
    "    - 可以有参数,有多个参数也可以,用都好隔开"
   ]
  },
  {
   "cell_type": "code",
   "execution_count": 2,
   "metadata": {},
   "outputs": [
    {
     "name": "stdout",
     "output_type": "stream",
     "text": [
      "aaaaa\n"
     ]
    }
   ],
   "source": [
    "# \"小\"函数举例\n",
    "def printA():\n",
    "    print(\"aaaaa\")\n",
    "printA()"
   ]
  },
  {
   "cell_type": "code",
   "execution_count": 3,
   "metadata": {},
   "outputs": [
    {
     "data": {
      "text/plain": [
       "800"
      ]
     },
     "execution_count": 3,
     "metadata": {},
     "output_type": "execute_result"
    }
   ],
   "source": [
    "# lambda 表达式的用法\n",
    "# 以lambda开头\n",
    "# 紧跟参数\n",
    "# 参数后用冒号和表达式主体隔开\n",
    "#　只是一个表达式，所以，没有return\n",
    "\n",
    "# 计算一个数的100倍\n",
    "stm = lambda x: 100*x\n",
    "stm(8)"
   ]
  },
  {
   "cell_type": "code",
   "execution_count": 4,
   "metadata": {},
   "outputs": [
    {
     "data": {
      "text/plain": [
       "654"
      ]
     },
     "execution_count": 4,
     "metadata": {},
     "output_type": "execute_result"
    }
   ],
   "source": [
    "# 多个参数\n",
    "stm2 = lambda x,y,z: x+ y*10 + z*100\n",
    "stm2(4,5,6)"
   ]
  },
  {
   "cell_type": "code",
   "execution_count": null,
   "metadata": {
    "collapsed": true
   },
   "outputs": [],
   "source": [
    "# 递归其实是一个很灵活的东西,直接调用,间接,形成环"
   ]
  },
  {
   "cell_type": "markdown",
   "metadata": {},
   "source": [
    "# 高阶函数\n",
    "- 把函数作为参数使用的函数,叫高阶函数"
   ]
  },
  {
   "cell_type": "code",
   "execution_count": 1,
   "metadata": {
    "collapsed": true
   },
   "outputs": [],
   "source": [
    "#　变量可以赋值\n",
    "a = 100\n",
    "b = a "
   ]
  },
  {
   "cell_type": "code",
   "execution_count": 6,
   "metadata": {},
   "outputs": [],
   "source": [
    "# 函数名称就是一个变量\n",
    "def funA():\n",
    "    print(\"in funA\")\n",
    "\n",
    "funB = funA"
   ]
  },
  {
   "cell_type": "code",
   "execution_count": 9,
   "metadata": {},
   "outputs": [
    {
     "name": "stdout",
     "output_type": "stream",
     "text": [
      "in funA\n"
     ]
    }
   ],
   "source": [
    "funB()"
   ]
  },
  {
   "cell_type": "markdown",
   "metadata": {},
   "source": [
    "### 以上代码得出结论 :\n",
    "- 函数名称是变量\n",
    "- funB 和funA只是名称不一样而已\n",
    "- 既然函数名称是变量,则应该可以被当做参数传入另一个函数"
   ]
  },
  {
   "cell_type": "code",
   "execution_count": 14,
   "metadata": {},
   "outputs": [
    {
     "name": "stdout",
     "output_type": "stream",
     "text": [
      "2700\n"
     ]
    }
   ],
   "source": [
    "# 高阶函数举例\n",
    "# funA是普通函数,返回一个传入数字的100倍数字\n",
    "def funA(n):\n",
    "    return n * 100 \n",
    "# 再写一个函数,把传入参数乘以300倍,利用高阶函数\n",
    "def funB(n):\n",
    "    # 最终是想返回300n\n",
    "    return funA(n) * 3\n",
    "print(funB(9))"
   ]
  },
  {
   "cell_type": "code",
   "execution_count": 17,
   "metadata": {},
   "outputs": [
    {
     "name": "stdout",
     "output_type": "stream",
     "text": [
      "2700\n"
     ]
    }
   ],
   "source": [
    "# 写一个高阶函数\n",
    "def funC(n,f):\n",
    "    # 假定函数是把n扩大100倍\n",
    "    return f(n)* 3\n",
    "a1 = print(funC(9, funA))"
   ]
  },
  {
   "cell_type": "code",
   "execution_count": 18,
   "metadata": {},
   "outputs": [
    {
     "name": "stdout",
     "output_type": "stream",
     "text": [
      "270\n"
     ]
    }
   ],
   "source": [
    "# 比较func 和funb ,显然func的写法要由于funb\n",
    "# 例如:\n",
    "def funD(n):\n",
    "    return n * 10 \n",
    "# 需求变更,需要把n放大30倍数, 此时funB则无法实现\n",
    "# func: 只需要在a1调用时,修改f对应的参数就可以了\n",
    "b1 = print(funC(9,funD))"
   ]
  },
  {
   "cell_type": "code",
   "execution_count": 19,
   "metadata": {
    "collapsed": true
   },
   "outputs": [],
   "source": [
    "# 高阶函数比较灵活"
   ]
  },
  {
   "cell_type": "markdown",
   "metadata": {},
   "source": [
    "### 系统高阶函数-map\n",
    "- reduce\n",
    "- filter"
   ]
  },
  {
   "cell_type": "markdown",
   "metadata": {},
   "source": [
    "- 愿意就是勇摄,即把集合或这列表的元素,每一个元素都按照一定规则进行操作,申城一个新的列表或集合\n",
    "- map函数是系统提供的具有映射功能的函数,返回值是一个迭代对象"
   ]
  },
  {
   "cell_type": "code",
   "execution_count": 24,
   "metadata": {},
   "outputs": [
    {
     "name": "stdout",
     "output_type": "stream",
     "text": [
      "[0, 1, 2, 3, 4, 5, 6, 7, 8, 9]\n",
      "[0, 10, 20, 30, 40, 50, 60, 70, 80, 90]\n"
     ]
    }
   ],
   "source": [
    "# map举例\n",
    "# 有一个列表,想对列表里的每一个元素乘以10,并得到新的列表\n",
    "\n",
    "l1 = [i for i in range(10)]\n",
    "l2 = []\n",
    "for i in l1:\n",
    "    l2.append(i*10)\n",
    "print(l1)\n",
    "print(l2)"
   ]
  },
  {
   "cell_type": "code",
   "execution_count": 28,
   "metadata": {},
   "outputs": [
    {
     "name": "stdout",
     "output_type": "stream",
     "text": [
      "0\n",
      "10\n",
      "20\n",
      "30\n",
      "40\n",
      "50\n",
      "60\n",
      "70\n",
      "80\n",
      "90\n",
      "<map object at 0x7efcbc11f828>\n",
      "[]\n"
     ]
    }
   ],
   "source": [
    "# 利用map实现\n",
    "# map型是一个可迭代的结构,所以可以使用for遍历\n",
    "def mulTen(n):\n",
    "    return n * 10 \n",
    "l3 = map(mulTen,l1)\n",
    "for i in l3:\n",
    "    print(i)\n",
    "\n",
    "# 以下列表生成式的到的结果为空,why?\n",
    "l4 = [i for i in l3]\n",
    "print (l4)"
   ]
  },
  {
   "cell_type": "markdown",
   "metadata": {},
   "source": [
    "### reduce \n",
    "- 原意归并,缩减\n",
    "- 把一个可迭代对象\n",
    "- 对于作为参数的函数要求: 必须俩个参数,必须返回结果\n",
    "- reduce([1,2,3,4,5]) == f(f(f(f(1,2),3),4),5)\n",
    "- reduce 需要导入functools包"
   ]
  },
  {
   "cell_type": "code",
   "execution_count": 31,
   "metadata": {},
   "outputs": [
    {
     "name": "stdout",
     "output_type": "stream",
     "text": [
      "21\n"
     ]
    }
   ],
   "source": [
    "from functools import reduce\n",
    "# 定义一个操作函数\n",
    "# 加入操作函数只是相加\n",
    "def myAdd(x,y):\n",
    "    return x + y \n",
    "# 对于列表[1,2,3,4,5,6]执行myAdd的reduce操作\n",
    "rst = reduce(myAdd,[1,2,3,4,5,6])\n",
    "print(rst)"
   ]
  },
  {
   "cell_type": "markdown",
   "metadata": {},
   "source": [
    "### filter 函数  \n",
    "- 过滤函数: 对一组数据进行过滤,符合条件的数据会生成一个新的列表并返回\n",
    "- 跟map比较:\n",
    "    - 相同: 对列表的每一个元素足以进行操作\n",
    "    - 不同:\n",
    "        - map 会申城一个跟原来数据相对应的新数列\n",
    "        - filter不一定,只要符合条件的才会进入新的数据集合\n",
    "    - filter函数怎么写:\n",
    "        - 利用给定函数怎么写\n",
    "        - 返回值一定是一个布尔值\n",
    "        - 调用格式: filer(f,data),f是过滤函数,data是数据"
   ]
  },
  {
   "cell_type": "code",
   "execution_count": 33,
   "metadata": {},
   "outputs": [
    {
     "name": "stdout",
     "output_type": "stream",
     "text": [
      "<class 'filter'>\n",
      "<filter object at 0x7efca7fd1e80>\n",
      "[4, 56, 8, 34]\n"
     ]
    }
   ],
   "source": [
    "# filter案例\n",
    "# 需要定义过滤函数\n",
    "# 过滤函数要求有输入,返回布尔值\n",
    "\n",
    "# 对于一个列表,对齐进行过滤,偶数组成一个新列表\n",
    "def isEven(a):\n",
    "    return a % 2 == 0  \n",
    "l = [3,4,56,89,9,7,8,34,59]\n",
    "rst = filter(isEven,l)\n",
    "\n",
    "print(type(rst))\n",
    "# 返回的是一个filter对象\n",
    "print(rst)\n",
    "\n",
    "print ([i for i in rst])"
   ]
  },
  {
   "cell_type": "markdown",
   "metadata": {},
   "source": [
    "### 高阶函数- 排序\n",
    "- 把一个序列按照给定算法进行排序\n",
    "- 可配置性更强\n",
    "- key : 在排序对每一个元素进行key函数运算,可以理解成按照key函数定义的漏记进行排序"
   ]
  },
  {
   "cell_type": "code",
   "execution_count": 36,
   "metadata": {},
   "outputs": [
    {
     "name": "stdout",
     "output_type": "stream",
     "text": [
      "Help on built-in function sorted in module builtins:\n",
      "\n",
      "sorted(iterable, /, *, key=None, reverse=False)\n",
      "    Return a new list containing all items from the iterable in ascending order.\n",
      "    \n",
      "    A custom key function can be supplied to customize the sort order, and the\n",
      "    reverse flag can be set to request the result in descending order.\n",
      "\n"
     ]
    }
   ],
   "source": [
    "help(sorted)\n",
    "sort(iterable,key=None,reverse=False )\n",
    "# 以升序返回一个包含迭代中所有想的新列表,提供了一个自定义键函数来自定义排序.\n",
    "# reverse = True 降序请求"
   ]
  },
  {
   "cell_type": "code",
   "execution_count": 40,
   "metadata": {},
   "outputs": [
    {
     "name": "stdout",
     "output_type": "stream",
     "text": [
      "[1, 2, 4, 32, 42, 45, 345, 89567]\n",
      "[89567, 345, 45, 42, 32, 4, 2, 1]\n"
     ]
    }
   ],
   "source": [
    "# 排序案例 -1 \n",
    "a = [1,2,4,89567,345,45,42,32]\n",
    "a1 = sorted(a)\n",
    "print(a1)\n",
    "a2 = sorted(a,reverse = True)\n",
    "print(a2)"
   ]
  },
  {
   "cell_type": "code",
   "execution_count": 41,
   "metadata": {},
   "outputs": [
    {
     "name": "stdout",
     "output_type": "stream",
     "text": [
      "[-100, 67, 34, -5, 5, -1]\n"
     ]
    }
   ],
   "source": [
    "# 排序案例 -2 \n",
    "b = [-1,-5,34,5,67,-100]\n",
    "# 按照绝对值进行排序\n",
    "# abs 是求绝对值的意思\n",
    "# 即按照绝对值的倒叙排序\n",
    "b1 = sorted (b,key=abs,reverse=True)\n",
    "print(b1)"
   ]
  },
  {
   "cell_type": "code",
   "execution_count": 45,
   "metadata": {},
   "outputs": [
    {
     "name": "stdout",
     "output_type": "stream",
     "text": [
      "['Lin', 'cece', 'kamanda', 'lin', 'zui']\n",
      "['cece', 'kamanda', 'lin', 'Lin', 'zui']\n"
     ]
    }
   ],
   "source": [
    "# sorted 案例\n",
    "astr = ['lin','cece','zui','kamanda','Lin']\n",
    "str1  = sorted(astr)\n",
    "print(str1)\n",
    "str2 = sorted(astr , key=str.lower)\n",
    "print(str2)\n",
    "\n",
    "# 函数名其实就是变量名,可以当做参数传入,也可以当做参数返回"
   ]
  },
  {
   "cell_type": "markdown",
   "metadata": {},
   "source": [
    "## 返回函数\n",
    "- 函数可以返回具体的值\n",
    "- 也可以返回一个函数作为结果"
   ]
  },
  {
   "cell_type": "code",
   "execution_count": 47,
   "metadata": {},
   "outputs": [
    {
     "name": "stdout",
     "output_type": "stream",
     "text": [
      "In myF\n",
      "None\n"
     ]
    }
   ],
   "source": [
    "# 定义一个普通函数\n",
    "def myF(a):\n",
    "    print('In myF')\n",
    "    return None\n",
    "a = myF(a)\n",
    "print(a)"
   ]
  },
  {
   "cell_type": "code",
   "execution_count": 49,
   "metadata": {
    "collapsed": true
   },
   "outputs": [],
   "source": [
    "# 函数作为返回值返回,被返回的函数在函数体内定义\n",
    "def myF2():\n",
    "    \n",
    "    def myF3():\n",
    "        print(\"in myF3\")\n",
    "        return 3 \n",
    "    return myF3"
   ]
  },
  {
   "cell_type": "code",
   "execution_count": 51,
   "metadata": {},
   "outputs": [
    {
     "name": "stdout",
     "output_type": "stream",
     "text": [
      "<class 'function'>\n",
      "<function myF2.<locals>.myF3 at 0x7efcbc11c8c8>\n",
      "in myF3\n"
     ]
    },
    {
     "data": {
      "text/plain": [
       "3"
      ]
     },
     "execution_count": 51,
     "metadata": {},
     "output_type": "execute_result"
    }
   ],
   "source": [
    "# 使用上面定义\n",
    "# 调用myF2 ,返回一个函数myF3,赋值给f3\n",
    "f3 = myF2()\n",
    "print(type(f3))\n",
    "print(f3)\n",
    "f3()"
   ]
  },
  {
   "cell_type": "code",
   "execution_count": 56,
   "metadata": {
    "collapsed": true
   },
   "outputs": [],
   "source": [
    "# 负责一点的返回函数的例子\n",
    "# args: 参数列表\n",
    "# 1.myF4 定义函数,返回内部定义的函数myF5\n",
    "# 2.myF5 使用了外部变量,这个变量是myF4的参数\n",
    "\n",
    "def myF4(*args):\n",
    "    def myF5():\n",
    "        rst = 0 \n",
    "        for n in args:\n",
    "            rst += n\n",
    "        return rst \n",
    "    return myF5"
   ]
  },
  {
   "cell_type": "code",
   "execution_count": 57,
   "metadata": {},
   "outputs": [
    {
     "data": {
      "text/plain": [
       "25"
      ]
     },
     "execution_count": 57,
     "metadata": {},
     "output_type": "execute_result"
    }
   ],
   "source": [
    "f5 = myF4(1,2,5,8,9)\n",
    "# F5 调用方式\n",
    "f5() "
   ]
  },
  {
   "cell_type": "code",
   "execution_count": 58,
   "metadata": {},
   "outputs": [
    {
     "data": {
      "text/plain": [
       "100"
      ]
     },
     "execution_count": 58,
     "metadata": {},
     "output_type": "execute_result"
    }
   ],
   "source": [
    "f6 = myF4(10,20,30,40)\n",
    "# F5的调用方式\n",
    "f6()"
   ]
  },
  {
   "cell_type": "markdown",
   "metadata": {},
   "source": [
    "## 闭包 (closure)\n",
    "- 当一个函数在内定义函数,并且内部的函数应用外部函数的参数或局部变量,当内部函数被当做返回值的时候,相关参数和变量保存在返回函数中,这种结果,叫闭包"
   ]
  },
  {
   "cell_type": "markdown",
   "metadata": {},
   "source": [
    "- 上面定义的myF4是一个标准必包结构"
   ]
  },
  {
   "cell_type": "code",
   "execution_count": 59,
   "metadata": {},
   "outputs": [
    {
     "name": "stdout",
     "output_type": "stream",
     "text": [
      "9\n",
      "9\n",
      "9\n"
     ]
    }
   ],
   "source": [
    "# 闭包常见的坑\n",
    "def count():\n",
    "    # 定义列表,列表里存放的是定义的函数\n",
    "    fs = []\n",
    "    for i in range(1,4):\n",
    "        # 定义了一个函数\n",
    "        # f是一个闭包结构\n",
    "        def f():\n",
    "            return i* i \n",
    "        fs.append(f)\n",
    "    return fs\n",
    "f1,f2,f3 = count()\n",
    "print(f1())\n",
    "print(f2())\n",
    "print(f3())\n"
   ]
  },
  {
   "cell_type": "markdown",
   "metadata": {},
   "source": [
    "- 使用的是外边的局部变量\n",
    "### 出现问题:\n",
    "- 造成上述状况的原因是,返回函数引用了变量i,i并飞立即执行,而是等到三个函数都返回的时候才统一使用,此时i已经变成了3,最终调用的时候,返回的是3*3\n",
    "- 此问题描述成:返回闭包时,返回函数不能引用任何循环变量\n",
    "- 解决方案:再创建一个函数,用该函数的参数绑定循环变量的当前值,无论该循环变量以后如何改变,已经绑定的函数参数值不再改变"
   ]
  },
  {
   "cell_type": "markdown",
   "metadata": {},
   "source": [
    "- 使用外部的一个参数,创建一个函数专门用来返回处理问题的参数"
   ]
  },
  {
   "cell_type": "code",
   "execution_count": 61,
   "metadata": {},
   "outputs": [
    {
     "name": "stdout",
     "output_type": "stream",
     "text": [
      "1\n",
      "4\n",
      "9\n"
     ]
    }
   ],
   "source": [
    "# 修改上述函数\n",
    "def count2():\n",
    "    def f(j):\n",
    "        def g():\n",
    "            return j*j \n",
    "        return g\n",
    "    fs=[]\n",
    "    for i in range(1,4):\n",
    "        fs.append(f(i))\n",
    "    return fs\n",
    "f1,f2,f3 = count2()\n",
    "print(f1())\n",
    "print(f2())\n",
    "print(f3())"
   ]
  },
  {
   "cell_type": "markdown",
   "metadata": {},
   "source": [
    "# 装饰器"
   ]
  },
  {
   "cell_type": "code",
   "execution_count": 63,
   "metadata": {},
   "outputs": [
    {
     "name": "stdout",
     "output_type": "stream",
     "text": [
      "hello world\n"
     ]
    }
   ],
   "source": [
    "def hello():\n",
    "    print(\"hello world\")\n",
    "hello() "
   ]
  },
  {
   "cell_type": "code",
   "execution_count": 64,
   "metadata": {},
   "outputs": [
    {
     "name": "stdout",
     "output_type": "stream",
     "text": [
      "hello world\n"
     ]
    }
   ],
   "source": [
    "f = hello\n",
    "f()"
   ]
  },
  {
   "cell_type": "code",
   "execution_count": 65,
   "metadata": {},
   "outputs": [
    {
     "name": "stdout",
     "output_type": "stream",
     "text": [
      "139623615323536\n",
      "139623615323536\n"
     ]
    }
   ],
   "source": [
    "# f和hello是一个函数\n",
    "print(id(f))\n",
    "print(id(hello))"
   ]
  },
  {
   "cell_type": "code",
   "execution_count": 66,
   "metadata": {},
   "outputs": [
    {
     "name": "stdout",
     "output_type": "stream",
     "text": [
      "hello\n",
      "hello\n"
     ]
    }
   ],
   "source": [
    "print(f.__name__)\n",
    "print(hello.__name__)"
   ]
  },
  {
   "cell_type": "code",
   "execution_count": 67,
   "metadata": {
    "collapsed": true
   },
   "outputs": [],
   "source": [
    "# 现在有新的需求\n",
    "# 对hello功能进行扩展,每次打印hello之前打印当前系统时间\n",
    "# 而实现这个功又不能改动现有代码\n",
    "# ==> 使用装饰器材"
   ]
  },
  {
   "cell_type": "markdown",
   "metadata": {},
   "source": [
    "### 装饰器(Decrator)\n",
    "- 在不改动函数代码的基础上无线扩展函数工鞥呢的一种机制,本质上讲,装饰器是一个返回函数的高阶函数\n",
    "- "
   ]
  }
 ],
 "metadata": {
  "kernelspec": {
   "display_name": "Python 3",
   "language": "python",
   "name": "python3"
  },
  "language_info": {
   "codemirror_mode": {
    "name": "ipython",
    "version": 3
   },
   "file_extension": ".py",
   "mimetype": "text/x-python",
   "name": "python",
   "nbconvert_exporter": "python",
   "pygments_lexer": "ipython3",
   "version": "3.6.3"
  }
 },
 "nbformat": 4,
 "nbformat_minor": 2
}
