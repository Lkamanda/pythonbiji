{
 "cells": [
  {
   "cell_type": "markdown",
   "metadata": {},
   "source": [
    "# 文件\n",
    "- 文件保存信息的一种数据集合\n",
    "- 常用操作\n",
    "    - 打开关闭,(文件一旦打开,需要关闭操作)\n",
    "    - 读写内容\n",
    "    - 查找\n",
    "# open函数\n",
    "- open函数负责打开文件,带有很多参数\n",
    "- 第一个参数:必须有,文件的路径和名称\n",
    "- mode :表示文件用什么方式打开\n",
    "    - r:只读方式打开\n",
    "    - w: 写方式打开,会覆盖以前的内容\n",
    "    - x:创建方式打开,如果文件已经存在,报错\n",
    "    - a:append方式,以追加的方式对文件内容进行写入\n",
    "    - b:binary 方式,而金子方式写入\n",
    "    - t:文本打开\n",
    "    - +:可读写"
   ]
  },
  {
   "cell_type": "code",
   "execution_count": 1,
   "metadata": {
    "collapsed": true
   },
   "outputs": [],
   "source": [
    "# 打开文件,用写的方式\n",
    "# r表示后面字符串内容不需要转译\n",
    "# f称之为打开文件句柄,(打开文件实例)\n",
    "f = open(r\"test01.txt\",'w')\n",
    "# 文件打开必须关闭\n",
    "f.close()\n",
    "\n",
    "# 此方式说明,以写方式打开文件,默认是如果没有文件,则创建"
   ]
  },
  {
   "cell_type": "markdown",
   "metadata": {},
   "source": [
    "# with 语句\n",
    "- with 语句使用的技术是一种上下问管理协议(ContextMangementProtocal)\n",
    "- 自动判断文件的作用地域,自动关闭不适用的打开的文件"
   ]
  },
  {
   "cell_type": "code",
   "execution_count": 2,
   "metadata": {
    "collapsed": true
   },
   "outputs": [],
   "source": [
    "# with 语句案例\n",
    "with open (r\"test01.txt\",'r') as f:\n",
    "    pass\n",
    "# 下面语句块对文件f进行操作\n",
    "#在本模块中不需要在使用close关闭文件ｆ\n"
   ]
  },
  {
   "cell_type": "code",
   "execution_count": 4,
   "metadata": {},
   "outputs": [
    {
     "name": "stdout",
     "output_type": "stream",
     "text": [
      "有志者事竟成\n",
      "\n",
      "破釜沉舟\n",
      "\n",
      "百二秦关终归楚\n",
      "\n",
      "苦心人\n",
      "\n",
      "天不负\n",
      "\n",
      "卧薪尝胆\n",
      "\n",
      "三千越甲可吞吴\n",
      "\n"
     ]
    }
   ],
   "source": [
    "# with 案例\n",
    "with open(r'test01.txt','r') as f:\n",
    "    # 按行读取内容\n",
    "    strline = f.readline()\n",
    "    # 此结构保证能够完整读取文件直到结束\n",
    "    while strline:\n",
    "        print(strline)\n",
    "        strline = f.readline()\n",
    "        "
   ]
  },
  {
   "cell_type": "code",
   "execution_count": 7,
   "metadata": {},
   "outputs": [
    {
     "name": "stdout",
     "output_type": "stream",
     "text": [
      "有志者事竟成\n",
      "\n",
      "破釜沉舟\n",
      "\n",
      "百二秦关终归楚\n",
      "\n",
      "苦心人\n",
      "\n",
      "天不负\n",
      "\n",
      "卧薪尝胆\n",
      "\n",
      "三千越甲可吞吴\n",
      "\n"
     ]
    }
   ],
   "source": [
    "# 能用list打开文件参数,把文件内没遗憾内容作为一个元素\n",
    "with open (r'test01.txt','r') as f:\n",
    "    # 以打开的文件作为参数,创建列表\n",
    "    l = list(f)\n",
    "    for line in l:\n",
    "        print(line)"
   ]
  },
  {
   "cell_type": "code",
   "execution_count": 9,
   "metadata": {},
   "outputs": [
    {
     "name": "stdout",
     "output_type": "stream",
     "text": [
      "2\n",
      "有志\n"
     ]
    }
   ],
   "source": [
    "# read 是按字符读取文件内容\n",
    "# 允许输入参数决定读取几个字符,如果没有指定,从当前位置读取到结尾\n",
    "# 否则,从当前位置读取指定个数字符\n",
    "# 赋值的时候等号前各有一个空格  \n",
    "# 参数直接写死 a=100\n",
    "with open(r'test01.txt', 'r') as f:\n",
    "    strChar = f.read(2)\n",
    "    print (len(strChar))\n",
    "    print(strChar)\n",
    "\n",
    "# 作业\n",
    "# 使用read读取文件,每次读取一个,使用循环读完\n",
    "# 尽量注意格式\n"
   ]
  },
  {
   "cell_type": "code",
   "execution_count": 30,
   "metadata": {},
   "outputs": [
    {
     "name": "stdout",
     "output_type": "stream",
     "text": [
      "有\n"
     ]
    }
   ],
   "source": []
  },
  {
   "cell_type": "code",
   "execution_count": null,
   "metadata": {
    "collapsed": true
   },
   "outputs": [],
   "source": []
  },
  {
   "cell_type": "code",
   "execution_count": null,
   "metadata": {
    "collapsed": true
   },
   "outputs": [],
   "source": []
  },
  {
   "cell_type": "code",
   "execution_count": null,
   "metadata": {
    "collapsed": true
   },
   "outputs": [],
   "source": []
  },
  {
   "cell_type": "code",
   "execution_count": null,
   "metadata": {
    "collapsed": true
   },
   "outputs": [],
   "source": []
  },
  {
   "cell_type": "code",
   "execution_count": null,
   "metadata": {
    "collapsed": true
   },
   "outputs": [],
   "source": []
  },
  {
   "cell_type": "code",
   "execution_count": null,
   "metadata": {
    "collapsed": true
   },
   "outputs": [],
   "source": []
  },
  {
   "cell_type": "code",
   "execution_count": null,
   "metadata": {
    "collapsed": true
   },
   "outputs": [],
   "source": []
  },
  {
   "cell_type": "code",
   "execution_count": null,
   "metadata": {
    "collapsed": true
   },
   "outputs": [],
   "source": []
  },
  {
   "cell_type": "code",
   "execution_count": null,
   "metadata": {
    "collapsed": true
   },
   "outputs": [],
   "source": []
  },
  {
   "cell_type": "code",
   "execution_count": null,
   "metadata": {
    "collapsed": true
   },
   "outputs": [],
   "source": []
  },
  {
   "cell_type": "code",
   "execution_count": null,
   "metadata": {
    "collapsed": true
   },
   "outputs": [],
   "source": []
  }
 ],
 "metadata": {
  "kernelspec": {
   "display_name": "Python 3",
   "language": "python",
   "name": "python3"
  },
  "language_info": {
   "codemirror_mode": {
    "name": "ipython",
    "version": 3
   },
   "file_extension": ".py",
   "mimetype": "text/x-python",
   "name": "python",
   "nbconvert_exporter": "python",
   "pygments_lexer": "ipython3",
   "version": "3.6.3"
  }
 },
 "nbformat": 4,
 "nbformat_minor": 2
}
