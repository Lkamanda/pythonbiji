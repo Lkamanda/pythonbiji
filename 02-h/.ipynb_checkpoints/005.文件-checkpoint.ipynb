{
 "cells": [
  {
   "cell_type": "markdown",
   "metadata": {},
   "source": [
    "# 文件\n",
    "- 文件保存信息的一种数据集合\n",
    "- 常用操作\n",
    "    - 打开关闭,(文件一旦打开,需要关闭操作)\n",
    "    - 读写内容\n",
    "    - 查找\n",
    "# open函数\n",
    "- open函数负责打开文件,带有很多参数\n",
    "- 第一个参数:必须有,文件的路径和名称\n",
    "- mode :表示文件用什么方式打开\n",
    "    - r:只读方式打开\n",
    "    - w: 写方式打开,会覆盖以前的内容\n",
    "    - x:"
   ]
  }
 ],
 "metadata": {
  "kernelspec": {
   "display_name": "Python 3",
   "language": "python",
   "name": "python3"
  },
  "language_info": {
   "codemirror_mode": {
    "name": "ipython",
    "version": 3
   },
   "file_extension": ".py",
   "mimetype": "text/x-python",
   "name": "python",
   "nbconvert_exporter": "python",
   "pygments_lexer": "ipython3",
   "version": "3.6.3"
  }
 },
 "nbformat": 4,
 "nbformat_minor": 2
}
