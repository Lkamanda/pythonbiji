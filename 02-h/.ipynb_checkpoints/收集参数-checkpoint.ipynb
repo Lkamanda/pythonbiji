{
 "cells": [
  {
   "cell_type": "code",
   "execution_count": 54,
   "metadata": {
    "collapsed": true
   },
   "outputs": [],
   "source": [
    "def stu(name,age,hobby='没有',*args,**kwargs):\n",
    "    print(args)\n",
    "    print(kwargs)\n",
    "    print('我加{0},我今年{1}'.format(name,age))\n",
    "    print(hobby)\n",
    "    if hobby ==\"没有\":\n",
    "        print('我没有爱好')\n",
    "    else:\n",
    "        print('我的爱好是{0}'.format(hobby))\n",
    "    print('*'*20)\n",
    "    for i in args:\n",
    "        print(i)\n",
    "    print('#'*20)\n",
    "    for k,v in kwargs.items():\n",
    "        print(k,'---',v)"
   ]
  },
  {
   "cell_type": "code",
   "execution_count": 44,
   "metadata": {
    "collapsed": true
   },
   "outputs": [],
   "source": [
    "name ='xiaolin'\n",
    "age =18 \n",
    "cc = (1,2,3)\n",
    "a = '没有'"
   ]
  },
  {
   "cell_type": "code",
   "execution_count": 56,
   "metadata": {},
   "outputs": [
    {
     "name": "stdout",
     "output_type": "stream",
     "text": [
      "(1, 2, 3)\n",
      "{'hobby2': 'lanqiu', 'hobby3': '足球'}\n",
      "我加xiaolin,我今年18\n",
      "篮球\n",
      "我的爱好是篮球\n",
      "********************\n",
      "1\n",
      "2\n",
      "3\n",
      "####################\n",
      "hobby2 --- lanqiu\n",
      "hobby3 --- 足球\n"
     ]
    }
   ],
   "source": [
    "stu(name,age,'篮球',*cc,hobby2='lanqiu',hobby3='足球')"
   ]
  }
 ],
 "metadata": {
  "kernelspec": {
   "display_name": "Python 3",
   "language": "python",
   "name": "python3"
  },
  "language_info": {
   "codemirror_mode": {
    "name": "ipython",
    "version": 3
   },
   "file_extension": ".py",
   "mimetype": "text/x-python",
   "name": "python",
   "nbconvert_exporter": "python",
   "pygments_lexer": "ipython3",
   "version": "3.6.3"
  }
 },
 "nbformat": 4,
 "nbformat_minor": 2
}
