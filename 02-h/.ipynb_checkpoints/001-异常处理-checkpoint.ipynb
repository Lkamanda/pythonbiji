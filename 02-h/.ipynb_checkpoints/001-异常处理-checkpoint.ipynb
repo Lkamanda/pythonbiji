{
 "cells": [
  {
   "cell_type": "markdown",
   "metadata": {},
   "source": [
    "# 异常\n",
    "- 广义上的错误分为错误的异常\n",
    "- 错误的是可以人为避免\n",
    "- 异常指在语法漏记正确的前提下,出现的问题\n",
    "- 在python里,异常是一个诶,可以处理使用"
   ]
  },
  {
   "cell_type": "markdown",
   "metadata": {},
   "source": [
    "## 异常分类\n",
    "\n",
    "- AssertError      断言语句(assert)失败\n",
    "- AttributeError   尝试访问未知属性\n",
    "- EOFError         用户输入文件尾标志EOF(ctrl +d)\n",
    "- FlaotingPointError 浮点计算错误\n",
    "- GenertorExit Generator.class()  方法被调用的时候\n",
    "- ImportError  导入模块失败的时候\n",
    "- IdexError    索引超出序列的范围\n",
    "- KeyError    字典查找一个不存在的关键字\n",
    "- KeyboardInterrupt 用户输入中断键(Ctrl+c)\n",
    "- MemoryError 内存溢出\n",
    "- NameError  尝试访问一个不存在的关键字\n",
    "- NotImplementedError  尚未实现额方法\n",
    "- OSError  操作系统产生的异常\n",
    "- OverflowError  操作系统产生的异常 (例如打开一个不存在的文件)\n",
    "- RuntimeError 一般运行是错误\n",
    "- SyntaxError Python的语法错误\n",
    "- StopInterationError  缩进错误\n",
    "- SystemError Python编辑器系统错误\n",
    "- SystemExit Python编辑器进程被关闭\n",
    "- TypeError  不同类型间的无效操作\n",
    "- UnboundLocalError  访问一个未初始化的本地变量(NameError的子类)\n",
    "- UnicodeEncodeError Unicode编码是的错误(UnicodeError的子类)\n",
    "- UnicodeDecodeError Unicode解码时的错误(UnicodeError的子类)\n",
    "- ValueError 传入无效的参数\n",
    "- ZerovisionError除数为零"
   ]
  },
  {
   "cell_type": "markdown",
   "metadata": {},
   "source": [
    "# 异常处理\n",
    "- 不能保证程序永远正确运行\n",
    "- 但是,必须保证在最坏的情况下得到问题被妥善处理\n",
    "- python的处理模块全部语法为:\n",
    "\n",
    "       try:\n",
    "           尝试实现某个具体操作\n",
    "           如果没有出现异常,任务就可以完成\n",
    "           如果出现异常,将异常从当前代码块扔出去尝试解决异常\n",
    "        \n",
    "        except 异常类型1:\n",
    "            解决方案1:用于尝试在此处处理异常解决问题\n",
    "        except (异常类型2,3):\n",
    "            解决方案2:用于尝试在此处处理异常解决问题\n",
    "        else:\n",
    "             如果没有出现任何异常,将会执行此处代码\n",
    "         finally:\n",
    "             不管有无异常都执行的代码\n",
    "- 流程\n",
    "   1.执行try下面的语句\n",
    "   2.如果出现异常,则在except语句里查找对应异常并进行处理\n",
    "   3.如果没有出现异常,则执行else语句内容\n",
    "   4.最后,不管是否出现异常,都执行finally语句\n",
    "- 除except 最少一个以外,else和finally可选\n",
    "       "
   ]
  },
  {
   "cell_type": "code",
   "execution_count": 1,
   "metadata": {},
   "outputs": [
    {
     "name": "stdout",
     "output_type": "stream",
     "text": [
      "请输入你想输入的数字:10\n",
      "计算结果为:10.0\n"
     ]
    }
   ],
   "source": [
    "# 简单案例\n",
    "try:\n",
    "    num = int(input(\"请输入你想输入的数字:\"))\n",
    "    rst = 100/num \n",
    "    print('计算结果为:{0}'.format(rst))\n",
    "except:\n",
    "    print('你输入有误')\n",
    "    # 退出程序\n",
    "    exit()"
   ]
  },
  {
   "cell_type": "code",
   "execution_count": 5,
   "metadata": {},
   "outputs": [
    {
     "name": "stdout",
     "output_type": "stream",
     "text": [
      "请输入你想输入的数字:e\n",
      "我不知道就出错了\n",
      "invalid literal for int() with base 10: 'e'\n"
     ]
    }
   ],
   "source": [
    "# 给出提示信息\n",
    "# 捕获异常,把异常实例,异常信息在实例里\n",
    "# 如果是多种异常,需要把越具体的错误,越往前放\n",
    "# 在异常类继承关系中,越是子类的异常,越往前放\n",
    "# 越是父类的异常,越往后放\n",
    "\n",
    "# 在处理异常的时候,一旦拦截到某一属性,则不在继续往下查看,直接进行下一个代码\n",
    "# 基友finally则执行finally语句快,否则就执行下一个大的语句\n",
    "try:\n",
    "    num = int(input(\"请输入你想输入的数字:\"))\n",
    "    rst = 100/num \n",
    "    prit('计算结果为:{0}'.format(rst))\n",
    "# 一下语句是捕获ZeroDivisionError异常并实例化实例e\n",
    "except ZeroDivisionError as e:\n",
    "    print(e)\n",
    "    # 退出程序\n",
    "    exit()\n",
    "except NameError as e:\n",
    "    print(e)\n",
    "    exit()\n",
    "except AttributeError as e:\n",
    "    print('访问未知的属性名')\n",
    "    print(e)\n",
    "    exit()\n",
    "# 所有异常都是继承自Exception\n",
    "# excpt Exception as e : 是最后一个 exception\n",
    "except Exception as e:\n",
    "    print('我不知道就出错了')\n",
    "    print(e)\n",
    "    "
   ]
  },
  {
   "cell_type": "markdown",
   "metadata": {},
   "source": [
    "# 用户手动引发异常\n",
    "- 当某些情况,用户希望自己引发一个异常的时候,可以使用\n",
    "- raise 关键字引发异常"
   ]
  },
  {
   "cell_type": "code",
   "execution_count": 14,
   "metadata": {},
   "outputs": [
    {
     "name": "stdout",
     "output_type": "stream",
     "text": [
      "zxy\n",
      "123\n",
      "v\n",
      "我坑定会执行\n"
     ]
    }
   ],
   "source": [
    "# raise 案例  -1\n",
    "try:\n",
    "    print('zxy')\n",
    "    print('123')\n",
    "#     手动引发一个异常\n",
    "#     注意语法:raise ErrorClassName\n",
    "    raise ValueError\n",
    "    print('设置自定义错误')\n",
    "except NameError as e:\n",
    "    print('NameError:',end='')\n",
    "    print(e)\n",
    "except ValueError as e:\n",
    "    print('v')\n",
    "except Exception as e:\n",
    "    print('有异常')\n",
    "finally:\n",
    "    print('我坑定会执行')"
   ]
  },
  {
   "cell_type": "code",
   "execution_count": 30,
   "metadata": {},
   "outputs": [
    {
     "name": "stdout",
     "output_type": "stream",
     "text": [
      "zxy\n",
      "123\n",
      "小林异常触发\n",
      "我肯定会执行\n"
     ]
    }
   ],
   "source": [
    "# raise 案例 - 2 \n",
    "# 自定义异常 \n",
    "# 需要注意: 自定义异常必须是系统异常的子类\n",
    "class XinlinError(ValueError):\n",
    "    pass\n",
    "try:\n",
    "    print('zxy')\n",
    "    print('123')\n",
    "#     手动引发一个异常\n",
    "#     注意语法:raise ErrorClassName\n",
    "    raise XinlinError\n",
    "    print('设置自定义错误')\n",
    "except XinlinError as e :\n",
    "    print('小林异常触发')\n",
    "except NameError as e:\n",
    "    print('NameError:',end='')\n",
    "except ValueError as e:\n",
    "    print(e)\n",
    "except Exception as e:\n",
    "    print('有异常')\n",
    "finally:\n",
    "    print('我肯定会执行')"
   ]
  },
  {
   "cell_type": "code",
   "execution_count": null,
   "metadata": {
    "collapsed": true
   },
   "outputs": [],
   "source": [
    "# else 语句案例\n",
    "\n",
    "try:\n",
    "    num = int(input(\"请输入你想输入的数字:\"))\n",
    "    rst = 100/num \n",
    "    print('计算结果为:{0}'.format(rst))\n",
    "except Exception as e:\n",
    "    print('Exception')\n",
    "else:\n",
    "    print('No Exception')\n",
    "finally:\n",
    "    print('反正我也会最终执行')"
   ]
  }
 ],
 "metadata": {
  "kernelspec": {
   "display_name": "Python 3",
   "language": "python",
   "name": "python3"
  },
  "language_info": {
   "codemirror_mode": {
    "name": "ipython",
    "version": 3
   },
   "file_extension": ".py",
   "mimetype": "text/x-python",
   "name": "python",
   "nbconvert_exporter": "python",
   "pygments_lexer": "ipython3",
   "version": "3.6.3"
  }
 },
 "nbformat": 4,
 "nbformat_minor": 2
}
