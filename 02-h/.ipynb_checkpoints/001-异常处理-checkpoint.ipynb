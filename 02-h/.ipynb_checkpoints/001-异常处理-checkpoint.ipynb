{
 "cells": [
  {
   "cell_type": "markdown",
   "metadata": {},
   "source": [
    "# 异常\n",
    "- 广义上的错误分为错误的异常\n",
    "- 错误的是可以人为避免\n",
    "- 异常指在语法漏记正确的前提下,出现的问题\n",
    "- 在python里,异常是一个诶,可以处理使用"
   ]
  },
  {
   "cell_type": "markdown",
   "metadata": {},
   "source": [
    "## 异常分类\n",
    "\n",
    "- AssertError      断言语句(assert)失败\n",
    "- AttributeError   尝试访问未知属性\n",
    "- EOFError         用户输入文件尾标志EOF(ctrl +d)\n",
    "- FlaotingPointError 浮点计算错误\n",
    "- GenertorExit Generator.class()  方法被调用的时候\n",
    "- ImportError  导入模块失败的时候\n",
    "- IdexError    索引超出序列的范围\n",
    "- KeyError    字典查找一个不存在的关键字\n",
    "- KeyboardInterrupt 用户输入中断键(Ctrl+c)\n",
    "- MemoryError 内存溢出\n",
    "- NameError  尝试访问一个不存在的关键字\n",
    "- NotImplementedError  尚未实现额方法\n",
    "- OSError  操作系统产生的异常\n",
    "- OverflowError  操作系统产生的异常 (例如打开一个不存在的文件)\n",
    "- RuntimeError 一般运行是错误\n",
    "- SyntaxError Python的语法错误\n",
    "- StopInterationError  缩进错误\n",
    "- SystemError Python编辑器系统错误\n",
    "- SystemExit Python编辑器进程被关闭\n",
    "- TypeError  不同类型间的无效操作\n",
    "- UnboundLocalError  访问一个未初始化的本地变量(NameError的子类)\n",
    "- UnicodeEncodeError Unicode编码是的错误(UnicodeError的子类)\n",
    "- UnicodeDecodeError Unicode解码时的错误(UnicodeError的子类)\n",
    "- ValueError 传入无效的参数\n",
    "- ZerovisionError除数为零"
   ]
  },
  {
   "cell_type": "markdown",
   "metadata": {},
   "source": [
    "# 异常处理\n",
    "- 不能保证程序永远正确运行\n",
    "- 但是,必须保证在最坏的情况下得到问题被妥善处理\n",
    "- python的处理模块全部语法为:\n",
    "\n",
    "       try:\n",
    "           尝试实现某个具体操作\n",
    "           如果没有出现异常,任务就可以完成\n",
    "           如果出现异常,将异常从当前代码块扔出去尝试解决异常\n",
    "        \n",
    "        except 异常类型1:\n",
    "            解决方案1:用于尝试在此处处理异常解决问题\n",
    "        except (异常类型2,3):\n",
    "            解决方案2:用于尝试在此处处理异常解决问题\n",
    "        else:\n",
    "             如果没有出现任何异常,将会执行此处代码\n",
    "         finally:\n",
    "             不管有无异常都执行的代码\n",
    "- 流程\n",
    "   1.执行try下面的语句\n",
    "   2.如果出现异常,则在except语句里查找对应异常并进行处理\n",
    "   3.如果没有出现异常,则执行else语句内容\n",
    "   4.最后,不管是否出现异常,都执行finally语句\n",
    "- 除except 最少一个以外,else和finally可选\n",
    "       "
   ]
  },
  {
   "cell_type": "code",
   "execution_count": null,
   "metadata": {},
   "outputs": [],
   "source": []
  }
 ],
 "metadata": {
  "kernelspec": {
   "display_name": "Python 3",
   "language": "python",
   "name": "python3"
  },
  "language_info": {
   "codemirror_mode": {
    "name": "ipython",
    "version": 3
   },
   "file_extension": ".py",
   "mimetype": "text/x-python",
   "name": "python",
   "nbconvert_exporter": "python",
   "pygments_lexer": "ipython3",
   "version": "3.6.3"
  }
 },
 "nbformat": 4,
 "nbformat_minor": 2
}
