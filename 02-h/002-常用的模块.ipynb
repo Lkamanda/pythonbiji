{
 "cells": [
  {
   "cell_type": "markdown",
   "metadata": {
    "collapsed": true
   },
   "source": [
    "# 常用模块\n",
    "- calendar\n",
    "- time\n",
    "- datetime\n",
    "- timeit\n",
    "- os\n",
    "- shutil\n",
    "- zip\n",
    "- math\n",
    "- string\n",
    "- 上述模块使用需要先导入,除string 是特例\n",
    "- calendar ,time, datetime的区别参考中文意思"
   ]
  },
  {
   "cell_type": "markdown",
   "metadata": {},
   "source": [
    "# calender\n",
    "- 跟日历相关的模块"
   ]
  },
  {
   "cell_type": "code",
   "execution_count": 2,
   "metadata": {
    "collapsed": true
   },
   "outputs": [],
   "source": [
    "# 使用需要先导入\n",
    "import calendar"
   ]
  },
  {
   "cell_type": "code",
   "execution_count": 12,
   "metadata": {},
   "outputs": [
    {
     "name": "stdout",
     "output_type": "stream",
     "text": [
      "<class 'str'>\n"
     ]
    }
   ],
   "source": [
    "# calendar: 获取一年的日历字符串\n",
    "# 参数\n",
    "# w = 每个日期之间的间隔字符数\n",
    "# l = 每周所占用的行数\n",
    "# c = 每个月之间的间隔字符数\n",
    "\n",
    "cal = calendar.calendar(2018)\n",
    "print(type(cal))"
   ]
  },
  {
   "cell_type": "code",
   "execution_count": 9,
   "metadata": {
    "collapsed": true
   },
   "outputs": [],
   "source": [
    "cal =calendar.calendar(2017,l=0,c=5)"
   ]
  },
  {
   "cell_type": "code",
   "execution_count": 16,
   "metadata": {},
   "outputs": [
    {
     "data": {
      "text/plain": [
       "True"
      ]
     },
     "execution_count": 16,
     "metadata": {},
     "output_type": "execute_result"
    }
   ],
   "source": [
    "# isleap: 判断某一年是否闰年  -> 布尔值\n",
    "calendar.isleap(2000)"
   ]
  },
  {
   "cell_type": "code",
   "execution_count": 18,
   "metadata": {},
   "outputs": [
    {
     "data": {
      "text/plain": [
       "4"
      ]
     },
     "execution_count": 18,
     "metadata": {},
     "output_type": "execute_result"
    }
   ],
   "source": [
    "# leapdays: 获取指定年份之间的闰年个数\n",
    "calendar.leapdays(2001,2018)"
   ]
  },
  {
   "cell_type": "code",
   "execution_count": 21,
   "metadata": {},
   "outputs": [
    {
     "name": "stdout",
     "output_type": "stream",
     "text": [
      "     March 2018\n",
      "Mo Tu We Th Fr Sa Su\n",
      "          1  2  3  4\n",
      " 5  6  7  8  9 10 11\n",
      "12 13 14 15 16 17 18\n",
      "19 20 21 22 23 24 25\n",
      "26 27 28 29 30 31\n",
      "\n"
     ]
    }
   ],
   "source": [
    "# month() 获取某个月的日历字符串\n",
    "# 格式:calender,month(年,月)\n",
    "# 回值:月日历的字符串\n",
    "cal = calendar.month(2018,3)\n",
    "print(cal)"
   ]
  },
  {
   "cell_type": "code",
   "execution_count": 23,
   "metadata": {},
   "outputs": [
    {
     "name": "stdout",
     "output_type": "stream",
     "text": [
      "Help on function monthrange in module calendar:\n",
      "\n",
      "monthrange(year, month)\n",
      "    Return weekday (0-6 ~ Mon-Sun) and number of days (28-31) for\n",
      "    year, month.\n",
      "\n"
     ]
    }
   ],
   "source": [
    "# mothrange() 获取一个月的周几开始和天数\n",
    "# 格式: calender.monthrange(年,月)\n",
    "# 回值: 元祖(周几开始,总天数)\n",
    "# 注意:周默认0 - 6 表示周一到周天\n",
    "help(calendar.monthrange)"
   ]
  },
  {
   "cell_type": "code",
   "execution_count": 27,
   "metadata": {},
   "outputs": [
    {
     "name": "stdout",
     "output_type": "stream",
     "text": [
      "(2, 31)\n"
     ]
    }
   ],
   "source": [
    "t = calendar.monthrange(2017,3)\n",
    "print(t)\n",
    "# 2017年3月的的第一天是周三,总共由31天"
   ]
  },
  {
   "cell_type": "code",
   "execution_count": 30,
   "metadata": {},
   "outputs": [
    {
     "name": "stdout",
     "output_type": "stream",
     "text": [
      "2\n",
      "31\n"
     ]
    }
   ],
   "source": [
    "w,t =calendar.monthrange(2017,3)\n",
    "print(w)\n",
    "print(t)"
   ]
  },
  {
   "cell_type": "code",
   "execution_count": 35,
   "metadata": {},
   "outputs": [
    {
     "name": "stdout",
     "output_type": "stream",
     "text": [
      "<class 'list'>\n",
      "[[0, 0, 0, 1, 2, 3, 4], [5, 6, 7, 8, 9, 10, 11], [12, 13, 14, 15, 16, 17, 18], [19, 20, 21, 22, 23, 24, 25], [26, 27, 28, 29, 30, 31, 0]]\n"
     ]
    }
   ],
   "source": [
    "# mothcalendar()返回一个月每一天的矩阵列表\n",
    "# 格式: calender.mothcalendar(年,月)\n",
    "# 返回值: 二级列表\n",
    "# 注意 : 矩阵中没有天数用0表示\n",
    "m = calendar.monthcalendar(2018,3)\n",
    "print(type(m))\n",
    "print(m)\n"
   ]
  },
  {
   "cell_type": "code",
   "execution_count": 47,
   "metadata": {},
   "outputs": [
    {
     "name": "stdout",
     "output_type": "stream",
     "text": [
      "      1 2 3 4 \n",
      "5 6 7 8 9 10 11 \n",
      "12 13 14 15 16 17 18 \n",
      "19 20 21 22 23 24 25 \n",
      "26 27 28 29 30 31   \n"
     ]
    }
   ],
   "source": [
    "for i in  m :\n",
    "    for j in i:\n",
    "        if j == 0:\n",
    "            print(\" \",end=' ')\n",
    "        else:\n",
    "            print(j, end=' ')\n",
    "    print()"
   ]
  },
  {
   "cell_type": "code",
   "execution_count": 54,
   "metadata": {
    "collapsed": true
   },
   "outputs": [],
   "source": [
    "# prcal: print calendar   直接打印日历\n",
    "calendar.prcal(2018)"
   ]
  },
  {
   "cell_type": "code",
   "execution_count": 55,
   "metadata": {},
   "outputs": [
    {
     "name": "stdout",
     "output_type": "stream",
     "text": [
      "     March 2018\n",
      "Mo Tu We Th Fr Sa Su\n",
      "          1  2  3  4\n",
      " 5  6  7  8  9 10 11\n",
      "12 13 14 15 16 17 18\n",
      "19 20 21 22 23 24 25\n",
      "26 27 28 29 30 31\n"
     ]
    }
   ],
   "source": [
    "# prmonth() 直接打印整个月的日历\n",
    "# 格式: calendar.promonth(年,月)\n",
    "# 返回值:无\n",
    "calendar.prmonth(2018,3)"
   ]
  },
  {
   "cell_type": "code",
   "execution_count": 58,
   "metadata": {},
   "outputs": [
    {
     "data": {
      "text/plain": [
       "1"
      ]
     },
     "execution_count": 58,
     "metadata": {},
     "output_type": "execute_result"
    }
   ],
   "source": [
    "# weekday()获取周几\n",
    "# 格式:calendar.weekday(年,月,日)\n",
    "# 返回值:周几对应的数字\n",
    "calendar.weekday(2018,3,27)"
   ]
  },
  {
   "cell_type": "markdown",
   "metadata": {},
   "source": [
    "# time模块\n",
    "## 时间戳\n",
    "    - 一个时间表示,根据不同语言,可以是证书或者浮点数\n",
    "    - 是从1970年1月1日0分0秒到现在经历的秒数\n",
    "    - 如果表示的时间是1970年以前或者太遥远的未来,可能出现异常\n",
    "    - 32位系统能够支持2038年\n",
    "\n",
    "- UTC时间\n",
    "    - UTC又称为世界协调时间,以应该的格林尼治所在地区的时间作为参考的时间,也叫做世界标准时间\n",
    "    - 中国时间是UTC+8 东八区\n",
    "- 夏令时\n",
    "    - 夏令时就是在夏天的时候将时间条快一个小时,本意督促大家早睡早起,每天变成25小时\n",
    "### 时间元组\n",
    "     - 一个包含时间内容的普通元组\n",
    "     \n",
    "     索引     内容      属性       值\n",
    "     0         年      tm_year    2015\n",
    "     1         月      tm_mon     1~12\n",
    "     2         日      tm_mday    1~31\n",
    "     3         时      tm_hour    0~23\n",
    "     4         分      tm_min     0~59\n",
    "     5         秒      tm_sec     0-61  60 表示闰秒  61保留至\n",
    "     6         周几      tm_wday    0~6\n",
    "     7         第几天    tm_wday    1~366\n",
    "     8         夏令时   tm_isdst   0,1,-1(表示夏令时)"
   ]
  },
  {
   "cell_type": "code",
   "execution_count": 12,
   "metadata": {
    "collapsed": true
   },
   "outputs": [],
   "source": [
    "# 需要单独导入\n",
    "import time"
   ]
  },
  {
   "cell_type": "code",
   "execution_count": 64,
   "metadata": {},
   "outputs": [
    {
     "name": "stdout",
     "output_type": "stream",
     "text": [
      "-28800\n",
      "0\n"
     ]
    }
   ],
   "source": [
    "# 时间模块的属性\n",
    "# timezone: 当前系统时区和UTC相差的秒数,在没有夏令时的情况下的间隔\n",
    "# 东八区-28800\n",
    "\n",
    "print (time.timezone)\n",
    "\n",
    "# daylight 测当前是否是夏令时时间状态 0 表示 是\n",
    "print(time.daylight)"
   ]
  },
  {
   "cell_type": "code",
   "execution_count": 13,
   "metadata": {},
   "outputs": [
    {
     "data": {
      "text/plain": [
       "1535506688.3844523"
      ]
     },
     "execution_count": 13,
     "metadata": {},
     "output_type": "execute_result"
    }
   ],
   "source": [
    "# 获取时间戳\n",
    "# 时间戳 : class float  浮点型\n",
    "time.time()  "
   ]
  },
  {
   "cell_type": "code",
   "execution_count": 19,
   "metadata": {},
   "outputs": [
    {
     "name": "stdout",
     "output_type": "stream",
     "text": [
      "time.struct_time(tm_year=2018, tm_mon=8, tm_mday=29, tm_hour=9, tm_min=42, tm_sec=51, tm_wday=2, tm_yday=241, tm_isdst=0)\n",
      "2018\n"
     ]
    }
   ],
   "source": [
    "# localtime 得到当前的时间的时间结构\n",
    "# 可以通过点操作符得到相应的属性元素的内容\n",
    "t = time.localtime()\n",
    "print(t)\n",
    "print(t.tm_year)"
   ]
  },
  {
   "cell_type": "code",
   "execution_count": 29,
   "metadata": {},
   "outputs": [
    {
     "name": "stdout",
     "output_type": "stream",
     "text": [
      "Wed Aug 29 09:49:53 2018\n",
      "<class 'str'>\n"
     ]
    }
   ],
   "source": [
    "#asctime() 返回元祖的正常的字符串化之后的时间格式\n",
    "#格式：ｔｉｍｅ.asctime(时间元祖)\n",
    "#返回字符串   Tue  Jun 6 11:11:00 2017\n",
    "t1 = time.asctime()\n",
    "print(t1)\n",
    "# 星期 月 日 时:分:秒 年\n",
    "print(type(t1))"
   ]
  },
  {
   "cell_type": "code",
   "execution_count": 31,
   "metadata": {},
   "outputs": [
    {
     "name": "stdout",
     "output_type": "stream",
     "text": [
      "<class 'str'>\n",
      "Wed Aug 29 09:50:28 2018\n"
     ]
    }
   ],
   "source": [
    "# ctimel: 获取字符串化的当前时间\n",
    "t =time.ctime()\n",
    "print(type(t))\n",
    "print(t)"
   ]
  },
  {
   "cell_type": "code",
   "execution_count": 35,
   "metadata": {},
   "outputs": [
    {
     "name": "stdout",
     "output_type": "stream",
     "text": [
      "<class 'float'>\n",
      "1535507841.0\n"
     ]
    }
   ],
   "source": [
    "# mktime()使用时间元祖获取对应的时间戳\n",
    "# 格式: time.mktime(时间元组)\n",
    "# 返回值: 浮点时间戳\n",
    "lt =time.localtime()\n",
    "ts = time.mktime(lt)\n",
    "print(type(ts))\n",
    "print(ts)"
   ]
  },
  {
   "cell_type": "code",
   "execution_count": 38,
   "metadata": {
    "collapsed": true
   },
   "outputs": [],
   "source": [
    "# clock: 获取cpu时间 \n",
    "# 得到程序运行时间"
   ]
  },
  {
   "cell_type": "code",
   "execution_count": 41,
   "metadata": {
    "collapsed": true
   },
   "outputs": [],
   "source": [
    "# sleep: 使程序进入睡眠,n秒后继续\n",
    "for i in range(10):\n",
    "    print(i)\n",
    "    time.sleep(1)"
   ]
  },
  {
   "cell_type": "code",
   "execution_count": 45,
   "metadata": {},
   "outputs": [
    {
     "name": "stdout",
     "output_type": "stream",
     "text": [
      "0.0011030000000000761\n"
     ]
    }
   ],
   "source": [
    "def p():\n",
    "    time.sleep(5)\n",
    "t0 = time.clock()\n",
    "p()\n",
    "t1 = time.clock()\n",
    "print(t1-t0)"
   ]
  },
  {
   "cell_type": "code",
   "execution_count": 57,
   "metadata": {},
   "outputs": [
    {
     "name": "stdout",
     "output_type": "stream",
     "text": [
      "2018年08月29日 11:59:18\n"
     ]
    }
   ],
   "source": [
    "# strftime :将时间元组转化为自定义的字符串格式化\n",
    "'''\n",
    "格式 含义   备注\n",
    "%a  本地(local)简化星期名\n",
    "%A  本地完整星期名称\n",
    "%b  本地简化月份名称\n",
    "%B  本地完整月份名称\n",
    "%c  本地相应的日期和时间表示\n",
    "%d  一个月中的第几天(01-31)\n",
    "%H  一天中的第几个小时(24小时制,00 - 23)\n",
    "%I  一天中的第几个小时(12小时制,00 - 12)\n",
    "%j  一年中的第几天(001 - 366)\n",
    "%m  月份(01 - 12)\n",
    "%M  分钟数(00 - 59)\n",
    "%p  本地 am 或者 pm 的相应符  注1\n",
    "%S  秒(01-61)               注2\n",
    "%U  一年中的星期数 (00 - 53 星期天是一个星期的开始) 第一个星期天之前的所有天数都放在\n",
    "%w  一个星期中的第几天(0 - 6) 0是星期天   注3\n",
    "%W  和%u基本相同,不同的是%W 以星期一为一个星期的开始\n",
    "%x  本地对应日期\n",
    "%X  本地对应的时间\n",
    "%y  去掉世纪的年份(00 - 99 )\n",
    "%Y  完整的年份\n",
    "%z  用 +HHMM 或 -HHMM 表示距离格林威治的时区变异(H 掉膘十进制的小时数M,代表十进制)\n",
    "\n",
    "%%  %号本身\n",
    "'''\n",
    "# 把时间表示成   2018年8月29日\n",
    "t = time.localtime()\n",
    "ft = time.strftime('%Y年%m月%d日 %H:%M:%S',t)\n",
    "print(ft)"
   ]
  },
  {
   "cell_type": "markdown",
   "metadata": {
    "collapsed": true
   },
   "source": [
    "# datetime 模块\n",
    "- datetime 提供日期和时间的运算表示"
   ]
  },
  {
   "cell_type": "code",
   "execution_count": 58,
   "metadata": {
    "collapsed": true
   },
   "outputs": [],
   "source": [
    "import datetime "
   ]
  },
  {
   "cell_type": "code",
   "execution_count": 63,
   "metadata": {},
   "outputs": [
    {
     "name": "stdout",
     "output_type": "stream",
     "text": [
      "2018-03-26\n",
      "2018\n",
      "3\n",
      "26\n"
     ]
    }
   ],
   "source": [
    "# datetime 常见属性\n",
    "# datetime,date: : 一个理想的日期,提供year,month,day属性\n",
    "\n",
    "dt = datetime.date(2018,3,26)\n",
    "print(dt)\n",
    "print(dt.year)\n",
    "print(dt.month)\n",
    "print(dt.day)\n",
    "\n",
    "# datetime.time: 提供一个理想的时间,ｈｏｕｔ, minute,sec，ｍicrose\n",
    "# datetime.datetime:提供日期跟时间的组合\n",
    "#　datetime.timedelta:提供一个时间差，时间长度"
   ]
  },
  {
   "cell_type": "code",
   "execution_count": 73,
   "metadata": {},
   "outputs": [
    {
     "name": "stdout",
     "output_type": "stream",
     "text": [
      "2018-08-29 12:36:10.933769\n",
      "2018-08-29 12:36:10.935123\n",
      "2018-08-29 04:36:10.937446\n",
      "2018-08-29 12:36:10.941904\n"
     ]
    }
   ],
   "source": [
    "# datetime.datetime\n",
    "from datetime import datetime\n",
    "# 常用累方法：\n",
    "# today:\n",
    "# now\n",
    "# utcnow\n",
    "# fromtimestamp:从时间戳中返回本地时间\n",
    "dt =datetime(2018, 3, 26)\n",
    "print(dt.today())\n",
    "print(dt.now())\n",
    "print(dt.utcnow())\n",
    "print(dt.fromtimestamp(time.time()))"
   ]
  },
  {
   "cell_type": "code",
   "execution_count": 76,
   "metadata": {},
   "outputs": [
    {
     "name": "stdout",
     "output_type": "stream",
     "text": [
      "2018-08-29 12:42:55.390414\n",
      "2018-08-29 12:42:55\n",
      "20180829 13:42:55\n"
     ]
    }
   ],
   "source": [
    "# datetime.timedelta\n",
    "# 表示一个时间间隔\n",
    "from datetime import datetime,timedelta\n",
    "# 得到当前时间\n",
    "t1 = datetime.now()\n",
    "print(t1)\n",
    "# 格式话当前时间\n",
    "print(t1.strftime(\"%Y-%m-%d %H:%M:%S\"))\n",
    "# 做一个时间间隔\n",
    "td = timedelta(hours=1)\n",
    "# 时间间隔加上当前时间 再格式化\n",
    "print((td+t1).strftime(\"%Y%m%d %H:%M:%S\"))\n"
   ]
  },
  {
   "cell_type": "code",
   "execution_count": 79,
   "metadata": {},
   "outputs": [
    {
     "name": "stdout",
     "output_type": "stream",
     "text": [
      "3.804137945175171\n"
     ]
    }
   ],
   "source": [
    "# timeit - 时间测量工具\n",
    "\n",
    "# 测量程序运行时间间隔实验\n",
    "def p():\n",
    "    time.sleep(3.8)\n",
    "t1 = time.time()\n",
    "p()\n",
    "print(time.time()-t1)"
   ]
  },
  {
   "cell_type": "code",
   "execution_count": 1,
   "metadata": {},
   "outputs": [
    {
     "name": "stdout",
     "output_type": "stream",
     "text": [
      "0.0028998820000651904\n",
      "0.031242186999975274\n"
     ]
    }
   ],
   "source": [
    "import timeit\n",
    "# 生成列表俩中方法的比较\n",
    "#　如果单纯比较生成一个列表时间，可能很难实现\n",
    "sum =[]\n",
    "def c():\n",
    "    \n",
    "    for i in range(10000):\n",
    "        sum.append(i)\n",
    "# stmt参数: 代表想测量的代码段  number : 执行次数     \n",
    "t1 = timeit.timeit(stmt='[i for i in range(1000)]',number=10)\n",
    "t2 = timeit.timeit(stmt=c,number=10)\n",
    "print(t1)\n",
    "print(t2)"
   ]
  },
  {
   "cell_type": "code",
   "execution_count": 10,
   "metadata": {},
   "outputs": [
    {
     "name": "stdout",
     "output_type": "stream",
     "text": [
      "Repeat for 0\n",
      "Repeat for 1\n",
      "Repeat for 2\n",
      "Repeat for 0\n",
      "Repeat for 1\n",
      "Repeat for 2\n",
      "0.0048641819998920255\n"
     ]
    }
   ],
   "source": [
    "#　timeit 可以执行一个函数,来测量一个函数的执行时间\n",
    "def doIt():\n",
    "    num = 3\n",
    "    for i in range(num):\n",
    "        print('Repeat for {0}'.format(i))\n",
    "# 执行函数\n",
    "t = timeit.timeit(stmt=doIt,number=2)\n",
    "print(t)"
   ]
  },
  {
   "cell_type": "code",
   "execution_count": 15,
   "metadata": {},
   "outputs": [
    {
     "name": "stdout",
     "output_type": "stream",
     "text": [
      "Repeat for 0\n",
      "Repeat for 1\n",
      "Repeat for 2\n"
     ]
    }
   ],
   "source": [
    "s='''\n",
    "def doIt(num):\n",
    "    for i in range(num):\n",
    "        print('Repeat for {0}'.format(i))\n",
    "'''\n",
    "# setup 负责把环境准备好\n",
    "# 实际相当一给timeit创造一个小环境\n",
    "# 在创作的小环境中代码执行的顺序大致是\n",
    "'''\n",
    "def doIt(num):\n",
    "    ...\n",
    "num =3 \n",
    "doIt(num)\n",
    "'''\n",
    "\n",
    "t =timeit.timeit('doIt(num)',setup=s+'num=3',number=1)"
   ]
  },
  {
   "cell_type": "markdown",
   "metadata": {},
   "source": [
    "# datetime.datetime 模块\n",
    "- 提供比较好用的时间而已\n",
    "- 类定义\n",
    "        \n",
    "        classs datetime.datetime(year, month, day[ ,hour\n",
    "                    [, minute\n",
    "                    [, second\n",
    "                    [, microsecond\n",
    "                    [, tzinfo]]]]])\n",
    "        # The year, month and day arguments are required.\n",
    "        MINYEAR <= year  <= MAXYEAR\n",
    "        1 <= month <=12\n",
    "        1 <= day <= n \n",
    "        0 <= hour < 24 \n",
    "        0 <= minute < 60\n",
    "        0 <= microsecond <10**6\n",
    "\n",
    "- 类方法\n",
    "\n",
    "- datetime.today(): 返回当前本地datetime.随着 tzinfo None.这个等同于 datetime.fromtimestamp(time.time()).\n",
    "- datetime.now([tz]): 返回当前本地日期和时间,如果可选参数tz为None或没有详细说明,\n",
    "\n"
   ]
  }
 ],
 "metadata": {
  "kernelspec": {
   "display_name": "Python 3",
   "language": "python",
   "name": "python3"
  },
  "language_info": {
   "codemirror_mode": {
    "name": "ipython",
    "version": 3
   },
   "file_extension": ".py",
   "mimetype": "text/x-python",
   "name": "python",
   "nbconvert_exporter": "python",
   "pygments_lexer": "ipython3",
   "version": "3.6.3"
  }
 },
 "nbformat": 4,
 "nbformat_minor": 2
}
