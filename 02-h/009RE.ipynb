{
 "cells": [
  {
   "cell_type": "markdown",
   "metadata": {},
   "source": [
    "# RE使用步骤\n",
    "1. 使用compile讲表示正则的字符串编译为一个pattern对象\n",
    "2. 通过pattern 对象提供一系列方法对文本进行查找匹配,获取结果,一个Match对象\n",
    "- 最后使用Mathch对象提供的属性和方法获取信息,根据需求进行操作\n",
    "# RE常用函数\n",
    "- group():获得一个或者多个分组匹配的字符串当要获得整个匹配的子串时,直接使用group或者group(0)\n",
    "- start:获取分组匹配的子串在整个字符串中的起始位置,参数默认设置为0\n",
    "- end: 获取分组匹配的子串在整个字符串中的结束位置,默认为0\n",
    "- span: 返回的结构技术(start(group), end(group)"
   ]
  },
  {
   "cell_type": "code",
   "execution_count": 11,
   "metadata": {},
   "outputs": [
    {
     "name": "stdout",
     "output_type": "stream",
     "text": [
      "<_sre.SRE_Match object; span=(3, 5), match='12'>\n"
     ]
    }
   ],
   "source": [
    "# 导入相关包\n",
    "import re \n",
    "# 查找数字\n",
    "# r表示字符串不转义\n",
    "p = re.compile(r'\\d+')\n",
    "\n",
    "m = p.match(\"one12twothree33456four\", 3, 6)\n",
    "print(m)\n"
   ]
  },
  {
   "cell_type": "code",
   "execution_count": 15,
   "metadata": {},
   "outputs": [
    {
     "name": "stdout",
     "output_type": "stream",
     "text": [
      "12\n",
      "3\n",
      "5\n"
     ]
    }
   ],
   "source": [
    "print(m[0])\n",
    "#找到mathch对象第一个元素的开始字符在原字符串的位置\n",
    "print(m.start(0))\n",
    "print(m.end(0))"
   ]
  },
  {
   "cell_type": "code",
   "execution_count": 23,
   "metadata": {},
   "outputs": [
    {
     "name": "stdout",
     "output_type": "stream",
     "text": [
      "<_sre.SRE_Match object; span=(0, 4), match='i am'>\n"
     ]
    }
   ],
   "source": [
    "import re\n",
    "p = re.compile(r'([a-z]+) ([a-z]+)')\n",
    "a = \"i am xiaolin\"\n",
    "m =p.match(a)\n",
    "print(m)"
   ]
  },
  {
   "cell_type": "code",
   "execution_count": 27,
   "metadata": {},
   "outputs": [
    {
     "name": "stdout",
     "output_type": "stream",
     "text": [
      "i am\n",
      "('i', 'am')\n"
     ]
    }
   ],
   "source": [
    "print(m.group(0))\n",
    "print(m.groups())"
   ]
  },
  {
   "cell_type": "markdown",
   "metadata": {},
   "source": [
    "# 查找\n",
    "- search(str,[,pos[,endpos]]):在字符窜中查找匹配,pos和endpos表示起始位置\n",
    "- findall: 查找所有\n",
    "- finditer:查找,返回一个iter结果    "
   ]
  },
  {
   "cell_type": "code",
   "execution_count": 32,
   "metadata": {},
   "outputs": [
    {
     "name": "stdout",
     "output_type": "stream",
     "text": [
      "12\n"
     ]
    }
   ],
   "source": [
    "import re \n",
    "p =re.compile(r'\\d+')\n",
    "m = p.search(\"one12twothree33456four\")\n",
    "print(m.group())"
   ]
  },
  {
   "cell_type": "code",
   "execution_count": 34,
   "metadata": {},
   "outputs": [
    {
     "name": "stdout",
     "output_type": "stream",
     "text": [
      "<class 'list'>\n",
      "['12', '33456']\n"
     ]
    }
   ],
   "source": [
    "rst = p.findall(\"one12twothree33456four\")\n",
    "print(type(rst))\n",
    "print(rst)"
   ]
  },
  {
   "cell_type": "markdown",
   "metadata": {},
   "source": [
    "# sub 替换\n",
    "- sub(rep,str[count])"
   ]
  },
  {
   "cell_type": "code",
   "execution_count": 37,
   "metadata": {},
   "outputs": [
    {
     "name": "stdout",
     "output_type": "stream",
     "text": [
      "Hello world Hello world\n"
     ]
    }
   ],
   "source": [
    "# sub 替换案例\n",
    "import re \n",
    "\n",
    "p = re.compile(r'(\\w+) (\\w+)')\n",
    "\n",
    "s = \"hello 122 xiaolin 145\"\n",
    "\n",
    "rst = p.sub(r'Hello world', s)\n",
    "print(rst)"
   ]
  },
  {
   "cell_type": "markdown",
   "metadata": {},
   "source": [
    "# 匹配中文\n",
    "- 大部分中文内容表示范围是(u4e00-u9fa5),不包括全角标点"
   ]
  },
  {
   "cell_type": "code",
   "execution_count": 40,
   "metadata": {},
   "outputs": [
    {
     "name": "stdout",
     "output_type": "stream",
     "text": [
      "['世界', '你好']\n"
     ]
    }
   ],
   "source": [
    "import re \n",
    "title =u'世界 你好, hello world'\n",
    "p = re.compile(r'[\\u4e00-\\u9fa5]+')\n",
    "rst = p.findall(title)\n",
    "print(rst)"
   ]
  },
  {
   "cell_type": "markdown",
   "metadata": {},
   "source": [
    "# 贪婪 和非贪婪\n",
    "- 贪婪,尽可能多的匹配,(*)表示贪婪匹配\n",
    "- 非贪婪, 找到符合条件的最小内容即可,(?)表示飞贪婪\n",
    "- 正则默认使用贪婪匹配\n"
   ]
  },
  {
   "cell_type": "code",
   "execution_count": 49,
   "metadata": {},
   "outputs": [
    {
     "name": "stdout",
     "output_type": "stream",
     "text": [
      "<div>name</div><div>\n",
      "<div>name</div><div>\n"
     ]
    }
   ],
   "source": [
    "import re \n",
    "title = u'<div>name</div><div>age</div>'\n",
    "p1 = re.compile(r\"<div>.*<div>\")\n",
    "m1 = p1.search(title)\n",
    "p2 = re.compile(r'<div>.*?<div>')\n",
    "m2 = p2.search(title)\n",
    "print(m1.group())\n",
    "print(m2.group())"
   ]
  }
 ],
 "metadata": {
  "kernelspec": {
   "display_name": "Python 3",
   "language": "python",
   "name": "python3"
  },
  "language_info": {
   "codemirror_mode": {
    "name": "ipython",
    "version": 3
   },
   "file_extension": ".py",
   "mimetype": "text/x-python",
   "name": "python",
   "nbconvert_exporter": "python",
   "pygments_lexer": "ipython3",
   "version": "3.6.3"
  }
 },
 "nbformat": 4,
 "nbformat_minor": 2
}
