{
 "cells": [
  {
   "cell_type": "markdown",
   "metadata": {},
   "source": [
    "# log模块资料\n",
    "- https://www.cnblogs.com/yyds/p/6901864.html"
   ]
  },
  {
   "cell_type": "markdown",
   "metadata": {},
   "source": [
    "# python语言的高级特性\n"
   ]
  },
  {
   "cell_type": "markdown",
   "metadata": {},
   "source": [
    "## 函数式编程(FunctionProgramming)\n",
    "- 基于lambda演算的一种编程方式\n",
    "    - 程序只有函数\n",
    "    - 函数可以作为参数,同样可以作为返回值\n",
    "    - 纯函数编程语言: LISP,Haskell\n",
    "- python函数式编程只是借鉴函数式编程的一些特点,可以理解成一半函数式一半python\n",
    "    - 函数可以作为参数,可以作为返回值,这些都是借鉴函数式编程\n",
    "- 需要讲述\n",
    "    - 高阶函数\n",
    "    - 返回函数\n",
    "    - 匿名函数\n",
    "    - 装饰器\n",
    "    - 偏函数   "
   ]
  },
  {
   "cell_type": "markdown",
   "metadata": {},
   "source": [
    "### lambda表达式\n",
    "- 函数:最大程度的复用代码\n",
    "    - 存在问题: 如果函数很小,很短.则会造成啰嗦\n",
    "    - 如果函数被调用次数少,功能简单,则会造成浪费\n",
    "    - 对于阅读者来说,造成阅读流程的被迫中断\n",
    "- lambda表达式(匿名函数):\n",
    "    - 一个表达式,函数体先对简单\n",
    "    - 不是一个代码块,仅仅是一个表达式\n",
    "    - 可以有参数,有多个参数也可以,用都好隔开"
   ]
  },
  {
   "cell_type": "code",
   "execution_count": 2,
   "metadata": {},
   "outputs": [
    {
     "name": "stdout",
     "output_type": "stream",
     "text": [
      "aaaaa\n"
     ]
    }
   ],
   "source": [
    "# \"小\"函数举例\n",
    "def printA():\n",
    "    print(\"aaaaa\")\n",
    "printA()"
   ]
  },
  {
   "cell_type": "code",
   "execution_count": 3,
   "metadata": {},
   "outputs": [
    {
     "data": {
      "text/plain": [
       "800"
      ]
     },
     "execution_count": 3,
     "metadata": {},
     "output_type": "execute_result"
    }
   ],
   "source": [
    "# lambda 表达式的用法\n",
    "# 以lambda开头\n",
    "# 紧跟参数\n",
    "# 参数后用冒号和表达式主体隔开\n",
    "#　只是一个表达式，所以，没有return\n",
    "\n",
    "# 计算一个数的100倍\n",
    "stm = lambda x: 100*x\n",
    "stm(8)"
   ]
  },
  {
   "cell_type": "code",
   "execution_count": 4,
   "metadata": {},
   "outputs": [
    {
     "data": {
      "text/plain": [
       "654"
      ]
     },
     "execution_count": 4,
     "metadata": {},
     "output_type": "execute_result"
    }
   ],
   "source": [
    "# 多个参数\n",
    "stm2 = lambda x,y,z: x+ y*10 + z*100\n",
    "stm2(4,5,6)"
   ]
  },
  {
   "cell_type": "code",
   "execution_count": null,
   "metadata": {
    "collapsed": true
   },
   "outputs": [],
   "source": [
    "# 递归其实是一个很灵活的东西,直接调用,间接,形成环"
   ]
  },
  {
   "cell_type": "markdown",
   "metadata": {},
   "source": [
    "# 高阶函数"
   ]
  }
 ],
 "metadata": {
  "kernelspec": {
   "display_name": "Python 3",
   "language": "python",
   "name": "python3"
  },
  "language_info": {
   "codemirror_mode": {
    "name": "ipython",
    "version": 3
   },
   "file_extension": ".py",
   "mimetype": "text/x-python",
   "name": "python",
   "nbconvert_exporter": "python",
   "pygments_lexer": "ipython3",
   "version": "3.6.3"
  }
 },
 "nbformat": 4,
 "nbformat_minor": 2
}
