{
 "cells": [
  {
   "cell_type": "markdown",
   "metadata": {},
   "source": [
    "# 协程\n",
    "- 参考资料\n",
    "    - "
   ]
  },
  {
   "cell_type": "markdown",
   "metadata": {},
   "source": [
    "# 迭代器\n",
    "- 可迭代的(Iterable):直接作用于for循环的变量\n",
    "- 迭代器(Iterator): 不但可以作用于for ,还可以被next调用\n",
    "- list是典型的可迭代对象,但不式迭代器\n",
    "- iterable 和iterator 可以转换\n",
    "    - 通过iter函数"
   ]
  },
  {
   "cell_type": "code",
   "execution_count": 5,
   "metadata": {},
   "outputs": [
    {
     "name": "stdout",
     "output_type": "stream",
     "text": [
      "0\n",
      "1\n",
      "2\n",
      "3\n",
      "4\n",
      "5\n",
      "6\n",
      "7\n",
      "8\n",
      "9\n"
     ]
    }
   ],
   "source": [
    "# 可迭代\n",
    "l = [i for i in range(10)]\n",
    "\n",
    "# l式可迭代的,但不是迭代器\n",
    "for idx in l:\n",
    "    print(idx)"
   ]
  },
  {
   "cell_type": "code",
   "execution_count": 11,
   "metadata": {},
   "outputs": [
    {
     "name": "stdout",
     "output_type": "stream",
     "text": [
      "0\n",
      "1\n",
      "2\n",
      "3\n",
      "4\n"
     ]
    }
   ],
   "source": [
    "# range 是一个迭代器\n",
    "for i in range(5):\n",
    "    print(i)"
   ]
  },
  {
   "cell_type": "code",
   "execution_count": 7,
   "metadata": {},
   "outputs": [
    {
     "name": "stdout",
     "output_type": "stream",
     "text": [
      "True\n"
     ]
    }
   ],
   "source": [
    "# isinstance 案例\n",
    "# 判断某个变量是否可迭代\n",
    "\n",
    "from collections import Iterable\n",
    "ll = [1,2,3,4,5]\n",
    "print(isinstance(ll, Iterable))"
   ]
  },
  {
   "cell_type": "code",
   "execution_count": 21,
   "metadata": {},
   "outputs": [
    {
     "name": "stdout",
     "output_type": "stream",
     "text": [
      "False\n",
      "False\n"
     ]
    }
   ],
   "source": [
    "# 判断变量是否为迭代器\n",
    "\n",
    "from collections import Iterator\n",
    "print(isinstance(ll, Iterator))\n"
   ]
  },
  {
   "cell_type": "code",
   "execution_count": 13,
   "metadata": {},
   "outputs": [
    {
     "name": "stdout",
     "output_type": "stream",
     "text": [
      "True\n",
      "False\n"
     ]
    }
   ],
   "source": [
    "# iter 函数\n",
    "\n",
    "s ='i love xiaolin '\n",
    "# 验证可迭代\n",
    "print(isinstance(s, Iterable))\n",
    "\n",
    "#验证是否为迭代器 \n",
    "print(isinstance(s, Iterator))"
   ]
  },
  {
   "cell_type": "code",
   "execution_count": 15,
   "metadata": {},
   "outputs": [
    {
     "name": "stdout",
     "output_type": "stream",
     "text": [
      "True\n"
     ]
    }
   ],
   "source": [
    "# 通过iter 将s 转换成迭代器\n",
    "s_iter = iter(s)\n",
    "print(isinstance(s_iter,Iterator))"
   ]
  },
  {
   "cell_type": "markdown",
   "metadata": {},
   "source": [
    "# 生成器\n",
    "- generator:一边循环一边计算下一个元素的机制/算法\n",
    "- 需要满足三个条件:\n",
    "    - 每次调用都能生产出for循环需要的下一个元素或者\n",
    "    - 如果达到最后一个后,爆出StopIteration异常\n",
    "    - 可以被next函数调用\n",
    "- 如何生成一个生成器\n",
    "    - 直接使用生成器\n",
    "    - 如果函数中包含yield,则这个函数叫生成器.\n",
    "        - 使用yield 返回\n",
    "    - next 调用函数,遇到yield返回"
   ]
  },
  {
   "cell_type": "code",
   "execution_count": 22,
   "metadata": {},
   "outputs": [
    {
     "name": "stdout",
     "output_type": "stream",
     "text": [
      "<class 'list'>\n",
      "<class 'generator'>\n"
     ]
    }
   ],
   "source": [
    "# 直接使用生成器\n",
    "\n",
    "L = [x*x for x in range(5)]  # 放在中括号中是列表生成器\n",
    "g = (x*x for x in range(5))  # 放在小括号中就是生成器\n",
    "\n",
    "print(type(L))\n",
    "print(type(g))"
   ]
  },
  {
   "cell_type": "code",
   "execution_count": 23,
   "metadata": {},
   "outputs": [
    {
     "name": "stdout",
     "output_type": "stream",
     "text": [
      "Step 1\n",
      "Step 2\n",
      "step 3\n"
     ]
    }
   ],
   "source": [
    "# 函数案例\n",
    "\n",
    "def old():\n",
    "    print(\"Step 1\")\n",
    "    print(\"Step 2\")\n",
    "    print(\"step 3\")\n",
    "    return None\n",
    "old()"
   ]
  },
  {
   "cell_type": "code",
   "execution_count": 40,
   "metadata": {},
   "outputs": [
    {
     "name": "stdout",
     "output_type": "stream",
     "text": [
      "Step 1\n",
      "1\n",
      "Step 2\n",
      "2\n",
      "step 3\n",
      "3\n"
     ]
    }
   ],
   "source": [
    "# 生成器的案例\n",
    "# 在函数中,yield负责返回\n",
    "# yield 作用,把一步执行函数分成多段,执行下一段使用next()\n",
    "# 再次调用同一个生成器,重上次结束的地方开始调用\n",
    "\n",
    "def old():\n",
    "    print(\"Step 1\")\n",
    "    yield 1\n",
    "    print(\"Step 2\")\n",
    "    yield 2\n",
    "    print(\"step 3\")\n",
    "    yield 3\n",
    "# 生成器使用next() 调用\n",
    "# 生成一个生成器\n",
    "g = old()\n",
    "one = next(g) \n",
    "print(one)\n",
    "two = next(g)\n",
    "print(two)\n",
    "three = next(g)\n",
    "print(three)"
   ]
  },
  {
   "cell_type": "code",
   "execution_count": 41,
   "metadata": {},
   "outputs": [
    {
     "name": "stdout",
     "output_type": "stream",
     "text": [
      "1\n",
      "1\n",
      "2\n",
      "3\n",
      "5\n"
     ]
    },
    {
     "data": {
      "text/plain": [
       "'Done'"
      ]
     },
     "execution_count": 41,
     "metadata": {},
     "output_type": "execute_result"
    }
   ],
   "source": [
    "# for 循环嗲偶偶那个生成器\n",
    "def fib(max):\n",
    "    n, a, b = 0, 0, 1\n",
    "    while n < max:\n",
    "        print(b)\n",
    "        a, b =b , b+a\n",
    "        n += 1\n",
    "    return 'Done'\n",
    "fib(5)"
   ]
  },
  {
   "cell_type": "code",
   "execution_count": 1,
   "metadata": {},
   "outputs": [
    {
     "name": "stdout",
     "output_type": "stream",
     "text": [
      "1\n",
      "1\n",
      "2\n",
      "3\n",
      "5\n"
     ]
    },
    {
     "ename": "StopIteration",
     "evalue": "",
     "output_type": "error",
     "traceback": [
      "\u001b[0;31m---------------------------------------------------------------------------\u001b[0m",
      "\u001b[0;31mStopIteration\u001b[0m                             Traceback (most recent call last)",
      "\u001b[0;32m<ipython-input-1-4e551c28e3d6>\u001b[0m in \u001b[0;36m<module>\u001b[0;34m()\u001b[0m\n\u001b[1;32m      8\u001b[0m \u001b[0mg\u001b[0m \u001b[0;34m=\u001b[0m\u001b[0mfib1\u001b[0m\u001b[0;34m(\u001b[0m\u001b[0;36m5\u001b[0m\u001b[0;34m)\u001b[0m\u001b[0;34m\u001b[0m\u001b[0m\n\u001b[1;32m      9\u001b[0m \u001b[0;32mfor\u001b[0m \u001b[0mi\u001b[0m \u001b[0;32min\u001b[0m \u001b[0mrange\u001b[0m\u001b[0;34m(\u001b[0m\u001b[0;36m6\u001b[0m\u001b[0;34m)\u001b[0m\u001b[0;34m:\u001b[0m\u001b[0;34m\u001b[0m\u001b[0m\n\u001b[0;32m---> 10\u001b[0;31m     \u001b[0mrst\u001b[0m \u001b[0;34m=\u001b[0m \u001b[0mnext\u001b[0m\u001b[0;34m(\u001b[0m\u001b[0mg\u001b[0m\u001b[0;34m)\u001b[0m\u001b[0;34m\u001b[0m\u001b[0m\n\u001b[0m\u001b[1;32m     11\u001b[0m     \u001b[0mprint\u001b[0m\u001b[0;34m(\u001b[0m\u001b[0mrst\u001b[0m\u001b[0;34m)\u001b[0m\u001b[0;34m\u001b[0m\u001b[0m\n",
      "\u001b[0;31mStopIteration\u001b[0m: "
     ]
    }
   ],
   "source": [
    "# 斐波那契数列的生成器写法\n",
    "def fib1(max):\n",
    "    n, a, b = 0, 0, 1\n",
    "    while n < max:\n",
    "        yield b\n",
    "        a, b =b, b+a\n",
    "        n += 1\n",
    "g =fib1(5)\n",
    "for i in range(6):\n",
    "    rst = next(g)\n",
    "    print(rst)"
   ]
  },
  {
   "cell_type": "code",
   "execution_count": 3,
   "metadata": {},
   "outputs": [
    {
     "name": "stdout",
     "output_type": "stream",
     "text": [
      "1\n",
      "1\n",
      "2\n",
      "3\n",
      "5\n",
      "8\n",
      "13\n",
      "21\n",
      "34\n",
      "55\n"
     ]
    }
   ],
   "source": [
    "ge = fib1(10)\n",
    "'''\n",
    "生成器的典型用法是在for循环中使用\n",
    "比较常用的典型生成器就是range\n",
    "'''\n",
    "for i in ge:\n",
    "    print(i)\n",
    "    \n",
    "# 好处每次只生成一个数据 range() 当你使用的时候\n"
   ]
  },
  {
   "cell_type": "markdown",
   "metadata": {
    "collapsed": true
   },
   "source": [
    "# 携程\n",
    "- 历史历程\n",
    "    - 3.4引入携程,yield实现\n",
    "    - 3.5引入携程语法\n",
    "    - 实现的携程比较号的包有:asyncio ,toenado(框架), gevent\n",
    "- 定义:携程 是为非抢占式多任务产生子程序的进算计程序组件,携程允许不同入口点在不同位置暂停或开始执行程序\n",
    "- 从技术角度讲,携程就是一个你可以暂停执行的函数,或者干脆把携程理解成生成器\n",
    "- 多线程之间切换很消耗资源\n",
    "- 携程之间切换对资源的消耗可以忽略不计\n",
    "- yield执行完成后返回主线成\n",
    "- 携程里:\n",
    "- 携程的实现:\n",
    "    - yield 返回\n",
    "    - send 调用\n",
    "- 协成的四个状态\n",
    "    - inspect.getgeneratorstate(...)函数确定,该函数会返回下述字符串的一个:\n",
    "    - GEN_CREATED: 等待开始执行\n",
    "    - GEN_RUNNTING: 解释器正在执行\n",
    "    - GEN_SUPENED: 在yield表达式出暂停\n",
    "    - GEN_CLOSED:执行结束\n",
    "    - next预激(prime)"
   ]
  },
  {
   "cell_type": "code",
   "execution_count": 5,
   "metadata": {},
   "outputs": [
    {
     "name": "stdout",
     "output_type": "stream",
     "text": [
      "11111\n",
      "->start\n",
      "22222\n",
      "-> recived zhexiao\n"
     ]
    },
    {
     "ename": "StopIteration",
     "evalue": "",
     "output_type": "error",
     "traceback": [
      "\u001b[0;31m---------------------------------------------------------------------------\u001b[0m",
      "\u001b[0;31mStopIteration\u001b[0m                             Traceback (most recent call last)",
      "\u001b[0;32m<ipython-input-5-9b607b532ae6>\u001b[0m in \u001b[0;36m<module>\u001b[0;34m()\u001b[0m\n\u001b[1;32m     11\u001b[0m \u001b[0mnext\u001b[0m\u001b[0;34m(\u001b[0m\u001b[0msc\u001b[0m\u001b[0;34m)\u001b[0m\u001b[0;34m\u001b[0m\u001b[0m\n\u001b[1;32m     12\u001b[0m \u001b[0mprint\u001b[0m\u001b[0;34m(\u001b[0m\u001b[0;36m22222\u001b[0m\u001b[0;34m)\u001b[0m \u001b[0;31m# 预激\u001b[0m\u001b[0;34m\u001b[0m\u001b[0m\n\u001b[0;32m---> 13\u001b[0;31m \u001b[0msc\u001b[0m\u001b[0;34m.\u001b[0m\u001b[0msend\u001b[0m\u001b[0;34m(\u001b[0m\u001b[0;34m'zhexiao'\u001b[0m\u001b[0;34m)\u001b[0m \u001b[0;31m# 折消  把'zhexiao'返回给 x =yield\u001b[0m\u001b[0;34m\u001b[0m\u001b[0m\n\u001b[0m",
      "\u001b[0;31mStopIteration\u001b[0m: "
     ]
    }
   ],
   "source": [
    "# 携程代码安例 -1 \n",
    "def simple_coroutine():\n",
    "    print('->start')\n",
    "    x = yield\n",
    "    print('-> recived',x)\n",
    "\n",
    "# 生成一个携程\n",
    "sc = simple_coroutine()\n",
    "print(11111)\n",
    "# 可以使用sc.send(None),效果一样\n",
    "next(sc)\n",
    "print(22222) # 预激\n",
    "sc.send('zhexiao') # 折消  把'zhexiao'返回给 x =yield 然后在携程上次结束的地方继续执行"
   ]
  },
  {
   "cell_type": "code",
   "execution_count": 7,
   "metadata": {},
   "outputs": [
    {
     "name": "stdout",
     "output_type": "stream",
     "text": [
      "->start\n",
      "5\n",
      "recived 5 6\n",
      "11\n",
      "-> recived 5 6 7\n"
     ]
    },
    {
     "ename": "StopIteration",
     "evalue": "",
     "output_type": "error",
     "traceback": [
      "\u001b[0;31m---------------------------------------------------------------------------\u001b[0m",
      "\u001b[0;31mStopIteration\u001b[0m                             Traceback (most recent call last)",
      "\u001b[0;32m<ipython-input-7-81bdc24e55aa>\u001b[0m in \u001b[0;36m<module>\u001b[0;34m()\u001b[0m\n\u001b[1;32m     16\u001b[0m \u001b[0mbb\u001b[0m \u001b[0;34m=\u001b[0m \u001b[0msc\u001b[0m\u001b[0;34m.\u001b[0m\u001b[0msend\u001b[0m\u001b[0;34m(\u001b[0m\u001b[0;36m6\u001b[0m\u001b[0;34m)\u001b[0m\u001b[0;34m\u001b[0m\u001b[0m\n\u001b[1;32m     17\u001b[0m \u001b[0mprint\u001b[0m\u001b[0;34m(\u001b[0m\u001b[0mbb\u001b[0m\u001b[0;34m)\u001b[0m\u001b[0;34m\u001b[0m\u001b[0m\n\u001b[0;32m---> 18\u001b[0;31m \u001b[0mcc\u001b[0m \u001b[0;34m=\u001b[0m \u001b[0msc\u001b[0m\u001b[0;34m.\u001b[0m\u001b[0msend\u001b[0m\u001b[0;34m(\u001b[0m\u001b[0;36m7\u001b[0m\u001b[0;34m)\u001b[0m\u001b[0;34m\u001b[0m\u001b[0m\n\u001b[0m\u001b[1;32m     19\u001b[0m \u001b[0mprint\u001b[0m\u001b[0;34m(\u001b[0m\u001b[0mcc\u001b[0m\u001b[0;34m)\u001b[0m\u001b[0;34m\u001b[0m\u001b[0m\n",
      "\u001b[0;31mStopIteration\u001b[0m: "
     ]
    }
   ],
   "source": [
    "# 案例v2, 协成的状态\n",
    "def simple_coroutine(a):\n",
    "    print('->start')\n",
    "    \n",
    "    b = yield a\n",
    "    print('recived',a, b)\n",
    "    \n",
    "    c = yield a + b\n",
    "    print('-> recived',a, b, c)\n",
    "    \n",
    "# runc \n",
    "sc =simple_coroutine(5)\n",
    "\n",
    "aa = next(sc)\n",
    "print(aa)\n",
    "bb = sc.send(6)\n",
    "print(bb)\n",
    "cc = sc.send(7)\n",
    "print(cc)\n"
   ]
  },
  {
   "cell_type": "markdown",
   "metadata": {},
   "source": [
    "- 协程的终止\n",
    "    - 协成中未处理的异常会向上冒泡,传给next 函数或send方法的调用方(即出发协程的对象)\n",
    "    - 对协程一定要及时处理\n",
    "    - 止协程的一种方式:发送摸个哨兵符值,让协程退出.内置的None 和Ellipsis等敞亮经常作用哨符值==.\n",
    "    - 没次执行协程时检验返回yield返回值,是否是哨兵值,如果是结束\n",
    "- yield from\n",
    "    - 调用协程为了得到返回值,协成必须正常终止\n",
    "    - 生成器正常终止会发出StopIteration异常,异常对象的value属性保存返回值\n",
    "    -  yield from 从内部捕获StopIteration异常\n",
    "    - 委派生成器\n",
    "        - 包含 yield from 表达生成器函数\n",
    "        - 委派生成器在yield from 表达式出展厅,调用方式可以直接把数据发送给子生成器\n",
    "        - 子生成器再把产出的值发给调用\n",
    "        - 字生层器在最后,解释器会抛出StopIteration,并且把返回值附加到遗产对象上\n",
    "        - 案例04"
   ]
  },
  {
   "cell_type": "code",
   "execution_count": 9,
   "metadata": {},
   "outputs": [
    {
     "name": "stdout",
     "output_type": "stream",
     "text": [
      "['A', 'B']\n",
      "['A', 'B']\n"
     ]
    }
   ],
   "source": [
    "# 案例V03\n",
    "def gen():\n",
    "    for c in 'AB':\n",
    "        yield c\n",
    "# list直接用生成器作为参数\n",
    "print(list(gen()))\n",
    "\n",
    "def gen_new():\n",
    "    yield from 'AB'\n",
    "print(list(gen_new()))\n",
    "\n",
    "# yield from 相当于通道\n",
    "# 多了一个中间层更灵活"
   ]
  },
  {
   "cell_type": "code",
   "execution_count": 7,
   "metadata": {},
   "outputs": [
    {
     "name": "stdout",
     "output_type": "stream",
     "text": [
      "{'boys_1': Res(count=6, average=32.63333333333333), 'boys_2': Res(count=6, average=3.5833333333333335)}\n"
     ]
    }
   ],
   "source": [
    "# 案例v04,委派生成器\n",
    "from collections import namedtuple\n",
    "'''\n",
    "1.外层for循环每次迭代会新建一个grouper实例,赋值给coroutine变量:grouper是委派生成器\n",
    "2.调用next(coroutine),预计派生器grouper,此时计入whileTrue 循环,调用子生成器\n",
    "3.内层for循环调用 coroutine.send(value)直接把值传给子生成器 averager,\n",
    "4.内层循环结束后,grouper实例依旧在yield from 表达式处展厅,因此grouper函数定有体中\n",
    "5.coroutine.send(None)终止averager神撑起,子生成器抛出StopIteration异常并返回的数\n",
    "\n",
    "'''\n",
    "ResClass = namedtuple('Res','count average')\n",
    "\n",
    "# 子生成器\n",
    "def averager():\n",
    "    total =0.0\n",
    "    count = 0\n",
    "    average = None \n",
    "    \n",
    "    while True:\n",
    "        term = yield\n",
    "        # None是哨兵值 ,检查返回值,\n",
    "        if term is None:\n",
    "            break\n",
    "        total += term \n",
    "        count += 1\n",
    "        average = total /count \n",
    "    \n",
    "    return ResClass(count, average)\n",
    "\n",
    "# 委派生成器\n",
    "def grouper(storages, key):\n",
    "    while True:\n",
    "        # 获取averager ()返回值\n",
    "        storages[key] = yield from averager()\n",
    "        \n",
    "# 客户段代码 主线程\n",
    "\n",
    "def client():\n",
    "    process_data = {\n",
    "        'boys_1':[39.0, 20.8, 23.2, 34.2, 42.2, 36.4],\n",
    "        'boys_2':[1.2, 2.2, 4.3,1.3, 6.6, 5.9]\n",
    "    }\n",
    "    \n",
    "    storages = {}\n",
    "    for k, v in process_data.items():\n",
    "        # 获得携程\n",
    "        coroutine = grouper(storages, k)\n",
    "        \n",
    "        # 预激携程\n",
    "        next(coroutine)\n",
    "        \n",
    "        # 发送数据到携程\n",
    "        for dt in v:\n",
    "            coroutine.send(dt)\n",
    "        \n",
    "        # 终止携程\n",
    "        coroutine.send(None)\n",
    "    print(storages)\n",
    "# run \n",
    "client()\n"
   ]
  },
  {
   "cell_type": "code",
   "execution_count": null,
   "metadata": {
    "collapsed": true
   },
   "outputs": [],
   "source": [
    "# 还剩下的内容\n",
    "- xml ,json\n",
    "- re,xpath\n",
    "- 网络编程: socket(tcp, udp),ftp,mail编程\n",
    "- http协议,==> http web server 小项目\n",
    "- django,尽可能详细"
   ]
  },
  {
   "cell_type": "markdown",
   "metadata": {
    "collapsed": true
   },
   "source": [
    "# asyncio\n",
    "- python 3.4开始引入标砖库当中,内置对异步io的支持\n",
    "- ssyncio本身就是一个消息循环\n",
    "- 步骤:\n",
    "    - 创建消息循环\n",
    "    - 把携程导入\n",
    "    - 关闭"
   ]
  },
  {
   "cell_type": "code",
   "execution_count": 1,
   "metadata": {},
   "outputs": [
    {
     "name": "stdout",
     "output_type": "stream",
     "text": [
      "Hello world!(<_MainThread(MainThread, started 140104708368128)>)\n",
      "Start...(<_MainThread(MainThread, started 140104708368128)>)\n",
      "Hello world!(<_MainThread(MainThread, started 140104708368128)>)\n",
      "Start...(<_MainThread(MainThread, started 140104708368128)>)\n"
     ]
    },
    {
     "name": "stderr",
     "output_type": "stream",
     "text": [
      "Task exception was never retrieved\n",
      "future: <Task finished coro=<hello() done, defined at <ipython-input-1-ad23468aced3>:5> exception=TypeError(\"unsupported operand type(s) for %: 'NoneType' and '_MainThread'\",)>\n",
      "Traceback (most recent call last):\n",
      "  File \"<ipython-input-1-ad23468aced3>\", line 11, in hello\n",
      "    print('Done ...(%s)')% threading.currentThread()\n",
      "TypeError: unsupported operand type(s) for %: 'NoneType' and '_MainThread'\n",
      "Task exception was never retrieved\n",
      "future: <Task finished coro=<hello() done, defined at <ipython-input-1-ad23468aced3>:5> exception=TypeError(\"unsupported operand type(s) for %: 'NoneType' and '_MainThread'\",)>\n",
      "Traceback (most recent call last):\n",
      "  File \"<ipython-input-1-ad23468aced3>\", line 11, in hello\n",
      "    print('Done ...(%s)')% threading.currentThread()\n",
      "TypeError: unsupported operand type(s) for %: 'NoneType' and '_MainThread'\n"
     ]
    },
    {
     "name": "stdout",
     "output_type": "stream",
     "text": [
      "Done ...(%s)\n",
      "Done ...(%s)\n"
     ]
    }
   ],
   "source": [
    "import threading\n",
    "# 引入异步io的包\n",
    "import asyncio\n",
    "\n",
    "@asyncio.coroutine\n",
    "def hello():\n",
    "    print('Hello world!(%s)' %threading.currentThread())\n",
    "    print('Start...(%s)'% threading.currentThread())\n",
    "    # 桥接\n",
    "    yield from asyncio.sleep(5)\n",
    "    print('Done ...(%s)')% threading.currentThread()\n",
    "    print('Hello again(%s)') % threading.currentThread()\n",
    "# 启动消息循环\n",
    "\n",
    "loop = asyncio.get_event_loop()\n",
    "# 定义任务\n",
    "tasks =[hello(),hello()]\n",
    "# asyncio 使用wait等待task执行完\n",
    "loop.run_until_complete(asyncio.wait(tasks))\n",
    "# 关闭消息队列\n",
    "loop.close()\n"
   ]
  },
  {
   "cell_type": "code",
   "execution_count": 38,
   "metadata": {},
   "outputs": [
    {
     "name": "stdout",
     "output_type": "stream",
     "text": [
      "[1, [1, 2, 4], 3]\n",
      "[1, [1, 2], 3]\n"
     ]
    }
   ],
   "source": [
    "import copy\n",
    "a=[1,[1,2],3]\n",
    "b=copy.deepcopy(a)\n",
    "a[1].append(4)\n",
    "print(a) \n",
    "print (b)"
   ]
  },
  {
   "cell_type": "code",
   "execution_count": 31,
   "metadata": {
    "collapsed": true
   },
   "outputs": [],
   "source": [
    "# io对系统资源小号太大\n",
    "# 写文件，写磁盘 ，网络"
   ]
  },
  {
   "cell_type": "code",
   "execution_count": 1,
   "metadata": {},
   "outputs": [
    {
     "name": "stderr",
     "output_type": "stream",
     "text": [
      "Task exception was never retrieved\n",
      "future: <Task finished coro=<wget() done, defined at <ipython-input-1-22c1f6f2f683>:2> exception=AttributeError(\"module 'asyncio' has no attribute 'open_connect'\",)>\n",
      "Traceback (most recent call last):\n",
      "  File \"<ipython-input-1-22c1f6f2f683>\", line 7, in wget\n",
      "    connect = asyncio.open_connect(host, 80)\n",
      "AttributeError: module 'asyncio' has no attribute 'open_connect'\n",
      "Task exception was never retrieved\n",
      "future: <Task finished coro=<wget() done, defined at <ipython-input-1-22c1f6f2f683>:2> exception=AttributeError(\"module 'asyncio' has no attribute 'open_connect'\",)>\n",
      "Traceback (most recent call last):\n",
      "  File \"<ipython-input-1-22c1f6f2f683>\", line 7, in wget\n",
      "    connect = asyncio.open_connect(host, 80)\n",
      "AttributeError: module 'asyncio' has no attribute 'open_connect'\n",
      "Task exception was never retrieved\n",
      "future: <Task finished coro=<wget() done, defined at <ipython-input-1-22c1f6f2f683>:2> exception=AttributeError(\"module 'asyncio' has no attribute 'open_connect'\",)>\n",
      "Traceback (most recent call last):\n",
      "  File \"<ipython-input-1-22c1f6f2f683>\", line 7, in wget\n",
      "    connect = asyncio.open_connect(host, 80)\n",
      "AttributeError: module 'asyncio' has no attribute 'open_connect'\n"
     ]
    },
    {
     "name": "stdout",
     "output_type": "stream",
     "text": [
      "wget www.github.com..\n",
      "wget www.baidu.com..\n",
      "wget www,sina.com.cn..\n"
     ]
    }
   ],
   "source": [
    "import asyncio\n",
    "@asyncio.coroutine\n",
    "def wget(host):\n",
    "    # 打印请求头\n",
    "    print('wget %s..' % host)\n",
    "    # 异步请求网络地址\n",
    "    connect = asyncio.open_connect(host, 80)\n",
    "    # 注意yield from 写法\n",
    "    reader , writer = yield from connect\n",
    "    # 使用编码写入网络\n",
    "    writer.write(header.encode('utf-8'))\n",
    "    yield from writer.drain()\n",
    "    while True:\n",
    "        line = yield from reader.readline()\n",
    "        # http协议的换行使用\\r\\n\n",
    "        if line == b'\\r\\n':\n",
    "            break\n",
    "        print('%s header > %s'%(host, line.decode('utf-8').rstrip()))\n",
    "    # Ignore.close()\n",
    "    writer.close()\n",
    "# 启动消息循环 \n",
    "loop = asyncio.get_event_loop()\n",
    "# 定义任务\n",
    "tasks = [wget(host) for host in ['www,sina.com.cn','www.baidu.com','www.github.com']]\n",
    "loop.run_until_complete(asyncio.wait(tasks))\n",
    "loop.close()"
   ]
  },
  {
   "cell_type": "markdown",
   "metadata": {},
   "source": [
    "# async and wait \n",
    "- 为了更好的表示异步io\n",
    "- python3.5引入\n",
    "- 让携程代码更简洁\n",
    "- 使用上,可以简单的进行替换\n",
    "    - 用async 替换@asyncio.coroutine\n",
    "    - await 替换yield from "
   ]
  },
  {
   "cell_type": "code",
   "execution_count": 5,
   "metadata": {},
   "outputs": [
    {
     "name": "stdout",
     "output_type": "stream",
     "text": [
      "Hello world ! (<_MainThread(MainThread, started 140086439757568)>)\n",
      "start..<_MainThread(MainThread, started 140086439757568)>\n",
      "Hello world ! (<_MainThread(MainThread, started 140086439757568)>)\n",
      "start..<_MainThread(MainThread, started 140086439757568)>\n",
      "done...(<_MainThread(MainThread, started 140086439757568)>)\n",
      "Hello again!(<_MainThread(MainThread, started 140086439757568)>)\n",
      "done...(<_MainThread(MainThread, started 140086439757568)>)\n",
      "Hello again!(<_MainThread(MainThread, started 140086439757568)>)\n"
     ]
    }
   ],
   "source": [
    "import threading \n",
    "import asyncio\n",
    "\n",
    "async def hello():\n",
    "    print('Hello world ! (%s)' %threading.currentThread())\n",
    "    print('start..%s' % threading.currentThread())\n",
    "    await asyncio.sleep(10)\n",
    "    print('done...(%s)' % threading.currentThread())\n",
    "    print('Hello again!(%s)' %threading.currentThread())\n",
    "\n",
    "loop = asyncio.get_event_loop()\n",
    "tasks = (hello(),hello())\n",
    "loop.run_until_complete(asyncio.wait(tasks))\n",
    "loop.close()\n"
   ]
  },
  {
   "cell_type": "markdown",
   "metadata": {
    "collapsed": true
   },
   "source": [
    "# aiohttp\n",
    "- asyncio实现单线程的并发io,在客户端用处不大\n",
    "- 在服务器端可以asyncio + coroutine(携程)配合,因为http是io操作\n",
    "- asyncio 实现的了tcp,udp,sll等协议\n",
    "- aiohttp是给予asyncio实现http框架"
   ]
  },
  {
   "cell_type": "markdown",
   "metadata": {},
   "source": [
    "- conda env list \n",
    "- source activate (anconda环境)\n",
    "- clear"
   ]
  },
  {
   "cell_type": "code",
   "execution_count": 1,
   "metadata": {
    "collapsed": true
   },
   "outputs": [],
   "source": [
    "# aiohttp案例"
   ]
  },
  {
   "cell_type": "markdown",
   "metadata": {},
   "source": [
    "# concurrent.futures\n",
    "- python3新增的库\n",
    "- 类似其他语言的线程池 的概念\n",
    "- 利用multiprocessing实现真正的并行计算\n",
    "- 真正实现,机器必须是多核的\n",
    "- 真正的并行计算\n",
    "- 核心原理:以子进程的形式,并行运行多个python解释器,\n",
    "- 从而让python程序可以利用多核cpu来提升执行速度\n",
    "- 由于子进程与解释器相分离,所以他们的全局解释器锁也是相互独立的\n",
    "- 每个子进程都能完整的使用一个cpu内核"
   ]
  },
  {
   "cell_type": "markdown",
   "metadata": {},
   "source": [
    "- concurrent.futures.Excutor\n",
    "    - ThreadPoolExcutor    线程池\n",
    "    - ProcessPoolExcutor   进程池\n",
    "    - 执行的时候需要自行选择\n",
    " ##把线程和进程向线程池中提交\n",
    "- submit(fn, args, kwargs)\n",
    "    - fn:异步执行的函数\n",
    "    - args, kwargs 参数"
   ]
  },
  {
   "cell_type": "code",
   "execution_count": 5,
   "metadata": {},
   "outputs": [
    {
     "name": "stdout",
     "output_type": "stream",
     "text": [
      "False\n",
      "False\n",
      "hello\n",
      "world\n"
     ]
    }
   ],
   "source": [
    "# concurrent 的案例\n",
    "from concurrent.futures import ThreadPoolExecutor \n",
    "import time \n",
    "def return_future(msg):\n",
    "    time.sleep(3)\n",
    "    return msg\n",
    "# 创建线程池\n",
    "pool = ThreadPoolExecutor(max_workers=2)\n",
    "\n",
    "# 往线程池中加入俩个task,准备执行\n",
    "f1 = pool.submit(return_future, 'hello')\n",
    "f2 = pool.submit(return_future, 'world')\n",
    "\n",
    "# done 等待执行完成\n",
    "print(f1.done())\n",
    "time.sleep(3)\n",
    "print(f2.done())\n",
    "\n",
    "# 结果\n",
    "print(f1.result())\n",
    "print(f2.result())\n"
   ]
  },
  {
   "cell_type": "markdown",
   "metadata": {},
   "source": [
    "# current 中的map函数\n",
    "- map (fn, \\*iterables, timesout=None)\n",
    "    - 跟map函数类似\n",
    "    - 函数需要异步执行\n",
    "    - timeout:超时时间\n",
    "    - map 和submit 使用一个就行, 起到效果差不多 \n",
    "# Future 空盒子就相当与Future\n",
    "    - 主线程分配子进程进行一些操作,主进程再和其他进程执行其他操作,\n",
    "    - 这是主进程创建一个空的,参数等待子进程完成\n",
    "    - 等子进程完成和主进程和其他子进程完成后.把第一个子进程的return 分配给其他进程"
   ]
  },
  {
   "cell_type": "code",
   "execution_count": 8,
   "metadata": {},
   "outputs": [
    {
     "name": "stdout",
     "output_type": "stream",
     "text": [
      "1\n",
      "2\n",
      "ok\n",
      "ok\n"
     ]
    }
   ],
   "source": [
    "# current map的案例\n",
    "import time, re\n",
    "import os, datetime\n",
    "from concurrent import futures\n",
    "data = ['1','2']\n",
    "def wait_on(argument):\n",
    "    print(argument)\n",
    "    time.sleep(2)\n",
    "    return \"ok\"\n",
    "# 创建线程池最多容纳俩个\n",
    "ex = futures.ThreadPoolExecutor(max_workers=2)\n",
    "for i in ex.map(wait_on, data):\n",
    "    print(i)"
   ]
  }
 ],
 "metadata": {
  "kernelspec": {
   "display_name": "Python 3",
   "language": "python",
   "name": "python3"
  },
  "language_info": {
   "codemirror_mode": {
    "name": "ipython",
    "version": 3
   },
   "file_extension": ".py",
   "mimetype": "text/x-python",
   "name": "python",
   "nbconvert_exporter": "python",
   "pygments_lexer": "ipython3",
   "version": "3.6.3"
  }
 },
 "nbformat": 4,
 "nbformat_minor": 2
}
