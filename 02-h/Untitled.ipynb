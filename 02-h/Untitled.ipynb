{
 "cells": [
  {
   "cell_type": "code",
   "execution_count": 1,
   "metadata": {
    "collapsed": true
   },
   "outputs": [],
   "source": [
    "def stu(name,age,hobby='没有',*args,**kwargs):\n",
    "    print(args)\n",
    "    print(kwargs)\n",
    "    print('我加{0},我今年{1}'.format(name,age))\n",
    "    if hobby ==\"没有\":\n",
    "        print('我没有爱好')\n",
    "    else:\n",
    "        print('我的爱好是{0}'.format(hobby))\n",
    "    print('*'*20)\n",
    "    for i in args:\n",
    "        print(i)\n",
    "    print('#'*20)\n",
    "    for k,v in kwargs.items():\n",
    "        print(k,'---',v)"
   ]
  },
  {
   "cell_type": "code",
   "execution_count": null,
   "metadata": {
    "collapsed": true
   },
   "outputs": [],
   "source": [
    "stu(name,age,hobby=('游泳','王小静','刘能'),hobby2= '做饭',hobby3='聊天')"
   ]
  }
 ],
 "metadata": {
  "kernelspec": {
   "display_name": "Python 3",
   "language": "python",
   "name": "python3"
  },
  "language_info": {
   "codemirror_mode": {
    "name": "ipython",
    "version": 3
   },
   "file_extension": ".py",
   "mimetype": "text/x-python",
   "name": "python",
   "nbconvert_exporter": "python",
   "pygments_lexer": "ipython3",
   "version": "3.6.3"
  }
 },
 "nbformat": 4,
 "nbformat_minor": 2
}
