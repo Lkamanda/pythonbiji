{
 "cells": [
  {
   "cell_type": "markdown",
   "metadata": {},
   "source": [
    "## 关键字参数\n",
    "- 语法\n",
    "    def func(p1=v1,p2=v2....):\n",
    "        fun_body\n",
    "    调用函数：\n",
    "    func(p1=value1,p2=value2)\n",
    "- 比较麻烦，但也有好处：\n",
    "    - 不容易出错，一般实参和形参只是按照位置--对应即可，容易出错\n",
    "    - 使用关键字参数，可以不考虑参数位置"
   ]
  },
  {
   "cell_type": "code",
   "execution_count": 2,
   "metadata": {},
   "outputs": [
    {
     "name": "stdout",
     "output_type": "stream",
     "text": [
      "I am a student\n",
      "我叫小林，我今年23岁了，我在my home\n",
      "I am a student\n",
      "我叫23，我今年小林岁了，我在my home\n"
     ]
    }
   ],
   "source": [
    "#关键字参数案例\n",
    "def stu(name,age,addr):\n",
    "    print(\"I am a student\")\n",
    "    print(\"我叫{0}，我今年{1}岁了，我在{2}\".format(name,age,addr))\n",
    "n = \"小林\"\n",
    "a = \"23\"\n",
    "addr = \"my home\"\n",
    "stu(n,a,addr)\n",
    "stu(a,n,addr)\n",
    "#普通参数，只是按照位置传递，容易出错\n"
   ]
  },
  {
   "cell_type": "code",
   "execution_count": 6,
   "metadata": {},
   "outputs": [
    {
     "name": "stdout",
     "output_type": "stream",
     "text": [
      "I am a student\n",
      "我叫小林，我今年23岁了，我在my home\n"
     ]
    }
   ],
   "source": [
    "def stu_key(name='NO name', age='No age', addr='No addr'):\n",
    "    print(\"I am a student\")\n",
    "    print(\"我叫{0}，我今年{1}岁了，我在{2}\".format(name,age,addr))\n",
    "n = \"小林\"\n",
    "a = \"23\"\n",
    "addr = \"my home\"\n",
    "stu_key(name=n, age=a, addr=addr)\n"
   ]
  },
  {
   "cell_type": "markdown",
   "metadata": {},
   "source": [
    "## 收集参数\n",
    "- 把没有位置，不能设置和定义是的参数位置相对应的参数，放入一个特定的数据结构中\n",
    "- 语法\n",
    "    def func(*args):\n",
    "      func_body\n",
    "      按照list使用方式访问args得到传入参数\n",
    "    调用：\n",
    "      func(p1,p2,p3,...)\n",
    "- 参数名args不是必须这么写，约定俗成\n",
    "- 参数名args前需要有*\n",
    "- 收集参数可以和其他参数共存\n",
    "\n",
    "      "
   ]
  },
  {
   "cell_type": "code",
   "execution_count": 8,
   "metadata": {},
   "outputs": [
    {
     "name": "stdout",
     "output_type": "stream",
     "text": [
      "hello,大家好\n",
      "<class 'tuple'>\n",
      "xiaolin\n",
      "18\n",
      "北京昌平\n",
      "zxy\n",
      "single\n",
      "hello,大家好\n",
      "<class 'tuple'>\n",
      "linge\n"
     ]
    }
   ],
   "source": [
    "#收集参数代码\n",
    "#函数模拟一个学生进行自我介绍，但具体内容不清楚\n",
    "#args把他看做一个list\n",
    "def stu(*args):\n",
    "    print(\"hello,大家好\")\n",
    "    print(type(args))\n",
    "    for item in args:\n",
    "        print(item)\n",
    "stu(\"xiaolin\",18,\"北京昌平\",\"zxy\",'single')\n",
    "stu(\"linge\")\n",
    "    "
   ]
  },
  {
   "cell_type": "code",
   "execution_count": 12,
   "metadata": {},
   "outputs": [
    {
     "name": "stdout",
     "output_type": "stream",
     "text": [
      "hello,大家好\n",
      "<class 'tuple'>\n"
     ]
    }
   ],
   "source": [
    "#收集参数可以不带任何参数，此时收集参数为tuple\n",
    "stu()"
   ]
  },
  {
   "cell_type": "code",
   "execution_count": 13,
   "metadata": {},
   "outputs": [
    {
     "ename": "TypeError",
     "evalue": "stu() got an unexpected keyword argument 'name'",
     "output_type": "error",
     "traceback": [
      "\u001b[0;31m---------------------------------------------------------------------------\u001b[0m",
      "\u001b[0;31mTypeError\u001b[0m                                 Traceback (most recent call last)",
      "\u001b[0;32m<ipython-input-13-22133bec0a2f>\u001b[0m in \u001b[0;36m<module>\u001b[0;34m()\u001b[0m\n\u001b[1;32m      1\u001b[0m \u001b[0;31m#如果使用关键字参数格式调用，会出问题\u001b[0m\u001b[0;34m\u001b[0m\u001b[0;34m\u001b[0m\u001b[0m\n\u001b[0;32m----> 2\u001b[0;31m \u001b[0mstu\u001b[0m\u001b[0;34m(\u001b[0m\u001b[0mname\u001b[0m \u001b[0;34m=\u001b[0m\u001b[0;34m'liuying'\u001b[0m\u001b[0;34m)\u001b[0m\u001b[0;34m\u001b[0m\u001b[0m\n\u001b[0m",
      "\u001b[0;31mTypeError\u001b[0m: stu() got an unexpected keyword argument 'name'"
     ]
    }
   ],
   "source": [
    "#如果使用关键字参数格式调用，会出问题\n",
    "stu(name ='liuying')"
   ]
  },
  {
   "cell_type": "markdown",
   "metadata": {},
   "source": [
    "### 收集参数之关键字收集参数\n",
    "- 把关键字参数按字典格式存入收集参数\n",
    "- 语法：\n",
    "    \n",
    "    def func(**kwargs):\n",
    "        func_body\n",
    "    #调用：\n",
    "    func(p1=v1, p2=v2, p3=v3....)\n",
    "- kwargs一般约定俗成\n",
    "- 使用的时候，kwargs\n",
    "- 访问kwargs需要按照字典的格式访问\n"
   ]
  },
  {
   "cell_type": "code",
   "execution_count": 20,
   "metadata": {},
   "outputs": [
    {
     "name": "stdout",
     "output_type": "stream",
     "text": [
      "Hello 大家号，我先在我介绍一下：\n",
      "<class 'dict'>\n",
      "name ---- xiaolin\n",
      "age ---- 23\n",
      "addr ---- BJ\n",
      "LOVER ---- ZXY\n",
      "********************\n",
      "Hello 大家号，我先在我介绍一下：\n",
      "<class 'dict'>\n",
      "name ---- dalinge\n"
     ]
    }
   ],
   "source": [
    "#收集参数关键字收集参数\n",
    "#自我介绍\n",
    "#调用的时候需要使用关键字参数调用\n",
    "def stu(**kwargs):\n",
    "    #在函数体内对于kwargs的使用不用带星号\n",
    "    print(\"Hello 大家号，我先在我介绍一下：\")\n",
    "    print(type(kwargs))\n",
    "    for k,v in kwargs.items():\n",
    "        print(k,\"----\",v)\n",
    "stu(name=\"xiaolin\",age='23',addr='BJ',LOVER='ZXY')\n",
    "print(\"*\"*20)\n",
    "stu(name= 'dalinge')"
   ]
  },
  {
   "cell_type": "code",
   "execution_count": 21,
   "metadata": {},
   "outputs": [
    {
     "name": "stdout",
     "output_type": "stream",
     "text": [
      "Hello 大家号，我先在我介绍一下：\n",
      "<class 'dict'>\n"
     ]
    }
   ],
   "source": [
    "#关键字收集参数可以为空\n",
    "stu()"
   ]
  },
  {
   "cell_type": "markdown",
   "metadata": {},
   "source": [
    "### 收集参数混合调用的顺序问题\n",
    "- 收集参数，关键字参数，普通参数可以混合使用\n",
    "- 使用规则就是，普通参数和关键字参数优先\n",
    "- 定义的时候一般找普通参数，收集参数tuple,关键字参数，收集参数dict"
   ]
  },
  {
   "cell_type": "code",
   "execution_count": 37,
   "metadata": {},
   "outputs": [
    {
     "name": "stdout",
     "output_type": "stream",
     "text": [
      "Hello大家好\n",
      "我叫19,我今年小林.大了\n",
      "我没有爱好\n",
      "********************\n",
      "####################\n",
      "Hello大家好\n",
      "我叫19,我今年小林.大了\n",
      "我的爱好是学习\n",
      "********************\n",
      "####################\n",
      "Hello大家好\n",
      "我叫19,我今年小林.大了\n",
      "我的爱好是学习\n",
      "********************\n",
      "xiaojun\n",
      "####################\n",
      "hobby2 --- 敲代码\n"
     ]
    }
   ],
   "source": [
    "#收集参数混合调用案例\n",
    "#stu模拟一个学生的自我介绍\n",
    "def stu(name,age,*args,hobby=\"没有\",**kwargs):\n",
    "    print(\"Hello大家好\")\n",
    "    print(\"我叫{0},我今年{1}.大了\".format(age,name))\n",
    "    if hobby == \"没有\":\n",
    "        print(\"我没有爱好\")\n",
    "    else:\n",
    "        print(\"我的爱好是{0}\".format(hobby))\n",
    "    print(\"*\"*20)\n",
    "    for i in args:\n",
    "        print(i)\n",
    "    print(\"#\"*20)\n",
    "    for k,v in kwargs.items():\n",
    "        print(k,\"---\",v)\n",
    "\n",
    "#开始调用函数\n",
    "name =\"小林\"\n",
    "age = 19\n",
    "stu(name,age)\n",
    "stu(name,age,hobby='学习')\n",
    "stu(name,age,'xiaojun',hobby='学习', hobby2='敲代码')"
   ]
  },
  {
   "cell_type": "markdown",
   "metadata": {},
   "source": [
    "### 收集参数的解包问题\n",
    "- 把参数放入list或字典中，直接把list/dict中的值放入收集参数中"
   ]
  },
  {
   "cell_type": "code",
   "execution_count": 42,
   "metadata": {},
   "outputs": [
    {
     "name": "stdout",
     "output_type": "stream",
     "text": [
      "hah\n",
      "<class 'list'>\n",
      "0\n",
      "['xiaoli', 19, 21, 'xiaojun']\n",
      "hah\n",
      "<class 'str'>\n",
      "0\n",
      "xiaoli\n",
      "<class 'int'>\n",
      "1\n",
      "19\n",
      "<class 'int'>\n",
      "2\n",
      "21\n",
      "<class 'str'>\n",
      "3\n",
      "xiaojun\n"
     ]
    }
   ],
   "source": [
    "#收集参数的解包问题\n",
    "def stu (*args):\n",
    "    print('hah')\n",
    "    n = 0\n",
    "    for i in args:\n",
    "        print(type(i))\n",
    "        print(n)\n",
    "        n += 1\n",
    "        print(i)\n",
    "\n",
    "#stu(\"liuying\",\"liuxiaohing\",12,21)\n",
    "l = ['xiaoli',19,21,'xiaojun']\n",
    "stu(l)\n",
    "#此时args的表示形式是字典内的一个list类型的元素，即arg =['xiaoli', 19, 21, 'xiaojun']\n",
    "stu(*l)"
   ]
  },
  {
   "cell_type": "markdown",
   "metadata": {},
   "source": [
    "# 返回值\n",
    "- 函数和过程的区别\n",
    "    - 有无返回值\n",
    "- 需要用return显示返回内容\n",
    "- 如果没有返回，则默认返回None"
   ]
  },
  {
   "cell_type": "code",
   "execution_count": 46,
   "metadata": {},
   "outputs": [
    {
     "name": "stdout",
     "output_type": "stream",
     "text": [
      "有返回值\n",
      "1\n",
      "没有返回值\n",
      "None\n"
     ]
    }
   ],
   "source": [
    "#返回示例\n",
    "def func_1():\n",
    "    print('有返回值')\n",
    "    return 1\n",
    "def func_2():\n",
    "    print(\"没有返回值\")\n",
    "f1 = func_1()\n",
    "print(f1)\n",
    "f2 = func_2()\n",
    "print(f2)\n"
   ]
  }
 ],
 "metadata": {
  "kernelspec": {
   "display_name": "Python 3",
   "language": "python",
   "name": "python3"
  },
  "language_info": {
   "codemirror_mode": {
    "name": "ipython",
    "version": 3
   },
   "file_extension": ".py",
   "mimetype": "text/x-python",
   "name": "python",
   "nbconvert_exporter": "python",
   "pygments_lexer": "ipython3",
   "version": "3.6.3"
  }
 },
 "nbformat": 4,
 "nbformat_minor": 2
}
