{
 "cells": [
  {
   "cell_type": "markdown",
   "metadata": {},
   "source": [
    "# 注释\n",
    "·行注释\n",
    ".块注释"
   ]
  },
  {
   "cell_type": "markdown",
   "metadata": {},
   "source": [
    "# 变量\n",
    "- 程序= 数据结果 + 算法：\n",
    "     \n",
    "- 变量可以重复使用的一个变量，或者键代码\n",
    "- 变量名的命名规则：\n",
    "- 变量名可以为数字，大写小写字母，下划线或者更多\n",
    "- 数字不可以打头：\n",
    "    - 4man 不可以\n",
    "    ·man4 可以\n",
    "- 一般在pyhon中，以下划线开头的内容具有特殊意义\n",
    "- 别如_age \n",
    "- 大小写敏感\n",
    "- 推荐\n",
    "     - 使用具有固定含义的英文单词或者缩写\n",
    "     - 驼峰命名法：大驼峰命名法:每个单词首字母大写\n",
    "         - 给类命名使用\n",
    "         - MyFirstLove\n",
    "     - 小驼峰命名法：\n",
    "         - 给普通变量或函数命名\n",
    "         - myFirestLove\n",
    "     - posix写法\n",
    "         - 多个单词下划线连接\n",
    "         - 单词全部小写\n",
    "         - my fist love ，inr one\n",
    "- 保留字和关键字\n",
    "    - class ， def ,break ,for\n",
    "    - 保留字       -        "
   ]
  },
  {
   "cell_type": "code",
   "execution_count": 16,
   "metadata": {},
   "outputs": [
    {
     "name": "stdout",
     "output_type": "stream",
     "text": [
      "['False', 'None', 'True', 'and', 'as', 'assert', 'break', 'class', 'continue', 'def', 'del', 'elif', 'else', 'except', 'finally', 'for', 'from', 'global', 'if', 'import', 'in', 'is', 'lambda', 'nonlocal', 'not', 'or', 'pass', 'raise', 'return', 'try', 'while', 'with', 'yield']\n"
     ]
    }
   ],
   "source": [
    "#查看关键字的方法\n",
    "import keyword #引入关键字模块\n",
    "print(keyword.kwlist)"
   ]
  },
  {
   "cell_type": "markdown",
   "metadata": {},
   "source": [
    "##变量的声明\n",
    "- var_name = var_value\n",
    "#一个等号等于赋值（变量声明）\n",
    "- vael = var2 = var3 = var_value\n",
    "- var1,var2,var3 = v1,v2,v3"
   ]
  },
  {
   "cell_type": "code",
   "execution_count": 21,
   "metadata": {},
   "outputs": [
    {
     "name": "stdout",
     "output_type": "stream",
     "text": [
      "18\n",
      "18\n",
      "18\n",
      "18\n",
      "18\n",
      "13\n",
      "14\n",
      "15\n"
     ]
    }
   ],
   "source": [
    "#定义变量age，把18放入变量age中\n",
    "age = 18\n",
    "print(age)\n",
    "print(18)\n",
    "#给age1,age2,age3放入同样一个值\n",
    "age1 = age2 = age3 =18\n",
    "print(age1)\n",
    "print(age2)\n",
    "print(age3)\n",
    "age4,age5,age6 = 13, 14, 15\n",
    "print(age4)\n",
    "print(age5)\n",
    "print(age6)"
   ]
  },
  {
   "cell_type": "markdown",
   "metadata": {},
   "source": [
    "# 变量的类型\n",
    "- 严格意义上讲，python只有一个类型\n",
    "- 标准数据一共六种\n",
    "    - 数字类型number\n",
    "    - 字符串str\n",
    "    - 列表list\n",
    "    - 元祖tumple\n",
    "    - 字典dictionary\n",
    "    - 集合list"
   ]
  },
  {
   "cell_type": "markdown",
   "metadata": {},
   "source": [
    "# #数字类型\n",
    "- 数字没有大小限制\n",
    "- 整数\n",
    "    - 没有小数部分，表示个数的数字\n",
    "    - 自然数，0，负自然数\n",
    "    - 整数分进制\n",
    "        - 二进制\n",
    "            - 表示为0b开头的01代码\n",
    "            - 例如 0b01101,0b0001\n",
    "        - 八进制\n",
    "            - 0o开头包含0-7的数字\n",
    "        - 十六进制\n",
    "            - 其实是每四位二进制表示一位十六进制\n",
    "            - 包含0-9 ，a-f\n",
    "            - 数字上以8x开头表示\n",
    "        - 十进制"
   ]
  },
  {
   "cell_type": "code",
   "execution_count": 22,
   "metadata": {},
   "outputs": [
    {
     "name": "stdout",
     "output_type": "stream",
     "text": [
      "18\n"
     ]
    }
   ],
   "source": [
    "age = 0b10010\n",
    "print(age)\n"
   ]
  },
  {
   "cell_type": "code",
   "execution_count": 24,
   "metadata": {},
   "outputs": [
    {
     "name": "stdout",
     "output_type": "stream",
     "text": [
      "18\n"
     ]
    }
   ],
   "source": [
    "age = 0off\n",
    "print(age)"
   ]
  },
  {
   "cell_type": "markdown",
   "metadata": {},
   "source": [
    "age = 8xff\n",
    "#十六进制ff表示二进制制的1111 1111\n"
   ]
  },
  {
   "cell_type": "markdown",
   "metadata": {},
   "source": [
    "### 浮点数\n",
    "- 小数\n",
    "- 可以有条件省略\n",
    "- 科学计数法\n",
    "    - 写法用额e/E后面跟着整数表示10的所有数\n",
    "    - 0.86 =8.76e-1\n",
    "    - 176.23 = 1.7623e2"
   ]
  },
  {
   "cell_type": "code",
   "execution_count": 25,
   "metadata": {},
   "outputs": [
    {
     "name": "stdout",
     "output_type": "stream",
     "text": [
      "150.34\n",
      "0.6\n"
     ]
    }
   ],
   "source": [
    "height = 150.34\n",
    "print(height)\n",
    "shill = .6\n",
    "print(shill)"
   ]
  },
  {
   "cell_type": "markdown",
   "metadata": {},
   "source": [
    "### 复数complex\n",
    "- 一个实部和虚部构成的数字\n",
    "- 虚部用j/J表示\n",
    "- 5+3j"
   ]
  },
  {
   "cell_type": "markdown",
   "metadata": {},
   "source": [
    "### 布尔值\n",
    "- 表示真假的值\n",
    "- True / False #只有这俩个值\n",
    "- 布尔值可以直接跟数字直接操作"
   ]
  },
  {
   "cell_type": "code",
   "execution_count": 26,
   "metadata": {},
   "outputs": [
    {
     "name": "stdout",
     "output_type": "stream",
     "text": [
      "19\n"
     ]
    }
   ],
   "source": [
    "age = 18 + True \n",
    "print(age)"
   ]
  },
  {
   "cell_type": "markdown",
   "metadata": {},
   "source": [
    " ## 字符串\n",
    " - 用来表示一串文字信息\n",
    " - 如何表示\n",
    "     - 单引号\n",
    "     - 双引号\n",
    "     - 三引号（三个单引号或三个双引号）\n",
    "         - 能够扩起多行信息\n",
    " - 单双引号交错使用\n",
    "     "
   ]
  },
  {
   "cell_type": "code",
   "execution_count": 27,
   "metadata": {},
   "outputs": [
    {
     "name": "stdout",
     "output_type": "stream",
     "text": [
      "\n",
      "i love\n",
      "haha\n",
      "dsf\n",
      "\n"
     ]
    }
   ],
   "source": [
    "#单双引号交错使用\n",
    "# <a style =\"color:red\">哈哈哈</a>\n",
    "#用引号表示上满字符串\n",
    "HTML = '<a style =\"color:red\">哈哈哈</a>'\n",
    "\n",
    "html1 = '''\n",
    "i love\n",
    "haha\n",
    "dsf\n",
    "'''\n",
    "print(html1)"
   ]
  },
  {
   "cell_type": "code",
   "execution_count": null,
   "metadata": {
    "collapsed": true
   },
   "outputs": [],
   "source": []
  }
 ],
 "metadata": {
  "kernelspec": {
   "display_name": "Python 3",
   "language": "python",
   "name": "python3"
  },
  "language_info": {
   "codemirror_mode": {
    "name": "ipython",
    "version": 3
   },
   "file_extension": ".py",
   "mimetype": "text/x-python",
   "name": "python",
   "nbconvert_exporter": "python",
   "pygments_lexer": "ipython3",
   "version": "3.6.3"
  }
 },
 "nbformat": 4,
 "nbformat_minor": 2
}
