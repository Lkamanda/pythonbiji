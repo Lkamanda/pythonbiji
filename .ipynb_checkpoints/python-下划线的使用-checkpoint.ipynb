{
 "cells": [
  {
   "cell_type": "markdown",
   "metadata": {},
   "source": [
    "- name mangking (name decoraction 命名修饰）\n",
    "- 这一技术解决 需要唯一名称一起的问题。比如 命名冲突重载\n",
    "- 在python 中双下滑线开头的变量名，会自动增加类名前缀\n",
    "- 可以防止意外在子类或这类外面被修改到\n",
    "- 单下划线也有private的意味，但是更多的只是约定，可以直接访问到,而双下滑线变量更加彻底"
   ]
  },
  {
   "cell_type": "code",
   "execution_count": 4,
   "metadata": {},
   "outputs": [
    {
     "name": "stdout",
     "output_type": "stream",
     "text": [
      "{'_A__age': '20', '_name': 'zjl'}\n"
     ]
    }
   ],
   "source": [
    "class A:\n",
    "    def __init__(self):\n",
    "        self.__age ='20'\n",
    "        self._name = 'zjl'\n",
    "a = A()\n",
    "print(a.__dict__)"
   ]
  },
  {
   "cell_type": "code",
   "execution_count": 6,
   "metadata": {},
   "outputs": [
    {
     "ename": "AttributeError",
     "evalue": "'A' object has no attribute '__age'",
     "output_type": "error",
     "traceback": [
      "\u001b[0;31m---------------------------------------------------------------------------\u001b[0m",
      "\u001b[0;31mAttributeError\u001b[0m                            Traceback (most recent call last)",
      "\u001b[0;32m<ipython-input-6-f84b27e98948>\u001b[0m in \u001b[0;36m<module>\u001b[0;34m()\u001b[0m\n\u001b[0;32m----> 1\u001b[0;31m \u001b[0mprint\u001b[0m\u001b[0;34m(\u001b[0m\u001b[0ma\u001b[0m\u001b[0;34m.\u001b[0m\u001b[0m__age\u001b[0m\u001b[0;34m)\u001b[0m\u001b[0;34m\u001b[0m\u001b[0m\n\u001b[0m\u001b[1;32m      2\u001b[0m \u001b[0;31m# 私有\u001b[0m\u001b[0;34m\u001b[0m\u001b[0;34m\u001b[0m\u001b[0m\n",
      "\u001b[0;31mAttributeError\u001b[0m: 'A' object has no attribute '__age'"
     ]
    }
   ],
   "source": [
    "print(a.__age)\n",
    "# 私有"
   ]
  },
  {
   "cell_type": "code",
   "execution_count": 8,
   "metadata": {},
   "outputs": [
    {
     "name": "stdout",
     "output_type": "stream",
     "text": [
      "20\n"
     ]
    }
   ],
   "source": [
    "# 如要强行访问私有成员\n",
    "print(a._A__age)"
   ]
  },
  {
   "cell_type": "code",
   "execution_count": 10,
   "metadata": {},
   "outputs": [
    {
     "name": "stdout",
     "output_type": "stream",
     "text": [
      "zjl\n"
     ]
    }
   ],
   "source": [
    "print(a._name)\n",
    "# 约定俗称，但可访问"
   ]
  },
  {
   "cell_type": "markdown",
   "metadata": {},
   "source": [
    "# python 下划线约定"
   ]
  },
  {
   "cell_type": "markdown",
   "metadata": {},
   "source": [
    "- _xxx:表示内部使用，不能被from M import * 导入\n",
    "- xxx_:表示避免和关键字冲突，如Tkinte.Toplevel(master,class_= 'ClassName')\n",
    "- __xxx:更彻底的private.用到了name mangling技术，会自动加上类名前缀。不能被子类和类外访问\n",
    "- __xxx__:魔法方法或用户控制的命名空间"
   ]
  }
 ],
 "metadata": {
  "kernelspec": {
   "display_name": "Python 3",
   "language": "python",
   "name": "python3"
  },
  "language_info": {
   "codemirror_mode": {
    "name": "ipython",
    "version": 3
   },
   "file_extension": ".py",
   "mimetype": "text/x-python",
   "name": "python",
   "nbconvert_exporter": "python",
   "pygments_lexer": "ipython3",
   "version": "3.6.3"
  }
 },
 "nbformat": 4,
 "nbformat_minor": 2
}
