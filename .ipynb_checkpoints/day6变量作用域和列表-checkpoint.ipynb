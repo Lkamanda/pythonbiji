{
 "cells": [
  {
   "cell_type": "markdown",
   "metadata": {},
   "source": [
    "# 变量作用域\n",
    "- 变量由作用范围限制\n",
    "- 分类\n",
    "    -按照作用域分类\n",
    "        - 全局变量（global）：在函数外部定义\n",
    "        - 局部变量（local）:在函数内部定义\n",
    "    - 变量的作用范围：\n",
    "        - 全局变量：在整个全局范围都有效\n",
    "        - 全局变量在局域可以使用（即函数内部可以方位函数外部定义变量）\n",
    "        - 局部变量在局部范围可以使用\n",
    "        - 局部变量在全局范围内无法使用\n",
    "     - LEGB原则\n",
    "         - L(local)局部变量作用域\n",
    "         - E(Enclosing function locale)外部嵌套函数作用域\n",
    "         - G（Global module）函数定义所在模块作用域\n",
    "         - B（Buidin）:python内置模块的作用域\n",
    "         \n",
    "         "
   ]
  },
  {
   "cell_type": "code",
   "execution_count": 3,
   "metadata": {},
   "outputs": [
    {
     "name": "stdout",
     "output_type": "stream",
     "text": [
      "100\n",
      "100\n",
      "i am fun\n",
      "99\n"
     ]
    }
   ],
   "source": [
    "#a1为全局\n",
    "a1 = 100\n",
    "def fun():\n",
    "    print(a1)\n",
    "    print(\"i am fun\")\n",
    "    #a2的作用域是fun\n",
    "    a2 = 99\n",
    "    print(a2)\n",
    "print(a1)\n",
    "fun()\n",
    "#print(a2)"
   ]
  },
  {
   "cell_type": "markdown",
   "metadata": {},
   "source": [
    "## 提升局部变量为全局变量\n",
    "- 使用global\n",
    "- "
   ]
  },
  {
   "cell_type": "code",
   "execution_count": 5,
   "metadata": {},
   "outputs": [
    {
     "name": "stdout",
     "output_type": "stream",
     "text": [
      "100\n",
      "100\n",
      "i am fun\n",
      "99\n",
      "100 99\n"
     ]
    }
   ],
   "source": [
    "a1 = 100\n",
    "def fun():\n",
    "    global b1\n",
    "    b1 =100\n",
    "    global b2\n",
    "    b2 = 99\n",
    "    print(a1)\n",
    "    print(\"i am fun\")\n",
    "    #a2的作用域是fun\n",
    "    a2 = 99\n",
    "    print(a2)\n",
    "print(a1)\n",
    "fun()\n",
    "print(b1,b2)"
   ]
  },
  {
   "cell_type": "markdown",
   "metadata": {},
   "source": [
    "# globals ,locals函数\n",
    "- 可以通过globals和locals显示出局部变量和全局变量"
   ]
  },
  {
   "cell_type": "code",
   "execution_count": 7,
   "metadata": {},
   "outputs": [
    {
     "name": "stdout",
     "output_type": "stream",
     "text": [
      "Locals ={'e': 111, 'd': 200, 'c': 100}\n",
      "globals={'__name__': '__main__', '__doc__': 'Automatically created module for IPython interactive environment', '__package__': None, '__loader__': None, '__spec__': None, '__builtin__': <module 'builtins' (built-in)>, '__builtins__': <module 'builtins' (built-in)>, '_ih': ['', '#a1为全局\\na1 = 100\\ndef fun():\\n    print(a1)\\n    print(\"i am fun\")\\n    #a2的作用域是fun\\n    a2 = 99\\n    print(a2)\\nprint(a1)\\n    ', '#a1为全局\\na1 = 100\\ndef fun():\\n    print(a1)\\n    print(\"i am fun\")\\n    #a2的作用域是fun\\n    a2 = 99\\n    print(a2)\\nprint(a1)\\nprint(a2)', '#a1为全局\\na1 = 100\\ndef fun():\\n    print(a1)\\n    print(\"i am fun\")\\n    #a2的作用域是fun\\n    a2 = 99\\n    print(a2)\\nprint(a1)\\nfun()\\n#print(a2)', 'a1 = 100\\ndef fun():\\n    b1 =100\\n    b2 = 99\\n    print(a1)\\n    print(\"i am fun\")\\n    #a2的作用域是fun\\n    a2 = 99\\n    print(a2)\\nprint(a1)\\nfun()\\nprint(b1,b2)', 'a1 = 100\\ndef fun():\\n    global b1\\n    b1 =100\\n    global b2\\n    b2 = 99\\n    print(a1)\\n    print(\"i am fun\")\\n    #a2的作用域是fun\\n    a2 = 99\\n    print(a2)\\nprint(a1)\\nfun()\\nprint(b1,b2)', '#globals 和locals\\na = 1 \\nb = 2\\ndef fun(c,d):\\n    c = 111\\n    print(\"Locals ={0}\".format(locals()))\\n    print(\"globals={0}\".format(globals()))\\nfun(100,200)', '#globals 和locals\\na = 1 \\nb = 2\\ndef fun(c,d):\\n    e = 111\\n    print(\"Locals ={0}\".format(locals()))\\n    print(\"globals={0}\".format(globals()))\\nfun(100,200)'], '_oh': {}, '_dh': ['/home/tlxy/pythonbiji/pythonbiji'], 'In': ['', '#a1为全局\\na1 = 100\\ndef fun():\\n    print(a1)\\n    print(\"i am fun\")\\n    #a2的作用域是fun\\n    a2 = 99\\n    print(a2)\\nprint(a1)\\n    ', '#a1为全局\\na1 = 100\\ndef fun():\\n    print(a1)\\n    print(\"i am fun\")\\n    #a2的作用域是fun\\n    a2 = 99\\n    print(a2)\\nprint(a1)\\nprint(a2)', '#a1为全局\\na1 = 100\\ndef fun():\\n    print(a1)\\n    print(\"i am fun\")\\n    #a2的作用域是fun\\n    a2 = 99\\n    print(a2)\\nprint(a1)\\nfun()\\n#print(a2)', 'a1 = 100\\ndef fun():\\n    b1 =100\\n    b2 = 99\\n    print(a1)\\n    print(\"i am fun\")\\n    #a2的作用域是fun\\n    a2 = 99\\n    print(a2)\\nprint(a1)\\nfun()\\nprint(b1,b2)', 'a1 = 100\\ndef fun():\\n    global b1\\n    b1 =100\\n    global b2\\n    b2 = 99\\n    print(a1)\\n    print(\"i am fun\")\\n    #a2的作用域是fun\\n    a2 = 99\\n    print(a2)\\nprint(a1)\\nfun()\\nprint(b1,b2)', '#globals 和locals\\na = 1 \\nb = 2\\ndef fun(c,d):\\n    c = 111\\n    print(\"Locals ={0}\".format(locals()))\\n    print(\"globals={0}\".format(globals()))\\nfun(100,200)', '#globals 和locals\\na = 1 \\nb = 2\\ndef fun(c,d):\\n    e = 111\\n    print(\"Locals ={0}\".format(locals()))\\n    print(\"globals={0}\".format(globals()))\\nfun(100,200)'], 'Out': {}, 'get_ipython': <bound method InteractiveShell.get_ipython of <ipykernel.zmqshell.ZMQInteractiveShell object at 0x7f79317715f8>>, 'exit': <IPython.core.autocall.ZMQExitAutocall object at 0x7f7931734f28>, 'quit': <IPython.core.autocall.ZMQExitAutocall object at 0x7f7931734f28>, '_': '', '__': '', '___': '', '_i': '#globals 和locals\\na = 1 \\nb = 2\\ndef fun(c,d):\\n    c = 111\\n    print(\"Locals ={0}\".format(locals()))\\n    print(\"globals={0}\".format(globals()))\\nfun(100,200)', '_ii': 'a1 = 100\\ndef fun():\\n    global b1\\n    b1 =100\\n    global b2\\n    b2 = 99\\n    print(a1)\\n    print(\"i am fun\")\\n    #a2的作用域是fun\\n    a2 = 99\\n    print(a2)\\nprint(a1)\\nfun()\\nprint(b1,b2)', '_iii': 'a1 = 100\\ndef fun():\\n    b1 =100\\n    b2 = 99\\n    print(a1)\\n    print(\"i am fun\")\\n    #a2的作用域是fun\\n    a2 = 99\\n    print(a2)\\nprint(a1)\\nfun()\\nprint(b1,b2)', '_i1': '#a1为全局\\na1 = 100\\ndef fun():\\n    print(a1)\\n    print(\"i am fun\")\\n    #a2的作用域是fun\\n    a2 = 99\\n    print(a2)\\nprint(a1)\\n    ', 'a1': 100, 'fun': <function fun at 0x7f7930597ea0>, '_i2': '#a1为全局\\na1 = 100\\ndef fun():\\n    print(a1)\\n    print(\"i am fun\")\\n    #a2的作用域是fun\\n    a2 = 99\\n    print(a2)\\nprint(a1)\\nprint(a2)', '_i3': '#a1为全局\\na1 = 100\\ndef fun():\\n    print(a1)\\n    print(\"i am fun\")\\n    #a2的作用域是fun\\n    a2 = 99\\n    print(a2)\\nprint(a1)\\nfun()\\n#print(a2)', '_i4': 'a1 = 100\\ndef fun():\\n    b1 =100\\n    b2 = 99\\n    print(a1)\\n    print(\"i am fun\")\\n    #a2的作用域是fun\\n    a2 = 99\\n    print(a2)\\nprint(a1)\\nfun()\\nprint(b1,b2)', '_i5': 'a1 = 100\\ndef fun():\\n    global b1\\n    b1 =100\\n    global b2\\n    b2 = 99\\n    print(a1)\\n    print(\"i am fun\")\\n    #a2的作用域是fun\\n    a2 = 99\\n    print(a2)\\nprint(a1)\\nfun()\\nprint(b1,b2)', 'b1': 100, 'b2': 99, '_i6': '#globals 和locals\\na = 1 \\nb = 2\\ndef fun(c,d):\\n    c = 111\\n    print(\"Locals ={0}\".format(locals()))\\n    print(\"globals={0}\".format(globals()))\\nfun(100,200)', 'a': 1, 'b': 2, '_i7': '#globals 和locals\\na = 1 \\nb = 2\\ndef fun(c,d):\\n    e = 111\\n    print(\"Locals ={0}\".format(locals()))\\n    print(\"globals={0}\".format(globals()))\\nfun(100,200)'}\n"
     ]
    }
   ],
   "source": [
    "#globals 和locals\n",
    "a = 1 \n",
    "b = 2\n",
    "def fun(c,d):\n",
    "    e = 111\n",
    "    print(\"Locals ={0}\".format(locals()))\n",
    "    print(\"globals={0}\".format(globals()))\n",
    "fun(100,200)"
   ]
  },
  {
   "cell_type": "code",
   "execution_count": null,
   "metadata": {
    "collapsed": true
   },
   "outputs": [],
   "source": []
  }
 ],
 "metadata": {
  "kernelspec": {
   "display_name": "Python 3",
   "language": "python",
   "name": "python3"
  },
  "language_info": {
   "codemirror_mode": {
    "name": "ipython",
    "version": 3
   },
   "file_extension": ".py",
   "mimetype": "text/x-python",
   "name": "python",
   "nbconvert_exporter": "python",
   "pygments_lexer": "ipython3",
   "version": "3.6.3"
  }
 },
 "nbformat": 4,
 "nbformat_minor": 2
}
