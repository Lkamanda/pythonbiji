{
 "cells": [
  {
   "cell_type": "markdown",
   "metadata": {},
   "source": [
    "# 程序结构\n",
    "- 顺序循环\n",
    "- 分支（根据不同的条件进行判断）\n",
    "- 循环 "
   ]
  },
  {
   "cell_type": "markdown",
   "metadata": {},
   "source": [
    "# 分支\n",
    "- 分支的基本语法：\n",
    "    - if 条件表达式：\n",
    "        语句1\n",
    "        语句2\n",
    "        语句3\n",
    "- 条件表达式就是计算结果必须为布尔表达式\n",
    "- 注意if后面的语句块，如果属于if语句块，则必须同一个缩进\n",
    "- 表达式结果位True 执行后面的缩进的语句块"
   ]
  },
  {
   "cell_type": "code",
   "execution_count": 2,
   "metadata": {},
   "outputs": [
    {
     "name": "stdout",
     "output_type": "stream",
     "text": [
      "开车\n"
     ]
    }
   ],
   "source": [
    "# if语句练习\n",
    "#如果age < 18, 则打印信息”叫家长“\n",
    "age= 19\n",
    "if age <18:\n",
    "    print (\"去叫家长\")\n",
    "    print(\"我们不带你玩\")\n",
    "    print(\"滚\")\n",
    "print('开车')\n",
    "\n",
    "    "
   ]
  },
  {
   "cell_type": "markdown",
   "metadata": {},
   "source": [
    "### 双向分支\n",
    "- if .... else..语句\n",
    "    \n",
    "    if 条件表达式:\n",
    "        语句1\n",
    "        语句2\n",
    "        ...\n",
    "    else:\n",
    "        语句1\n",
    "        语句2\n",
    "        ...\n",
    "- 双向分之有俩个分之但程序执行则if ...else .. ,一定会执行if或else中的一个，也仅会执行一个\n",
    "- 缩进问题，if和else一个层级，其余语句一个层级\n"
   ]
  },
  {
   "cell_type": "code",
   "execution_count": 10,
   "metadata": {},
   "outputs": [
    {
     "name": "stdout",
     "output_type": "stream",
     "text": [
      "请输入性别：man\n",
      "您输入的性别是:man\n",
      "男\n",
      "上课\n"
     ]
    }
   ],
   "source": [
    "# input的作用\n",
    "#1.在屏幕上输出括号内的字符串\n",
    "#2.接受用户输入括号的内容并返回到程序结束\n",
    "#3.input返回的内容是字符串类型\n",
    "gender = input(\"请输入性别：\")\n",
    "print(\"您输入的性别是:{0}\".format(gender))\n",
    "if gender == 'man':\n",
    "    print('男')\n",
    "else:\n",
    "    print('nve')\n",
    "print('上课')"
   ]
  },
  {
   "cell_type": "code",
   "execution_count": 11,
   "metadata": {
    "collapsed": true
   },
   "outputs": [],
   "source": [
    "# 考试成绩\n",
    "#90以上：输出优秀\n",
    "#80- 90：良\n",
    "#70-80：中\n",
    "#60- 70：平\n",
    "#60一下：输出：我没你这学生"
   ]
  },
  {
   "cell_type": "code",
   "execution_count": 17,
   "metadata": {},
   "outputs": [
    {
     "name": "stdout",
     "output_type": "stream",
     "text": [
      "请输入学生成绩：75\n",
      "C\n"
     ]
    }
   ],
   "source": [
    "#score 存放学生成绩\n",
    "score = int(input('请输入学生成绩：'))\n",
    "if score >= 90:\n",
    "    print('A')\n",
    "if score >=80 and score< 90:\n",
    "    print('B')\n",
    "if score >= 70 and score<80:\n",
    "    print('C')\n",
    "if score >= 0 and score<70:\n",
    "    print('没你这个学生')\n",
    "\n",
    "    "
   ]
  },
  {
   "cell_type": "markdown",
   "metadata": {},
   "source": [
    "## 多路分支\n",
    "- 很多分支的情况，简称多路分支\n",
    "- if 条件表示：\n",
    "    语句1\n",
    "  elif 矫健表达式:\n",
    "      语句1\n",
    "    ...\n",
    "  elif\n",
    "  ...\n",
    "  else:\n",
    "      语句1\n",
    "- else 可以很多\n",
    "- 多路分支只能选择一个"
   ]
  },
  {
   "cell_type": "code",
   "execution_count": 19,
   "metadata": {},
   "outputs": [
    {
     "name": "stdout",
     "output_type": "stream",
     "text": [
      "请输入学生成绩：65\n",
      "没你这个学生\n"
     ]
    }
   ],
   "source": [
    "score = int(input('请输入学生成绩：'))\n",
    "if score >= 90:\n",
    "    print('A')\n",
    "elif score >=80 and score< 90:\n",
    "    print('B')\n",
    "elif score >= 70 and score<80:\n",
    "    print('C')\n",
    "else :\n",
    "    print('没你这个学生')"
   ]
  },
  {
   "cell_type": "markdown",
   "metadata": {},
   "source": [
    "## if语句其他：\n",
    "- if 语句可以嵌套，但不推荐\n",
    "- Python没有swich-case"
   ]
  },
  {
   "cell_type": "markdown",
   "metadata": {},
   "source": [
    "# 循环语句\n",
    "- 重复执行某些固定的动作或处理固定的事物\n",
    "- 分类\n",
    "    - for 循环\n",
    "    - while循环\n",
    "## for 循环\n",
    "- for 循环\n",
    "    for 变量 in 序列：\n",
    "        语句1\n",
    "        语句2\n",
    "        ...\n",
    "        \n",
    "    "
   ]
  },
  {
   "cell_type": "code",
   "execution_count": 23,
   "metadata": {},
   "outputs": [
    {
     "name": "stdout",
     "output_type": "stream",
     "text": [
      "zhangsan\n",
      "我们不约\n",
      "lisi\n",
      "我们不约\n",
      "wangwu\n",
      "我们不约\n",
      "jingjing\n",
      "我最爱jingjing\n"
     ]
    }
   ],
   "source": [
    "#列表就是一列数字或者其他值，一般用中括号表示\n",
    "#如果是wangwu，我最爱\n",
    "#如果是别的学生没那就冷静的拒绝他\n",
    "#例如['zhangsan','lisi','wangwu']\n",
    "for name in ['zhangsan','lisi','wangwu','jingjing']:\n",
    "    print(name)\n",
    "    if name =='jingjing':\n",
    "        print('我最爱{0}'.format(name))\n",
    "    else:\n",
    "        print('我们不约')"
   ]
  },
  {
   "cell_type": "markdown",
   "metadata": {},
   "source": [
    "## range介绍\n",
    "- 生成一个数字序列，具体范围可以设定\n",
    "-"
   ]
  },
  {
   "cell_type": "code",
   "execution_count": 26,
   "metadata": {},
   "outputs": [
    {
     "name": "stdout",
     "output_type": "stream",
     "text": [
      "1\n",
      "2\n",
      "3\n",
      "4\n",
      "5\n",
      "6\n",
      "7\n",
      "8\n",
      "9\n",
      "10\n"
     ]
    }
   ],
   "source": [
    "# range练习\n",
    "#打印1-10的数字\n",
    "#表示数字范围的俩个数，一般包含左边数字不包含右边数字\n",
    "#randint是特例，他左右都包括\n",
    "for i in range(1,11):\n",
    "    print(i)"
   ]
  },
  {
   "cell_type": "markdown",
   "metadata": {},
   "source": [
    "## for- else语句\n",
    "- 当for循环结束时，会执行else语句\n",
    "- else语句是可选的\n"
   ]
  },
  {
   "cell_type": "code",
   "execution_count": 27,
   "metadata": {},
   "outputs": [
    {
     "name": "stdout",
     "output_type": "stream",
     "text": [
      "zhangsan\n",
      "我们不约\n",
      "lisi\n",
      "我们不约\n",
      "wangwu\n",
      "我们不约\n",
      "jingjing\n",
      "我最爱jingjing\n",
      "别的不是我同学\n"
     ]
    }
   ],
   "source": [
    "#for - else语句\n",
    "#打印列表中的同学\n",
    "#如果没有在列表中，或者列表结束，我们需要答应提示语句，表示不在爱了\n",
    "for name in ['zhangsan','lisi','wangwu','jingjing']:\n",
    "    print(name)\n",
    "    if name =='jingjing':\n",
    "        print('我最爱{0}'.format(name))\n",
    "    else:\n",
    "        print('我们不约')\n",
    "else:\n",
    "    print('别的不是我同学')\n"
   ]
  },
  {
   "cell_type": "markdown",
   "metadata": {},
   "source": [
    "## 循环之break,continue,pass\n",
    "- break:无条件结束整个循环，简称循环猝死\n",
    "- continue:无条件结束本次循环从新进入下一轮循环\n",
    "- pass表示通过"
   ]
  },
  {
   "cell_type": "code",
   "execution_count": 30,
   "metadata": {},
   "outputs": [
    {
     "name": "stdout",
     "output_type": "stream",
     "text": [
      "1\n",
      "2\n",
      "3\n",
      "4\n",
      "5\n",
      "6\n",
      "我找到了\n"
     ]
    }
   ],
   "source": [
    "#在数字1-10中，寻找数子7，打印出来，其余则什么都不做\n",
    "#for循环中的变量表示们一般用i,k,m,n或indx，idx,item之类\n",
    "#在python 中，如果循环变量名不重复们可以用（_）代替\n",
    "for i in range(1,11):\n",
    "    if i == 7:\n",
    "        print('我找到了')\n",
    "        break\n",
    "    else:\n",
    "        print(i)\n",
    "    "
   ]
  },
  {
   "cell_type": "code",
   "execution_count": 31,
   "metadata": {},
   "outputs": [
    {
     "name": "stdout",
     "output_type": "stream",
     "text": [
      "2是偶数\n",
      "4是偶数\n",
      "6是偶数\n",
      "8是偶数\n",
      "10是偶数\n"
     ]
    }
   ],
   "source": [
    "#continue语句练习\n",
    "#在数字1-10中，寻找所以偶数，找到偶数后打印偶数\n",
    "#for循环中的变量表示们一般用i,k,m,n或indx，idx,item之类\n",
    "#在python 中，如果循环变量名不重复们可以用（_）代替\n",
    "for i in range(1,11):\n",
    "    if i%2 == 1:\n",
    "        continue\n",
    "    else:\n",
    "        print(\"{0}是偶数\".format(i))\n",
    "    "
   ]
  },
  {
   "cell_type": "code",
   "execution_count": 32,
   "metadata": {},
   "outputs": [
    {
     "name": "stdout",
     "output_type": "stream",
     "text": [
      "2是偶数\n",
      "4是偶数\n",
      "6是偶数\n",
      "8是偶数\n",
      "10是偶数\n"
     ]
    }
   ],
   "source": [
    "#continue语句练习\n",
    "#在数字1-10中，寻找所以偶数，找到偶数后打印偶数\n",
    "#for循环中的变量表示们一般用i,k,m,n或indx，idx,item之类\n",
    "#在python 中，如果循环变量名不重复们可以用（_）代替\n",
    "for i in range(1,11):\n",
    "    if i%2 == 0:\n",
    "        print(\"{0}是偶数\".format(i))\n",
    "    "
   ]
  },
  {
   "cell_type": "code",
   "execution_count": 34,
   "metadata": {},
   "outputs": [
    {
     "name": "stdout",
     "output_type": "stream",
     "text": [
      "2是偶数\n",
      "4是偶数\n",
      "6是偶数\n",
      "8是偶数\n",
      "10是偶数\n"
     ]
    }
   ],
   "source": [
    "for i in range(1,11):\n",
    "    if i%2 == 1:\n",
    "        continue\n",
    "    print(\"{0}是偶数\".format(i))"
   ]
  },
  {
   "cell_type": "code",
   "execution_count": 37,
   "metadata": {
    "scrolled": true
   },
   "outputs": [
    {
     "name": "stdout",
     "output_type": "stream",
     "text": [
      "占位\n",
      "占位\n",
      "占位\n",
      "占位\n",
      "占位\n",
      "占位\n",
      "占位\n",
      "占位\n",
      "占位\n",
      "占位\n"
     ]
    }
   ],
   "source": [
    "# pass 例子，一般用于占位\n",
    "for i in range(1,11):\n",
    "    pass\n",
    "    print(\"占位\")\n"
   ]
  }
 ],
 "metadata": {
  "kernelspec": {
   "display_name": "Python 3",
   "language": "python",
   "name": "python3"
  },
  "language_info": {
   "codemirror_mode": {
    "name": "ipython",
    "version": 3
   },
   "file_extension": ".py",
   "mimetype": "text/x-python",
   "name": "python",
   "nbconvert_exporter": "python",
   "pygments_lexer": "ipython3",
   "version": "3.6.3"
  }
 },
 "nbformat": 4,
 "nbformat_minor": 2
}
