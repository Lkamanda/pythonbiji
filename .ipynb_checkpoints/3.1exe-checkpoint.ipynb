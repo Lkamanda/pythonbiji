{
 "cells": [
  {
   "cell_type": "code",
   "execution_count": 17,
   "metadata": {},
   "outputs": [
    {
     "name": "stdout",
     "output_type": "stream",
     "text": [
      "* * * * * \n",
      "* * * * * \n",
      "* * * * * \n",
      "* * * * * \n",
      "====================\n",
      "* * * * * \n",
      "*       * \n",
      "*       * \n",
      "* * * * * \n"
     ]
    }
   ],
   "source": [
    "# 打印出一个矩形\n",
    "# i控制行 ，j 控制列\n",
    "for i in range(1,5):\n",
    "    for j in range(1,6):\n",
    "         #取消换行\n",
    "        print('*', end= ' ')\n",
    "    # 当第j行的5行输出完后进行换行\n",
    "    print()\n",
    "# 分割一下输出\n",
    "print('='* 20)\n",
    "\n",
    "# 打印空心矩形\n",
    "for i in range(1,5):\n",
    "    for j in range(1,6):\n",
    "        if i == 1 or i == 4  or j == 1 or j == 5:\n",
    "            print('*', end= ' ')\n",
    "        else:\n",
    "            # 如果你这不加else打印空 占位\n",
    "            #出现下面情况\n",
    "            print(' ' ,end=\" \")\n",
    "          \n",
    "    print()\n",
    "        \n",
    "        \n",
    "\n",
    "    "
   ]
  },
  {
   "cell_type": "code",
   "execution_count": 18,
   "metadata": {},
   "outputs": [
    {
     "name": "stdout",
     "output_type": "stream",
     "text": [
      "* * * * * \n",
      "* * * * * \n",
      "* * * * * \n",
      "* * * * * \n",
      "====================\n",
      "* * * * * \n",
      "* * \n",
      "* * \n",
      "* * * * * \n"
     ]
    }
   ],
   "source": [
    "for i in range(1,5):\n",
    "    for j in range(1,6):\n",
    "         #取消换行\n",
    "        print('*', end= ' ')\n",
    "    # 当第j行的5行输出完后进行换行\n",
    "    print()\n",
    "# 分割一下输出\n",
    "print('='* 20)\n",
    "\n",
    "# 打印空心矩形\n",
    "for i in range(1,5):\n",
    "    for j in range(1,6):\n",
    "        if i == 1 or i == 4  or j == 1 or j == 5:\n",
    "            print('*', end= ' ')\n",
    "    print()"
   ]
  },
  {
   "cell_type": "code",
   "execution_count": 9,
   "metadata": {},
   "outputs": [
    {
     "name": "stdout",
     "output_type": "stream",
     "text": [
      "ii\n",
      "ii\n",
      "ii\n",
      "ii\n"
     ]
    }
   ],
   "source": [
    "for i in range(1,5):\n",
    "    for j in range(1,3):\n",
    "        print('i',end= '')\n",
    "    print()"
   ]
  }
 ],
 "metadata": {
  "kernelspec": {
   "display_name": "Python 3",
   "language": "python",
   "name": "python3"
  },
  "language_info": {
   "codemirror_mode": {
    "name": "ipython",
    "version": 3
   },
   "file_extension": ".py",
   "mimetype": "text/x-python",
   "name": "python",
   "nbconvert_exporter": "python",
   "pygments_lexer": "ipython3",
   "version": "3.6.3"
  }
 },
 "nbformat": 4,
 "nbformat_minor": 2
}
