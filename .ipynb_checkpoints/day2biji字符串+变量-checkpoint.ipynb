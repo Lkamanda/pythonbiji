{
 "cells": [
  {
   "cell_type": "markdown",
   "metadata": {
    "collapsed": true
   },
   "source": [
    "# 字符串\n",
    "- 转义字符\n",
    "- 格式化\n",
    "- 内置函数"
   ]
  },
  {
   "cell_type": "markdown",
   "metadata": {},
   "source": [
    "## 转义字符串\n",
    "- 用一些特殊的方法表示出一些不方便的内容，比如回车键，换行键，退格键\n",
    "- 借助反斜杠字符，一旦字符串中出现反斜杠，反斜杠后面一个或几个字符表示已经不是原来的意思了 ，进行了转义\n",
    "- 在字符串中，一旦出现反斜杠加倍小心，可能出现转义\n",
    "- 不同系统对操作系统有不同的表示\n",
    "    - windows：\\n\n",
    "    - Linux: \\r\\n"
   ]
  },
  {
   "cell_type": "code",
   "execution_count": 1,
   "metadata": {},
   "outputs": [
    {
     "name": "stdout",
     "output_type": "stream",
     "text": [
      "i love zxy\n"
     ]
    }
   ],
   "source": [
    "s = 'i love zxy'\n",
    "print(s)"
   ]
  },
  {
   "cell_type": "code",
   "execution_count": 2,
   "metadata": {},
   "outputs": [
    {
     "name": "stdout",
     "output_type": "stream",
     "text": [
      "let'sgo\n"
     ]
    }
   ],
   "source": [
    "#如何表示出let‘sgo\n",
    "#1.可以用嵌套引号，即双引号\n",
    "#2.转义符\n",
    "s = \"let'sgo\"\n",
    "print(s)"
   ]
  },
  {
   "cell_type": "code",
   "execution_count": 4,
   "metadata": {},
   "outputs": [
    {
     "name": "stdout",
     "output_type": "stream",
     "text": [
      "let's go\n"
     ]
    }
   ],
   "source": [
    "a ='let\\'s go'\n",
    "print(a)"
   ]
  },
  {
   "cell_type": "code",
   "execution_count": 5,
   "metadata": {},
   "outputs": [
    {
     "name": "stdout",
     "output_type": "stream",
     "text": [
      "i lo\\ve y\n"
     ]
    }
   ],
   "source": [
    "#使用\\\\打印\\\n",
    "b = 'i lo\\\\ve y'\n",
    "print(b)"
   ]
  },
  {
   "cell_type": "code",
   "execution_count": 8,
   "metadata": {},
   "outputs": [
    {
     "name": "stdout",
     "output_type": "stream",
     "text": [
      " i love \r\n",
      " zxy\n"
     ]
    }
   ],
   "source": [
    "#回车换行符\n",
    "#\\r\\n \n",
    "s1 =' i love \\r\\n zxy'\n",
    "print(s1)"
   ]
  },
  {
   "cell_type": "markdown",
   "metadata": {},
   "source": [
    "## 字符串的格式化\n",
    "- 把字符串按照一定的格式打印或者填充\n",
    "- 格式化有俩种方案：\n",
    "    - 利用百分号（%）\n",
    "    - 利用format函数"
   ]
  },
  {
   "cell_type": "code",
   "execution_count": null,
   "metadata": {
    "collapsed": true
   },
   "outputs": [],
   "source": [
    "s = 'xxx ,您好，我们开课了'"
   ]
  },
  {
   "cell_type": "markdown",
   "metadata": {},
   "source": [
    "### 利用百分号格式化\n",
    "- 在字符串中，利用%表示一个特殊的意义，表示对字符串进行格式化\n",
    "- %d: 此处应该传入一个整数\n",
    "- %s: 表示此处应该传入一个字符串"
   ]
  },
  {
   "cell_type": "code",
   "execution_count": 71,
   "metadata": {},
   "outputs": [
    {
     "name": "stdout",
     "output_type": "stream",
     "text": [
      "i love %s\n"
     ]
    }
   ],
   "source": [
    "x = \"i love %s\"\n",
    "print(x)"
   ]
  },
  {
   "cell_type": "code",
   "execution_count": 72,
   "metadata": {},
   "outputs": [
    {
     "name": "stdout",
     "output_type": "stream",
     "text": [
      "i love zxy\n"
     ]
    }
   ],
   "source": [
    "print(\"i love %s\"%\"zxy\")\n"
   ]
  },
  {
   "cell_type": "markdown",
   "metadata": {},
   "source": [
    "### 变量%参数 直接调用"
   ]
  },
  {
   "cell_type": "code",
   "execution_count": 73,
   "metadata": {},
   "outputs": [
    {
     "name": "stdout",
     "output_type": "stream",
     "text": [
      "i love zxyg\n"
     ]
    }
   ],
   "source": [
    "\n",
    "print( s%\"zxyg\")\n"
   ]
  },
  {
   "cell_type": "code",
   "execution_count": 76,
   "metadata": {},
   "outputs": [
    {
     "name": "stdout",
     "output_type": "stream",
     "text": [
      "i am %d years old\n",
      "i am 18 years old\n"
     ]
    }
   ],
   "source": [
    "a = \"i am %d years old\"\n",
    "print(a)\n",
    "print(a%18)\n"
   ]
  },
  {
   "cell_type": "code",
   "execution_count": 81,
   "metadata": {},
   "outputs": [
    {
     "name": "stdout",
     "output_type": "stream",
     "text": [
      "i am %s, i am %d years old\n",
      "i am 小林, i am 18 years old\n"
     ]
    }
   ],
   "source": [
    "b = 'i am %s, i am %d years old'\n",
    "print(b)\n",
    "# 如果字符串中占位符，泽有几个占位符则用几个占位符或者一个也不要\n",
    "print(b%(\"小林\",18))"
   ]
  },
  {
   "cell_type": "markdown",
   "metadata": {},
   "source": [
    "### format 函数格式化\n",
    "- 直接用format函数格式化\n",
    "- 推荐使用这用方法\n",
    "- 在使用上，以{}和：%号，后面用format带参数完成"
   ]
  },
  {
   "cell_type": "code",
   "execution_count": 83,
   "metadata": {},
   "outputs": [
    {
     "name": "stdout",
     "output_type": "stream",
     "text": [
      "i love zxy\n"
     ]
    }
   ],
   "source": [
    "s = 'i love {}'.format('zxy')\n",
    "print(s)"
   ]
  },
  {
   "cell_type": "code",
   "execution_count": 88,
   "metadata": {},
   "outputs": [
    {
     "name": "stdout",
     "output_type": "stream",
     "text": [
      "i am 18 years old ,i lovexiaolin and i love 18\n"
     ]
    }
   ],
   "source": [
    "#还可以对{}里进行编号\n",
    "#以0123\n",
    "s = \"i am {1} years old ,i love{0} and i love {1}\".format('xiaolin','18')\n",
    "print(s)\n"
   ]
  },
  {
   "cell_type": "code",
   "execution_count": 92,
   "metadata": {},
   "outputs": [
    {
     "name": "stdout",
     "output_type": "stream",
     "text": [
      "i am  22 years old ,i love小军 and ilove 小林\n"
     ]
    }
   ],
   "source": [
    "s = \"i am  {0} years old ,i love{2} and ilove {1}\".format('22','小林','小军')\n",
    "print(s)"
   ]
  },
  {
   "cell_type": "markdown",
   "metadata": {},
   "source": [
    "## None\n",
    "- 表示什么也没有\n",
    "- 如果函数没有返回值，可以返回None\n",
    "- 用来占位\n",
    "- 用来解除变量的绑定"
   ]
  },
  {
   "cell_type": "markdown",
   "metadata": {},
   "source": [
    "# 表达式\n",
    "- 一个算或者几个数字或者变量和运算符组合成的一行代码\n",
    "- 通常会返回一个结果\n",
    "# 运算符\n",
    "- 由一个以上的值经过变化得到新的值的过程叫运算\n",
    "- 运算符的分类：\n",
    "    - 算数运算符\n",
    "    - 比较或者关系运算符\n",
    "    - 赋值运算符\n",
    "    - 逻辑运算符\n",
    "    - 位运算\n",
    "    - 成员运算符\n",
    "    - 身份运算符"
   ]
  },
  {
   "cell_type": "markdown",
   "metadata": {},
   "source": [
    "## 算数运算符\n",
    "- 进行算数运算的符号\n",
    "- python 没有自增，自减运算符\n"
   ]
  },
  {
   "cell_type": "code",
   "execution_count": 8,
   "metadata": {},
   "outputs": [
    {
     "name": "stdout",
     "output_type": "stream",
     "text": [
      "10\n",
      "36\n",
      "2.25\n",
      "1\n",
      "2\n",
      "81\n"
     ]
    }
   ],
   "source": [
    "# +-正常一样\n",
    "a = 9 + 3 -2 \n",
    "print(a)\n",
    "# 乘号用星号（*）代替\n",
    "a= 9*4\n",
    "print(a)\n",
    "# 除号用斜杠（/）代替\n",
    "a = 9/4\n",
    "print(a)\n",
    "\n",
    "\n",
    "# % 取余数\n",
    "# 俩个数字相除应该有商数有余数\n",
    "a = 9%4\n",
    "print(a)\n",
    "\n",
    "# // 表示取商运算，地板除\n",
    "a = 9 // 4\n",
    "print(a)\n",
    "\n",
    "# **表示幂运算\n",
    "a = 3 ** 4\n",
    "print(a)\n"
   ]
  },
  {
   "cell_type": "markdown",
   "metadata": {},
   "source": [
    "## 比较运算符\n",
    "- 对俩个变量或者值进行比较的运算符\n",
    "- 比较的结果是布尔值，即True/ False\n"
   ]
  },
  {
   "cell_type": "code",
   "execution_count": 11,
   "metadata": {},
   "outputs": [
    {
     "name": "stdout",
     "output_type": "stream",
     "text": [
      "False\n",
      "True\n"
     ]
    }
   ],
   "source": [
    "# == ,等于号\n",
    "a = 3**4\n",
    "#1.计算 a == 88\n",
    "#2.把结果放入b中\n",
    "b = a == 88\n",
    "print(b)\n",
    "\n",
    "# ！= 不等于\n",
    "print(9 != 8)\n",
    "\n",
    "# >大于\n",
    "# <小于\n",
    "# >=大于等于\n",
    "# <=小于等于"
   ]
  },
  {
   "cell_type": "markdown",
   "metadata": {},
   "source": [
    "## 赋值运算符"
   ]
  },
  {
   "cell_type": "code",
   "execution_count": 12,
   "metadata": {},
   "outputs": [
    {
     "name": "stdout",
     "output_type": "stream",
     "text": [
      "7\n"
     ]
    }
   ],
   "source": [
    "a = 0\n",
    "c = a = 4\n",
    "# += ,是缩写\n",
    "a = 0 \n",
    "a += 7 # a= a+ 7\n",
    "print(a)\n",
    "\n",
    "# 所以数学运算符都有缩写形式\n",
    "# -=， *= ,/=, //= , **= 都是缩写形式"
   ]
  },
  {
   "cell_type": "markdown",
   "metadata": {},
   "source": [
    "# 逻辑运算符\n",
    "- 对布尔值进行计算的符号\n",
    "- and 逻辑与\n",
    "- or 逻辑或\n",
    "- not 逻辑非\n",
    "- python 中的逻辑运算没有异或运算\n",
    "- 运算规则：\n",
    "    - and看做乘法，or看做加法\n",
    "    - True 1 ,False 0\n",
    "    - 则逻辑运算就能转换成整数运算\n",
    "    - 最后的结果如果为0则为False,否则为True\n",
    "- 逻辑预案算的短路问题\n",
    "    - 逻辑运算式,按照运算顺序计算，一旦能够确定整个式子未来的值，则不再进行运算，直接返回值。\n",
    "    "
   ]
  },
  {
   "cell_type": "code",
   "execution_count": 5,
   "metadata": {},
   "outputs": [
    {
     "name": "stdout",
     "output_type": "stream",
     "text": [
      "True\n"
     ]
    }
   ],
   "source": [
    "#逻辑运算符案例\n",
    "a = True\n",
    "b = False\n",
    "c = True\n",
    "# 一下例子 d = 1* 0 + 1\n",
    "d= a and b or c\n",
    "print(d)"
   ]
  },
  {
   "cell_type": "code",
   "execution_count": 8,
   "metadata": {},
   "outputs": [
    {
     "ename": "IndentationError",
     "evalue": "unexpected indent (<ipython-input-8-9f94a095d09b>, line 10)",
     "output_type": "error",
     "traceback": [
      "\u001b[0;36m  File \u001b[0;32m\"<ipython-input-8-9f94a095d09b>\"\u001b[0;36m, line \u001b[0;32m10\u001b[0m\n\u001b[0;31m    d= a  or b\u001b[0m\n\u001b[0m    ^\u001b[0m\n\u001b[0;31mIndentationError\u001b[0m\u001b[0;31m:\u001b[0m unexpected indent\n"
     ]
    }
   ],
   "source": [
    "# 逻辑运算的短路实例\n",
    "# 下面的逻辑表达式，a 的值一定是True,则运行到or的时候，整个表达式不在向下计算\n",
    "a = True or xxx\n",
    "\n",
    "# 注销= xxxx的表达式在括号内\n",
    "a = False and (xxxxxx)\n",
    " \n",
    "#下面表达式，则结果很难预测\n",
    "#伪代码\n",
    "b = 9 \n",
    "a = a or b= 9 and 6\n",
    "\n",
    "\n"
   ]
  },
  {
   "cell_type": "markdown",
   "metadata": {},
   "source": [
    "# 成员运算符\n",
    "- 用来检测某一个变量是否式另外一个变量的成员\n",
    "- in\n",
    "- not in "
   ]
  },
  {
   "cell_type": "code",
   "execution_count": 11,
   "metadata": {},
   "outputs": [
    {
     "name": "stdout",
     "output_type": "stream",
     "text": [
      "False\n",
      "True\n",
      "False\n"
     ]
    }
   ],
   "source": [
    "# 案例\n",
    "l = {1,2,3,4}\n",
    "a = 7 \n",
    "b = a in l\n",
    "print(b)\n",
    "a = 4 \n",
    "c = a in l\n",
    "print(c)\n",
    "print(a not in l)"
   ]
  },
  {
   "cell_type": "markdown",
   "metadata": {},
   "source": [
    "## 身份运算符\n",
    "- is用来检测俩个变量是否为同一个变量\n",
    "    - 语法就是 varl is var2\n",
    "- is not :俩个变量不是同一个变量"
   ]
  },
  {
   "cell_type": "code",
   "execution_count": 16,
   "metadata": {},
   "outputs": [
    {
     "name": "stdout",
     "output_type": "stream",
     "text": [
      "True\n",
      "False\n"
     ]
    }
   ],
   "source": [
    "a = 9 \n",
    "b = 9\n",
    "print(a is b)\n",
    "a = 'i love'\n",
    "b = 'i love'\n",
    "print(a is b)"
   ]
  },
  {
   "cell_type": "markdown",
   "metadata": {},
   "source": [
    "## 运算符的优先级问题\n",
    "- 扣号具有最高的优先级\n",
    "- 优先级：\n",
    "    - **指数具有最高优先级\n",
    "    - + - 按位翻转，一元加号和减号（最后俩个的方法名为 +@ 和-@）\n",
    "    - * / % // 乘 除 取余 取整\n",
    "    - >>  << 左移，右移 运算符\n",
    "    - & 位‘and’\n",
    "    - ^ 位运算符\n",
    "    - <= == >= 比较运算符\n",
    "    - == != >= <= 等于运算符\n",
    "    - = %= /= //= -= += **=  赋值运算符\n",
    "    - is is not 身份运算符\n",
    "    - in not in 成员运算符\n",
    "    - not or and 逻辑运算符\n",
    "    "
   ]
  }
 ],
 "metadata": {
  "kernelspec": {
   "display_name": "Python 3",
   "language": "python",
   "name": "python3"
  },
  "language_info": {
   "codemirror_mode": {
    "name": "ipython",
    "version": 3
   },
   "file_extension": ".py",
   "mimetype": "text/x-python",
   "name": "python",
   "nbconvert_exporter": "python",
   "pygments_lexer": "ipython3",
   "version": "3.6.3"
  }
 },
 "nbformat": 4,
 "nbformat_minor": 2
}
