{
 "cells": [
  {
   "cell_type": "markdown",
   "metadata": {},
   "source": [
    "# 随笔\n",
    "- sudo su 切换为管理员\n",
    "- aptitudes search git 模糊查询软件库\n",
    "- aptitude show git \n",
    "- aptitude install git "
   ]
  },
  {
   "cell_type": "markdown",
   "metadata": {},
   "source": [
    "# git 使用\n",
    "- 创建仓库\n",
    "- git init \n",
    "- 创建一个文件夹： mkdir\n",
    "- cat 查看\n",
    "- git add .\n",
    "- git commit.\n",
    "- git push 上传\n",
    "- git status 显示工作树\n",
    "- git rm :删除信息"
   ]
  }
 ],
 "metadata": {
  "kernelspec": {
   "display_name": "Python 3",
   "language": "python",
   "name": "python3"
  },
  "language_info": {
   "codemirror_mode": {
    "name": "ipython",
    "version": 3
   },
   "file_extension": ".py",
   "mimetype": "text/x-python",
   "name": "python",
   "nbconvert_exporter": "python",
   "pygments_lexer": "ipython3",
   "version": "3.6.3"
  }
 },
 "nbformat": 4,
 "nbformat_minor": 2
}
