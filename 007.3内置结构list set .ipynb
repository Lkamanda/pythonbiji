{
 "cells": [
  {
   "cell_type": "code",
   "execution_count": 3,
   "metadata": {},
   "outputs": [
    {
     "name": "stdout",
     "output_type": "stream",
     "text": [
      "[1, 2, 3, 4, 5, 6]\n",
      "[1, 2, 300, 4, 5, 6]\n",
      "[1, 2, 300, 4, 5, 6]\n",
      "109\n",
      "9\n"
     ]
    }
   ],
   "source": [
    "#对于简单的数值，采用传值操作，即在函数内对参数的操作不影响外面的变量\n",
    "#对于复杂变量，采用传址操作，此时函数内部的参数和外部变量视同一份内容，任何地方对此内容进行修改都影响另外的变量或参数使用\n",
    "#传址\n",
    "def a(n):\n",
    "    n[2] = 300\n",
    "    print(n)\n",
    "    return None\n",
    "#传值\n",
    "def b(n):\n",
    "    n += 100 \n",
    "    print(n)\n",
    "    return None\n",
    "an = [1,2,3,4,5,6]\n",
    "print(an)\n",
    "bn = 9\n",
    "a(an)\n",
    "print(an)\n",
    "b(bn)\n",
    "print(bn)"
   ]
  },
  {
   "cell_type": "markdown",
   "metadata": {},
   "source": [
    "# 关于列表的函数"
   ]
  },
  {
   "cell_type": "code",
   "execution_count": 6,
   "metadata": {},
   "outputs": [
    {
     "data": {
      "text/plain": [
       "['a', 'zcy', 45, 2, (5+2j)]"
      ]
     },
     "execution_count": 6,
     "metadata": {},
     "output_type": "execute_result"
    }
   ],
   "source": [
    "l = ['a', 'zcy',45,2,5+2j]\n",
    "l\n"
   ]
  },
  {
   "cell_type": "code",
   "execution_count": 9,
   "metadata": {},
   "outputs": [
    {
     "name": "stdout",
     "output_type": "stream",
     "text": [
      "[1, 2, 3, 4]\n",
      "[1, 2, 3, 4, 100]\n"
     ]
    }
   ],
   "source": [
    "# append 插入一个内容 ,在末尾\n",
    "a = [i for i in range (1,5)]\n",
    "print(a)\n",
    "a.append(100)\n",
    "print(a)"
   ]
  },
  {
   "cell_type": "code",
   "execution_count": 24,
   "metadata": {},
   "outputs": [
    {
     "name": "stdout",
     "output_type": "stream",
     "text": [
      "[1, 2, 3, 4, 5]\n",
      "140674151079880\n",
      "[1, 2, 3, 666, 4, 5]\n",
      "140674151079880\n"
     ]
    }
   ],
   "source": [
    "# insert 指定位置插入\n",
    "# insert(indx,date)  插入在index前\n",
    "b = [1,2,3,4,5]\n",
    "print(b)\n",
    "print(id(b))\n",
    "b.insert(3,666)\n",
    "print(b)\n",
    "print(id(b))"
   ]
  },
  {
   "cell_type": "code",
   "execution_count": 26,
   "metadata": {},
   "outputs": [
    {
     "name": "stdout",
     "output_type": "stream",
     "text": [
      "[1, 2, 3, 666, 4, 5]\n",
      "5\n",
      "[1, 2, 3, 666, 4]\n"
     ]
    }
   ],
   "source": [
    "# 删除\n",
    "# del 删除\n",
    "# pop ,从对位拿出一个元素，即把最后一个元素取出\n",
    "print(b)\n",
    "last_ele = b.pop()\n",
    "print(last_ele)\n",
    "print(b)"
   ]
  },
  {
   "cell_type": "code",
   "execution_count": 55,
   "metadata": {},
   "outputs": [
    {
     "name": "stdout",
     "output_type": "stream",
     "text": [
      "[2, 3, 4]\n",
      "140674151079880\n",
      "[3, 4]\n",
      "140674151079880\n"
     ]
    }
   ],
   "source": [
    "# remove:在列表中删除指定的值的元素\n",
    "# 如果被删除的值没在list中，则报错\n",
    "# 即删除list指定值的应该使用try...except语句，或这先进行判断\n",
    "\n",
    "print(b)\n",
    "print(id(b))\n",
    "try :\n",
    "    if 2 in b:\n",
    "        b.remove(2)\n",
    "except:\n",
    "    print('没有这个元素')\n",
    "print(b)\n",
    "print(id(b))"
   ]
  },
  {
   "cell_type": "code",
   "execution_count": 58,
   "metadata": {},
   "outputs": [
    {
     "name": "stdout",
     "output_type": "stream",
     "text": [
      "[1, 2, 3]\n",
      "140674082579784\n",
      "[]\n"
     ]
    }
   ],
   "source": [
    "# clear: 清空\n",
    "b = [1,2,3]\n",
    "print(b)\n",
    "print(id(b))\n",
    "b.clear()\n",
    "print(b)\n",
    "\n",
    "# 如果不需要列表地址保持不变，则清空列表可以使用以下方式\n",
    "#　ａ = list[]\n",
    "# a = [] \n",
    "#这种情况只是把ａ指向了另一个控列表　，而不知想原来的列表"
   ]
  },
  {
   "cell_type": "code",
   "execution_count": 59,
   "metadata": {},
   "outputs": [
    {
     "name": "stdout",
     "output_type": "stream",
     "text": [
      "[1, 2, 3, 4]\n",
      "140674091368584\n",
      "[4, 3, 2, 1]\n",
      "140674091368584\n"
     ]
    }
   ],
   "source": [
    "# reverse : 翻转列表内容，原地翻转\n",
    "ａ = [1,2,3,4]\n",
    "print(a)\n",
    "print(id(a))\n",
    "a.reverse()\n",
    "print(a)\n",
    "print(id(a))"
   ]
  },
  {
   "cell_type": "code",
   "execution_count": 61,
   "metadata": {},
   "outputs": [
    {
     "name": "stdout",
     "output_type": "stream",
     "text": [
      "[1, 2, 3, 4]\n",
      "140674082105480\n",
      "[1, 2, 3, 4, 6, 7, 8, 9, 10]\n",
      "140674082105480\n"
     ]
    }
   ],
   "source": [
    "# extend: 扩展列表，把一个直接拼接到后一个上\n",
    "ａ = [1,2,3,4]\n",
    "ｂ = [6,7,8,9,10]\n",
    "print(a)\n",
    "print(id(a))\n",
    "a.extend(b)\n",
    "print(a)\n",
    "print(id(a))"
   ]
  },
  {
   "cell_type": "code",
   "execution_count": 67,
   "metadata": {},
   "outputs": [
    {
     "name": "stdout",
     "output_type": "stream",
     "text": [
      "[1, 2, 3, 4, 6, 7, 8, 9, 10, 8]\n",
      "2\n",
      "3\n"
     ]
    }
   ],
   "source": [
    "# count :查找列表中指定值或元素的个数\n",
    "print(a)\n",
    "a_len = a.count(8)\n",
    "print(a_len)\n",
    "a.append(8)\n",
    "a_len = a.count(8)\n",
    "print(a_len)"
   ]
  },
  {
   "cell_type": "code",
   "execution_count": 70,
   "metadata": {},
   "outputs": [
    {
     "name": "stdout",
     "output_type": "stream",
     "text": [
      "[1, 2, 3, 4, 5, 666]\n",
      "[1, 2, 3, 777, 5, 666]\n",
      "[1, 2, 3, 777, 5, 666]\n",
      "[1, 2, 3, 777, 5, 666]\n",
      "[1, 2, 3, 444, 5, 666]\n"
     ]
    }
   ],
   "source": [
    "# copy:拷贝，浅拷贝\n",
    "# 列表类型变量赋值示例\n",
    "a = [1,2,3,4,5,666]\n",
    "print(a)\n",
    "# list 类型简单的赋值操作，是传址\n",
    "b = a\n",
    "b [3] = 777\n",
    "print(a)\n",
    "print(b)\n",
    "\n",
    "c = a.copy()\n",
    "c [3] = 444\n",
    "print(a)\n",
    "print(c)"
   ]
  },
  {
   "cell_type": "code",
   "execution_count": 4,
   "metadata": {},
   "outputs": [
    {
     "name": "stdout",
     "output_type": "stream",
     "text": [
      "139762336863240\n",
      "139762336035400\n",
      "139762335910024\n",
      "139762335910024\n",
      "[10, 20, 30, [1, 2, 666]]\n",
      "139762336863240\n",
      "[10, 20, 30, [1, 2, 666]]\n",
      "139762336035400\n"
     ]
    }
   ],
   "source": [
    "#深拷贝浅拷贝的区别\n",
    "# 出现下列问题的原因，copy函数是一个浅拷贝，即只拷贝一层内容\n",
    "# 深拷贝需要使用特定工具\n",
    "ａ = [10,20,30,[1,2,3]]\n",
    "b = a.copy()\n",
    "print(id(a))\n",
    "print(id(b))\n",
    "\n",
    "print(id(a[3]))\n",
    "print(id(b[3]))\n",
    "\n",
    "a [3][2] = 666\n",
    "print(a)\n",
    "print(id(a))\n",
    "print(b)\n",
    "print(id(b))"
   ]
  }
 ],
 "metadata": {
  "kernelspec": {
   "display_name": "Python 3",
   "language": "python",
   "name": "python3"
  },
  "language_info": {
   "codemirror_mode": {
    "name": "ipython",
    "version": 3
   },
   "file_extension": ".py",
   "mimetype": "text/x-python",
   "name": "python",
   "nbconvert_exporter": "python",
   "pygments_lexer": "ipython3",
   "version": "3.6.3"
  }
 },
 "nbformat": 4,
 "nbformat_minor": 2
}
