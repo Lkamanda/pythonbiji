{
 "cells": [
  {
   "cell_type": "code",
   "execution_count": 28,
   "metadata": {},
   "outputs": [
    {
     "name": "stdout",
     "output_type": "stream",
     "text": [
      "hi myname is ZHOU JIA LIN ,22\n",
      "hi myname is ZHAO JI,23\n",
      "hi myname is XIAOLIN,24\n"
     ]
    }
   ],
   "source": [
    "# 属性案例\n",
    "# 创建一个类描述学生\n",
    "# 学生具有Stuent.name 属性\n",
    "# 但name 格式并不统一 \n",
    "# 可以增加一个函数,然后自动调用的方式,但很蠢\n",
    "class Student():\n",
    "    def __init__(self, name, age):\n",
    "        self.name = name\n",
    "        self.age = age \n",
    "        \n",
    "        # 如果不想改代码自己调用下setName\n",
    "        self.setName(name)\n",
    "        self.setAge(age)\n",
    "    # 介绍下自己\n",
    "    def intro(self):\n",
    "        print('hi myname is {0},{1}'.format(self.name,self.age))\n",
    "        \n",
    "    \n",
    "    def setName(self,name):\n",
    "        self.name = name.upper()\n",
    "    \n",
    "    def setAge(self,age):\n",
    "        self.age = int(age)\n",
    "s1 = Student(\"ZHOU Jia Lin \",22)\n",
    "s2 = Student('zhao ji',23)\n",
    "s1.intro()\n",
    "s2.intro()\n",
    "s3 = Student('xiaolin',24.3)\n",
    "s3.intro()"
   ]
  },
  {
   "cell_type": "code",
   "execution_count": 31,
   "metadata": {},
   "outputs": [
    {
     "data": {
      "text/plain": [
       "24"
      ]
     },
     "execution_count": 31,
     "metadata": {},
     "output_type": "execute_result"
    }
   ],
   "source": [
    "# 数据清洗\n",
    "s3.setAge(24.3)\n",
    "s3.age"
   ]
  },
  {
   "cell_type": "code",
   "execution_count": null,
   "metadata": {
    "collapsed": true
   },
   "outputs": [],
   "source": [
    "# peroperty案例\n",
    "# 定义一个Person类,具有name,age属性\n",
    "# 对于任意输入的姓名,我们希望都用大写方式保存\n",
    "#　年龄，我们希望统一用整数保存\n",
    "# x = property(fget,fset,fdel,doc)"
   ]
  },
  {
   "cell_type": "code",
   "execution_count": 40,
   "metadata": {},
   "outputs": [],
   "source": [
    "class Person():\n",
    "    #　函数的名称可以任意\n",
    "    def fget(self):\n",
    "        return self._name*2\n",
    "    \n",
    "    def fset(self,name):\n",
    "        # 所有输入的姓名一大写的形式保存\n",
    "        self._name = name.upper()\n",
    "    def fdel(self):\n",
    "        self._name = 'NoneName'\n",
    "    \n",
    "    name = property(fget,fset,fdel,'对name进行下操作了')"
   ]
  },
  {
   "cell_type": "code",
   "execution_count": 41,
   "metadata": {},
   "outputs": [
    {
     "name": "stdout",
     "output_type": "stream",
     "text": [
      "XIAOLINXIAOLIN\n"
     ]
    }
   ],
   "source": [
    "p1 = Person()\n",
    "p1.name = 'xiaolin'\n",
    "print(p1.name)"
   ]
  },
  {
   "cell_type": "markdown",
   "metadata": {},
   "source": [
    "# 作业 \n",
    "1.在用户输入年龄的时候,可以输入整数,小数,浮点\n",
    "2.但在内部为了数据清洁,我们同意需要保存整数,直接舍去小数点"
   ]
  },
  {
   "cell_type": "code",
   "execution_count": null,
   "metadata": {
    "collapsed": true
   },
   "outputs": [],
   "source": []
  },
  {
   "cell_type": "code",
   "execution_count": null,
   "metadata": {
    "collapsed": true
   },
   "outputs": [],
   "source": []
  },
  {
   "cell_type": "code",
   "execution_count": null,
   "metadata": {
    "collapsed": true
   },
   "outputs": [],
   "source": []
  },
  {
   "cell_type": "code",
   "execution_count": null,
   "metadata": {
    "collapsed": true
   },
   "outputs": [],
   "source": []
  }
 ],
 "metadata": {
  "kernelspec": {
   "display_name": "Python 3",
   "language": "python",
   "name": "python3"
  },
  "language_info": {
   "codemirror_mode": {
    "name": "ipython",
    "version": 3
   },
   "file_extension": ".py",
   "mimetype": "text/x-python",
   "name": "python",
   "nbconvert_exporter": "python",
   "pygments_lexer": "ipython3",
   "version": "3.6.3"
  }
 },
 "nbformat": 4,
 "nbformat_minor": 2
}
