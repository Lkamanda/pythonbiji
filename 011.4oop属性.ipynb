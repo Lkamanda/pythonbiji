{
 "cells": [
  {
   "cell_type": "code",
   "execution_count": 28,
   "metadata": {},
   "outputs": [
    {
     "name": "stdout",
     "output_type": "stream",
     "text": [
      "hi myname is ZHOU JIA LIN ,22\n",
      "hi myname is ZHAO JI,23\n",
      "hi myname is XIAOLIN,24\n"
     ]
    }
   ],
   "source": [
    "# 属性案例\n",
    "# 创建一个类描述学生\n",
    "# 学生具有Stuent.name 属性\n",
    "# 但name 格式并不统一 \n",
    "# 可以增加一个函数,然后自动调用的方式,但很蠢\n",
    "class Student():\n",
    "    def __init__(self, name, age):\n",
    "        self.name = name\n",
    "        self.age = age \n",
    "        \n",
    "        # 如果不想改代码自己调用下setName\n",
    "        self.setName(name)\n",
    "        self.setAge(age)\n",
    "    # 介绍下自己\n",
    "    def intro(self):\n",
    "        print('hi myname is {0},{1}'.format(self.name,self.age))\n",
    "        \n",
    "    \n",
    "    def setName(self,name):\n",
    "        self.name = name.upper()\n",
    "    \n",
    "    def setAge(self,age):\n",
    "        self.age = int(age)\n",
    "s1 = Student(\"ZHOU Jia Lin \",22)\n",
    "s2 = Student('zhao ji',23)\n",
    "s1.intro()\n",
    "s2.intro()\n",
    "s3 = Student('xiaolin',24.3)\n",
    "s3.intro()"
   ]
  },
  {
   "cell_type": "code",
   "execution_count": 31,
   "metadata": {},
   "outputs": [
    {
     "data": {
      "text/plain": [
       "24"
      ]
     },
     "execution_count": 31,
     "metadata": {},
     "output_type": "execute_result"
    }
   ],
   "source": [
    "# 数据清洗\n",
    "s3.setAge(24.3)\n",
    "s3.age"
   ]
  },
  {
   "cell_type": "code",
   "execution_count": null,
   "metadata": {
    "collapsed": true
   },
   "outputs": [],
   "source": [
    "# peroperty案例\n",
    "# 定义一个Person类,具有name,age属性\n",
    "# 对于任意输入的姓名,我们希望都用大写方式保存\n",
    "#　年龄，我们希望统一用整数保存\n",
    "# x = property(fget,fset,fdel,doc)"
   ]
  },
  {
   "cell_type": "code",
   "execution_count": 40,
   "metadata": {
    "collapsed": true
   },
   "outputs": [],
   "source": [
    "class Person():\n",
    "    #　函数的名称可以任意\n",
    "    def fget(self):\n",
    "        return self._name*2\n",
    "    \n",
    "    def fset(self,name):\n",
    "        # 所有输入的姓名一大写的形式保存\n",
    "        self._name = name.upper()\n",
    "    def fdel(self):\n",
    "        self._name = 'NoneName'\n",
    "    \n",
    "    name = property(fget,fset,fdel,'对name进行下操作了')"
   ]
  },
  {
   "cell_type": "code",
   "execution_count": 41,
   "metadata": {},
   "outputs": [
    {
     "name": "stdout",
     "output_type": "stream",
     "text": [
      "XIAOLINXIAOLIN\n"
     ]
    }
   ],
   "source": [
    "p1 = Person()\n",
    "p1.name = 'xiaolin'\n",
    "print(p1.name)"
   ]
  },
  {
   "cell_type": "markdown",
   "metadata": {},
   "source": [
    "# 作业 \n",
    "1.在用户输入年龄的时候,可以输入整数,小数,浮点\n",
    "2.但在内部为了数据清洁,我们同意需要保存整数,直接舍去小数点"
   ]
  },
  {
   "cell_type": "code",
   "execution_count": 35,
   "metadata": {},
   "outputs": [
    {
     "name": "stdout",
     "output_type": "stream",
     "text": [
      "23\n"
     ]
    }
   ],
   "source": [
    "class Yonghu():\n",
    "    def __init__(self,age):\n",
    "        self.age = age\n",
    "        self.sage(age)\n",
    "    def sage(self,age):\n",
    "        self.age = int(age)\n",
    "        \n",
    "        \n",
    "a = Yonghu(23.4)\n",
    "\n",
    "print(a.age)"
   ]
  },
  {
   "cell_type": "code",
   "execution_count": 37,
   "metadata": {},
   "outputs": [
    {
     "data": {
      "text/plain": [
       "' 文档显示测试'"
      ]
     },
     "execution_count": 37,
     "metadata": {},
     "output_type": "execute_result"
    }
   ],
   "source": [
    "# 类的内置属性 \n",
    "#　__doc__\n",
    "class doc1():\n",
    "    ''' 文档显示测试'''\n",
    "    def name1(self,name):\n",
    "        self.name = name \n",
    "doc1.__doc__"
   ]
  },
  {
   "cell_type": "code",
   "execution_count": 38,
   "metadata": {},
   "outputs": [
    {
     "data": {
      "text/plain": [
       "mappingproxy({'__dict__': <attribute '__dict__' of 'doc1' objects>,\n",
       "              '__doc__': ' 文档显示测试',\n",
       "              '__module__': '__main__',\n",
       "              '__weakref__': <attribute '__weakref__' of 'doc1' objects>,\n",
       "              'name1': <function __main__.doc1.name1>})"
      ]
     },
     "execution_count": 38,
     "metadata": {},
     "output_type": "execute_result"
    }
   ],
   "source": [
    "doc1.__dict__"
   ]
  },
  {
   "cell_type": "code",
   "execution_count": 40,
   "metadata": {},
   "outputs": [
    {
     "data": {
      "text/plain": [
       "'doc1'"
      ]
     },
     "execution_count": 40,
     "metadata": {},
     "output_type": "execute_result"
    }
   ],
   "source": [
    "doc1.__name__"
   ]
  },
  {
   "cell_type": "code",
   "execution_count": 44,
   "metadata": {},
   "outputs": [
    {
     "data": {
      "text/plain": [
       "(__main__.A, __main__.B, __main__.C)"
      ]
     },
     "execution_count": 44,
     "metadata": {},
     "output_type": "execute_result"
    }
   ],
   "source": [
    "# __bases__ 获取某个类的所有父类,以元组方式显示\n",
    "class A():\n",
    "    pass\n",
    "class B():\n",
    "    pass \n",
    "class C:\n",
    "    pass \n",
    "class D (A,B,C):\n",
    "    pass \n",
    "D.__bases__"
   ]
  },
  {
   "cell_type": "code",
   "execution_count": 46,
   "metadata": {},
   "outputs": [
    {
     "name": "stdout",
     "output_type": "stream",
     "text": [
      "哈哈\n"
     ]
    }
   ],
   "source": [
    "# init举例\n",
    "class A ():\n",
    "    def __init__(self,name = 0):\n",
    "        print('哈哈')\n",
    "        \n",
    "a = A()"
   ]
  },
  {
   "cell_type": "code",
   "execution_count": 49,
   "metadata": {},
   "outputs": [
    {
     "name": "stdout",
     "output_type": "stream",
     "text": [
      "我被调用了\n",
      "i am call\n"
     ]
    }
   ],
   "source": [
    "# __call__举例\n",
    "class A():\n",
    "    def __init__(self,name = 0 ):\n",
    "        print('我被调用了')\n",
    "    def __call__(self):\n",
    "        print('i am call')\n",
    "\n",
    "a = A()\n",
    "# 如果想把对象当函数调用, 只需要在类中定义一个__call__魔法方法\n",
    "a()"
   ]
  },
  {
   "cell_type": "code",
   "execution_count": 54,
   "metadata": {},
   "outputs": [
    {
     "name": "stdout",
     "output_type": "stream",
     "text": [
      "我被调用了\n",
      "i am xiao lin\n"
     ]
    },
    {
     "data": {
      "text/plain": [
       "<__main__.A at 0x7f74d03da940>"
      ]
     },
     "execution_count": 54,
     "metadata": {},
     "output_type": "execute_result"
    }
   ],
   "source": [
    "# __str__\n",
    "#　当对象被当做字符串使用时调用\n",
    "class A():\n",
    "    def __init__(self,name = 0 ):\n",
    "        print('我被调用了')\n",
    "    def __call__(self):\n",
    "        print('i am call')\n",
    "    def __str__(self):\n",
    "        return 'i am xiao lin'\n",
    "\n",
    "a = A()\n",
    "\n",
    "# 尝试打印a时自动调用  __str__魔法函数\n",
    "print(a)\n",
    "a"
   ]
  },
  {
   "cell_type": "code",
   "execution_count": 58,
   "metadata": {},
   "outputs": [
    {
     "name": "stdout",
     "output_type": "stream",
     "text": [
      "<__main__.Test object at 0x7f74d03da470>\n"
     ]
    },
    {
     "data": {
      "text/plain": [
       "<__main__.Test at 0x7f74d03da470>"
      ]
     },
     "execution_count": 58,
     "metadata": {},
     "output_type": "execute_result"
    }
   ],
   "source": [
    "# __repr__\n",
    "class Test():\n",
    "    def __init__(self, value='hello world' ):\n",
    "        self.data = value\n",
    "t = Test()\n",
    "print(t)\n",
    "t"
   ]
  },
  {
   "cell_type": "code",
   "execution_count": 61,
   "metadata": {},
   "outputs": [
    {
     "name": "stdout",
     "output_type": "stream",
     "text": [
      "TestRepr(hello world)\n"
     ]
    },
    {
     "data": {
      "text/plain": [
       "TestRepr(hello world)"
      ]
     },
     "execution_count": 61,
     "metadata": {},
     "output_type": "execute_result"
    }
   ],
   "source": [
    "class TestRepr(Test):\n",
    "    def __repr__(self):\n",
    "        return 'TestRepr(%s)' % self.data\n",
    "tr = TestRepr()\n",
    "print(tr)\n",
    "tr\n",
    "# 直接调用和print() 显示一样 均为 重构的__repr__内容"
   ]
  },
  {
   "cell_type": "code",
   "execution_count": 63,
   "metadata": {},
   "outputs": [
    {
     "name": "stdout",
     "output_type": "stream",
     "text": [
      "TestStr(hello world)\n"
     ]
    },
    {
     "data": {
      "text/plain": [
       "<__main__.TestStr at 0x7f74d47fe2b0>"
      ]
     },
     "execution_count": 63,
     "metadata": {},
     "output_type": "execute_result"
    }
   ],
   "source": [
    "class TestStr(Test):\n",
    "    def __str__(self):\n",
    "        return 'TestStr(%s)' % self.data\n",
    "ts = TestStr ()\n",
    "print (ts)\n",
    "ts \n",
    "# 直接调用 和用来 的一致\n",
    "#　print  显示和 重构 __str__ 一致"
   ]
  },
  {
   "cell_type": "code",
   "execution_count": 23,
   "metadata": {},
   "outputs": [
    {
     "name": "stdout",
     "output_type": "stream",
     "text": [
      "NoneName\n"
     ]
    }
   ],
   "source": [
    "#  __getattr__\n",
    "\n",
    "class A():\n",
    "    name = 'NoneName'\n",
    "    age = 18\n",
    "    def __getattr__(self,name):\n",
    "        print('没有找到这个属性')\n",
    "        print(name,end= ' ')\n",
    "        \n",
    "a = A()\n",
    "print(a.name)\n",
    "\n",
    "# 作业为什么会打印第四句话,而且第四句话打印是None  "
   ]
  },
  {
   "cell_type": "code",
   "execution_count": 24,
   "metadata": {},
   "outputs": [
    {
     "name": "stdout",
     "output_type": "stream",
     "text": [
      "18\n",
      "没有找到这个属性\n",
      "addr None\n"
     ]
    }
   ],
   "source": [
    "# 访问一个不存在的成员\n",
    "\n",
    "print(a.age)\n",
    "print(a.addr)"
   ]
  },
  {
   "cell_type": "code",
   "execution_count": 31,
   "metadata": {},
   "outputs": [
    {
     "name": "stdout",
     "output_type": "stream",
     "text": [
      "{}\n",
      "设置属性:age\n",
      "设置属性:name\n",
      "设置属性:name\n",
      "设置属性:name\n",
      "设置属性:name\n",
      "设置属性:name\n",
      "设置属性:name\n",
      "设置属性:name\n",
      "设置属性:name\n",
      "设置属性:name\n",
      "设置属性:name\n",
      "设置属性:name\n",
      "设置属性:name\n",
      "设置属性:name\n",
      "设置属性:name\n",
      "设置属性:name\n",
      "设置属性:name\n",
      "设置属性:name\n",
      "设置属性:name\n",
      "设置属性:name\n",
      "设置属性:name\n",
      "设置属性:name\n",
      "设置属性:name\n",
      "设置属性:name\n",
      "设置属性:name\n",
      "设置属性:name\n",
      "设置属性:name\n",
      "设置属性:name\n",
      "设置属性:name\n",
      "设置属性:name\n",
      "设置属性:name\n",
      "设置属性:name\n",
      "设置属性:name\n",
      "设置属性:name\n",
      "设置属性:name\n",
      "设置属性:name\n",
      "设置属性:name\n",
      "设置属性:name\n",
      "设置属性:name\n",
      "设置属性:name\n",
      "设置属性:name\n",
      "设置属性:name\n",
      "设置属性:name\n",
      "设置属性:name\n",
      "设置属性:name\n",
      "设置属性:name\n",
      "设置属性:name\n",
      "设置属性:name\n",
      "设置属性:name\n",
      "设置属性:name\n",
      "设置属性:name\n",
      "设置属性:name\n",
      "设置属性:name\n",
      "设置属性:name\n",
      "设置属性:name\n",
      "设置属性:name\n",
      "设置属性:name\n",
      "设置属性:name\n",
      "设置属性:name\n",
      "设置属性:name\n",
      "设置属性:name\n",
      "设置属性:name\n",
      "设置属性:name\n",
      "设置属性:name\n",
      "设置属性:name\n",
      "设置属性:name\n",
      "设置属性:name\n",
      "设置属性:name\n",
      "设置属性:name\n",
      "设置属性:name\n",
      "设置属性:name\n",
      "设置属性:name\n",
      "设置属性:name\n",
      "设置属性:name\n",
      "设置属性:name\n",
      "设置属性:name\n",
      "设置属性:name\n",
      "设置属性:name\n",
      "设置属性:name\n",
      "设置属性:name\n",
      "设置属性:name\n",
      "设置属性:name\n",
      "设置属性:name\n",
      "设置属性:name\n",
      "设置属性:name\n",
      "设置属性:name\n",
      "设置属性:name\n",
      "设置属性:name\n",
      "设置属性:name\n",
      "设置属性:name\n",
      "设置属性:name\n",
      "设置属性:name\n",
      "设置属性:name\n",
      "设置属性:name\n",
      "设置属性:name\n",
      "设置属性:name\n",
      "设置属性:name\n",
      "设置属性:name\n",
      "设置属性:name\n",
      "设置属性:name\n",
      "设置属性:name\n",
      "设置属性:name\n",
      "设置属性:name\n",
      "设置属性:name\n",
      "设置属性:name\n",
      "设置属性:name\n",
      "设置属性:name\n",
      "设置属性:name\n",
      "设置属性:name\n",
      "设置属性:name\n",
      "设置属性:name\n",
      "设置属性:name\n",
      "设置属性:name\n",
      "设置属性:name\n",
      "设置属性:name\n",
      "设置属性:name\n",
      "设置属性:name\n",
      "设置属性:name\n",
      "设置属性:name\n",
      "设置属性:name\n",
      "设置属性:name\n",
      "设置属性:name\n",
      "设置属性:name\n",
      "设置属性:name\n",
      "设置属性:name\n",
      "设置属性:name\n",
      "设置属性:name\n",
      "设置属性:name\n",
      "设置属性:name\n",
      "设置属性:name\n",
      "设置属性:name\n",
      "设置属性:name\n",
      "设置属性:name\n",
      "设置属性:name\n",
      "设置属性:name\n",
      "设置属性:name\n",
      "设置属性:name\n",
      "设置属性:name\n",
      "设置属性:name\n",
      "设置属性:name\n",
      "设置属性:name\n",
      "设置属性:name\n",
      "设置属性:name\n",
      "设置属性:name\n",
      "设置属性:name\n",
      "设置属性:name\n",
      "设置属性:name\n",
      "设置属性:name\n",
      "设置属性:name\n",
      "设置属性:name\n",
      "设置属性:name\n",
      "设置属性:name\n",
      "设置属性:name\n",
      "设置属性:name\n",
      "设置属性:name\n",
      "设置属性:name\n",
      "设置属性:name\n",
      "设置属性:name\n",
      "设置属性:name\n",
      "设置属性:name\n",
      "设置属性:name\n",
      "设置属性:name\n",
      "设置属性:name\n",
      "设置属性:name\n",
      "设置属性:name\n",
      "设置属性:name\n",
      "设置属性:name\n",
      "设置属性:name\n",
      "设置属性:name\n",
      "设置属性:name\n",
      "设置属性:name\n",
      "设置属性:name\n",
      "设置属性:name\n",
      "设置属性:name\n",
      "设置属性:name\n",
      "设置属性:name\n",
      "设置属性:name\n",
      "设置属性:name\n",
      "设置属性:name\n",
      "设置属性:name\n",
      "设置属性:name\n",
      "设置属性:name\n",
      "设置属性:name\n",
      "设置属性:name\n",
      "设置属性:name\n",
      "设置属性:name\n",
      "设置属性:name\n",
      "设置属性:name\n",
      "设置属性:name\n",
      "设置属性:name\n",
      "设置属性:name\n",
      "设置属性:name\n",
      "设置属性:name\n",
      "设置属性:name\n",
      "设置属性:name\n",
      "设置属性:name\n",
      "设置属性:name\n",
      "设置属性:name\n",
      "设置属性:name\n",
      "设置属性:name\n",
      "设置属性:name\n",
      "设置属性:name\n",
      "设置属性:name\n",
      "设置属性:name\n",
      "设置属性:name\n",
      "设置属性:name\n",
      "设置属性:name\n",
      "设置属性:name\n",
      "设置属性:name\n",
      "设置属性:name\n",
      "设置属性:name\n",
      "设置属性:name\n",
      "设置属性:name\n",
      "设置属性:name\n",
      "设置属性:name\n",
      "设置属性:name\n",
      "设置属性:name\n",
      "设置属性:name\n",
      "设置属性:name\n",
      "设置属性:name\n",
      "设置属性:name\n",
      "设置属性:name\n",
      "设置属性:name\n",
      "设置属性:name\n",
      "设置属性:name\n",
      "设置属性:name\n",
      "设置属性:name\n",
      "设置属性:name\n",
      "设置属性:name\n",
      "设置属性:name\n",
      "设置属性:name\n",
      "设置属性:name\n",
      "设置属性:name\n",
      "设置属性:name\n",
      "设置属性:name\n",
      "设置属性:name\n",
      "设置属性:name\n",
      "设置属性:name\n",
      "设置属性:name\n",
      "设置属性:name\n",
      "设置属性:name\n",
      "设置属性:name\n",
      "设置属性:name\n",
      "设置属性:name\n",
      "设置属性:name\n",
      "设置属性:name\n",
      "设置属性:name\n",
      "设置属性:name\n",
      "设置属性:name\n",
      "设置属性:name\n",
      "设置属性:name\n",
      "设置属性:name\n",
      "设置属性:name\n",
      "设置属性:name\n",
      "设置属性:name\n",
      "设置属性:name\n",
      "设置属性:name\n",
      "设置属性:name\n",
      "设置属性:name\n",
      "设置属性:name\n",
      "设置属性:name\n",
      "设置属性:name\n",
      "设置属性:name\n",
      "设置属性:name\n",
      "设置属性:name\n",
      "设置属性:name\n",
      "设置属性:name\n",
      "设置属性:name\n",
      "设置属性:name\n",
      "设置属性:name\n",
      "设置属性:name\n",
      "设置属性:name\n",
      "设置属性:name\n",
      "设置属性:name\n",
      "设置属性:name\n",
      "设置属性:name\n",
      "设置属性:name\n",
      "设置属性:name\n",
      "设置属性:name\n",
      "设置属性:name\n",
      "设置属性:name\n",
      "设置属性:name\n",
      "设置属性:name\n",
      "设置属性:name\n",
      "设置属性:name\n",
      "设置属性:name\n",
      "设置属性:name\n",
      "设置属性:name\n",
      "设置属性:name\n",
      "设置属性:name\n",
      "设置属性:name\n",
      "设置属性:name\n",
      "设置属性:name\n",
      "设置属性:name\n",
      "设置属性:name\n",
      "设置属性:name\n",
      "设置属性:name\n",
      "设置属性:name\n",
      "设置属性:name\n",
      "设置属性:name\n",
      "设置属性:name\n",
      "设置属性:name\n",
      "设置属性:name\n",
      "设置属性:name\n",
      "设置属性:name\n",
      "设置属性:name\n",
      "设置属性:name\n",
      "设置属性:name\n",
      "设置属性:name\n",
      "设置属性:name\n",
      "设置属性:name\n",
      "设置属性:name\n",
      "设置属性:name\n",
      "设置属性:name\n",
      "设置属性:name\n",
      "设置属性:name\n",
      "设置属性:name\n",
      "设置属性:name\n",
      "设置属性:name\n",
      "设置属性:name\n",
      "设置属性:name\n",
      "设置属性:name\n",
      "设置属性:name\n",
      "设置属性:name\n",
      "设置属性:name\n",
      "设置属性:name\n",
      "设置属性:name\n",
      "设置属性:name\n",
      "设置属性:name\n",
      "设置属性:name\n",
      "设置属性:name\n",
      "设置属性:name\n",
      "设置属性:name\n",
      "设置属性:name\n",
      "设置属性:name\n",
      "设置属性:name\n",
      "设置属性:name\n",
      "设置属性:name\n",
      "设置属性:name\n",
      "设置属性:name\n",
      "设置属性:name\n",
      "设置属性:name\n",
      "设置属性:name\n",
      "设置属性:name\n",
      "设置属性:name\n",
      "设置属性:name\n",
      "设置属性:name\n",
      "设置属性:name\n",
      "设置属性:name\n",
      "设置属性:name\n",
      "设置属性:name\n",
      "设置属性:name\n",
      "设置属性:name\n",
      "设置属性:name\n",
      "设置属性:name\n",
      "设置属性:name\n",
      "设置属性:name\n",
      "设置属性:name\n",
      "设置属性:name\n",
      "设置属性:name\n",
      "设置属性:name\n",
      "设置属性:name\n",
      "设置属性:name\n",
      "设置属性:name\n",
      "设置属性:name\n",
      "设置属性:name\n",
      "设置属性:name\n",
      "设置属性:name\n",
      "设置属性:name\n",
      "设置属性:name\n",
      "设置属性:name\n",
      "设置属性:name\n",
      "设置属性:name\n",
      "设置属性:name\n",
      "设置属性:name\n",
      "设置属性:name\n",
      "设置属性:name\n",
      "设置属性:name\n",
      "设置属性:name\n",
      "设置属性:name\n",
      "设置属性:name\n",
      "设置属性:name\n",
      "设置属性:name\n",
      "设置属性:name\n",
      "设置属性:name\n",
      "设置属性:name\n",
      "设置属性:name\n",
      "设置属性:name\n",
      "设置属性:name\n",
      "设置属性:name\n",
      "设置属性:name\n",
      "设置属性:name\n",
      "设置属性:name\n",
      "设置属性:name\n",
      "设置属性:name\n",
      "设置属性:name\n",
      "设置属性:name\n",
      "设置属性:name\n",
      "设置属性:name\n",
      "设置属性:name\n",
      "设置属性:name\n",
      "设置属性:name\n",
      "设置属性:name\n",
      "设置属性:name\n",
      "设置属性:name\n",
      "设置属性:name\n",
      "设置属性:name\n",
      "设置属性:name\n",
      "设置属性:name\n",
      "设置属性:name\n",
      "设置属性:name\n",
      "设置属性:name\n",
      "设置属性:name\n",
      "设置属性:name\n",
      "设置属性:name\n",
      "设置属性:name\n",
      "设置属性:name\n",
      "设置属性:name\n",
      "设置属性:name\n",
      "设置属性:name\n",
      "设置属性:name\n",
      "设置属性:name\n",
      "设置属性:name\n",
      "设置属性:name\n",
      "设置属性:name\n",
      "设置属性:name\n",
      "设置属性:name\n",
      "设置属性:name\n",
      "设置属性:name\n",
      "设置属性:name\n",
      "设置属性:name\n",
      "设置属性:name\n",
      "设置属性:name\n",
      "设置属性:name\n",
      "设置属性:name\n",
      "设置属性:name\n",
      "设置属性:name\n",
      "设置属性:name\n",
      "设置属性:name\n",
      "设置属性:name\n",
      "设置属性:name\n",
      "设置属性:name\n",
      "设置属性:name\n",
      "设置属性:name\n",
      "设置属性:name\n",
      "设置属性:name\n",
      "设置属性:name\n",
      "设置属性:name\n",
      "设置属性:name\n",
      "设置属性:name\n",
      "设置属性:name\n",
      "设置属性:name\n",
      "设置属性:name\n",
      "设置属性:name\n",
      "设置属性:name\n",
      "设置属性:name\n",
      "设置属性:name\n",
      "设置属性:name\n",
      "设置属性:name\n",
      "设置属性:name\n",
      "设置属性:name\n",
      "设置属性:name\n",
      "设置属性:name\n",
      "设置属性:name\n",
      "设置属性:name\n",
      "设置属性:name\n",
      "设置属性:name\n",
      "设置属性:name\n",
      "设置属性:name\n",
      "设置属性:name\n",
      "设置属性:name\n",
      "设置属性:name\n",
      "设置属性:name\n",
      "设置属性:name\n",
      "设置属性:name\n",
      "设置属性:name\n",
      "设置属性:name\n",
      "设置属性:name\n",
      "设置属性:name\n",
      "设置属性:name\n",
      "设置属性:name\n",
      "设置属性:name\n",
      "设置属性:name\n",
      "设置属性:name\n",
      "设置属性:name\n",
      "设置属性:name\n",
      "设置属性:name\n",
      "设置属性:name\n",
      "设置属性:name\n",
      "设置属性:name\n",
      "设置属性:name\n",
      "设置属性:name\n",
      "设置属性:name\n",
      "设置属性:name\n",
      "设置属性:name\n",
      "设置属性:name\n",
      "设置属性:name\n",
      "设置属性:name\n",
      "设置属性:name\n",
      "设置属性:name\n",
      "设置属性:name\n",
      "设置属性:name\n",
      "设置属性:name\n",
      "设置属性:name\n",
      "设置属性:name\n",
      "设置属性:name\n",
      "设置属性:name\n",
      "设置属性:name\n",
      "设置属性:name\n",
      "设置属性:name\n",
      "设置属性:name\n",
      "设置属性:name\n",
      "设置属性:name\n",
      "设置属性:name\n",
      "设置属性:name\n",
      "设置属性:name\n",
      "设置属性:name\n",
      "设置属性:name\n",
      "设置属性:name\n",
      "设置属性:name\n",
      "设置属性:name\n",
      "设置属性:name\n",
      "设置属性:name\n",
      "设置属性:name\n",
      "设置属性:name\n",
      "设置属性:name\n",
      "设置属性:name\n",
      "设置属性:name\n",
      "设置属性:name\n",
      "设置属性:name\n",
      "设置属性:name\n",
      "设置属性:name\n",
      "设置属性:name\n",
      "设置属性:name\n",
      "设置属性:name\n",
      "设置属性:name\n",
      "设置属性:name\n",
      "设置属性:name\n",
      "设置属性:name\n",
      "设置属性:name\n",
      "设置属性:name\n",
      "设置属性:name\n",
      "设置属性:name\n",
      "设置属性:name\n",
      "设置属性:name\n",
      "设置属性:name\n",
      "设置属性:name\n",
      "设置属性:name\n",
      "设置属性:name\n",
      "设置属性:name\n",
      "设置属性:name\n",
      "设置属性:name\n",
      "设置属性:name\n",
      "设置属性:name\n",
      "设置属性:name\n",
      "设置属性:name\n",
      "设置属性:name\n",
      "设置属性:name\n",
      "设置属性:name\n",
      "设置属性:name\n",
      "设置属性:name\n",
      "设置属性:name\n",
      "设置属性:name\n",
      "设置属性:name\n",
      "设置属性:name\n",
      "设置属性:name\n",
      "设置属性:name\n",
      "设置属性:name\n",
      "设置属性:name\n",
      "设置属性:name\n",
      "设置属性:name\n",
      "设置属性:name\n",
      "设置属性:name\n",
      "设置属性:name\n",
      "设置属性:name\n",
      "设置属性:name\n",
      "设置属性:name\n",
      "设置属性:name\n",
      "设置属性:name\n",
      "设置属性:name\n",
      "设置属性:name\n",
      "设置属性:name\n",
      "设置属性:name\n",
      "设置属性:name\n",
      "设置属性:name\n",
      "设置属性:name\n",
      "设置属性:name\n",
      "设置属性:name\n",
      "设置属性:name\n",
      "设置属性:name\n",
      "设置属性:name\n",
      "设置属性:name\n",
      "设置属性:name\n",
      "设置属性:name\n",
      "设置属性:name\n",
      "设置属性:name\n",
      "设置属性:name\n",
      "设置属性:name\n",
      "设置属性:name\n",
      "设置属性:name\n",
      "设置属性:name\n",
      "设置属性:name\n",
      "设置属性:name\n",
      "设置属性:name\n",
      "设置属性:name\n",
      "设置属性:name\n",
      "设置属性:name\n",
      "设置属性:name\n",
      "设置属性:name\n",
      "设置属性:name\n",
      "设置属性:name\n",
      "设置属性:name\n",
      "设置属性:name\n",
      "设置属性:name\n",
      "设置属性:name\n",
      "设置属性:name\n",
      "设置属性:name\n",
      "设置属性:name\n",
      "设置属性:name\n",
      "设置属性:name\n",
      "设置属性:name\n",
      "设置属性:name\n",
      "设置属性:name\n",
      "设置属性:name\n",
      "设置属性:name\n",
      "设置属性:name\n",
      "设置属性:name\n",
      "设置属性:name\n",
      "设置属性:name\n",
      "设置属性:name\n",
      "设置属性:name\n",
      "设置属性:name\n",
      "设置属性:name\n",
      "设置属性:name\n",
      "设置属性:name\n",
      "设置属性:name\n",
      "设置属性:name\n",
      "设置属性:name\n",
      "设置属性:name\n",
      "设置属性:name\n",
      "设置属性:name\n",
      "设置属性:name\n",
      "设置属性:name\n",
      "设置属性:name\n",
      "设置属性:name\n",
      "设置属性:name\n",
      "设置属性:name\n",
      "设置属性:name\n",
      "设置属性:name\n",
      "设置属性:name\n",
      "设置属性:name\n",
      "设置属性:name\n",
      "设置属性:name\n",
      "设置属性:name\n",
      "设置属性:name\n"
     ]
    },
    {
     "ename": "RecursionError",
     "evalue": "maximum recursion depth exceeded in comparison",
     "output_type": "error",
     "traceback": [
      "\u001b[0;31m---------------------------------------------------------------------------\u001b[0m",
      "\u001b[0;31mRecursionError\u001b[0m                            Traceback (most recent call last)",
      "\u001b[0;32m<ipython-input-31-3aa4fb6b6fc7>\u001b[0m in \u001b[0;36m<module>\u001b[0;34m()\u001b[0m\n\u001b[1;32m     11\u001b[0m \u001b[0mp\u001b[0m \u001b[0;34m=\u001b[0m \u001b[0mPerson\u001b[0m\u001b[0;34m(\u001b[0m\u001b[0;34m)\u001b[0m\u001b[0;34m\u001b[0m\u001b[0m\n\u001b[1;32m     12\u001b[0m \u001b[0mprint\u001b[0m\u001b[0;34m(\u001b[0m\u001b[0mp\u001b[0m\u001b[0;34m.\u001b[0m\u001b[0m__dict__\u001b[0m\u001b[0;34m)\u001b[0m\u001b[0;34m\u001b[0m\u001b[0m\n\u001b[0;32m---> 13\u001b[0;31m \u001b[0mp\u001b[0m\u001b[0;34m.\u001b[0m\u001b[0mage\u001b[0m \u001b[0;34m=\u001b[0m \u001b[0;36m18\u001b[0m\u001b[0;34m\u001b[0m\u001b[0m\n\u001b[0m",
      "\u001b[0;32m<ipython-input-31-3aa4fb6b6fc7>\u001b[0m in \u001b[0;36m__setattr__\u001b[0;34m(self, name, value)\u001b[0m\n\u001b[1;32m      7\u001b[0m         \u001b[0mprint\u001b[0m\u001b[0;34m(\u001b[0m\u001b[0;34m'设置属性:{0}'\u001b[0m\u001b[0;34m.\u001b[0m\u001b[0mformat\u001b[0m\u001b[0;34m(\u001b[0m\u001b[0mname\u001b[0m\u001b[0;34m)\u001b[0m\u001b[0;34m)\u001b[0m\u001b[0;34m\u001b[0m\u001b[0m\n\u001b[1;32m      8\u001b[0m         \u001b[0;31m# 下面语句会导致问题,死循环\u001b[0m\u001b[0;34m\u001b[0m\u001b[0;34m\u001b[0m\u001b[0m\n\u001b[0;32m----> 9\u001b[0;31m         \u001b[0mself\u001b[0m\u001b[0;34m.\u001b[0m\u001b[0mname\u001b[0m \u001b[0;34m=\u001b[0m \u001b[0mvalue\u001b[0m\u001b[0;34m\u001b[0m\u001b[0m\n\u001b[0m\u001b[1;32m     10\u001b[0m \u001b[0;34m\u001b[0m\u001b[0m\n\u001b[1;32m     11\u001b[0m \u001b[0mp\u001b[0m \u001b[0;34m=\u001b[0m \u001b[0mPerson\u001b[0m\u001b[0;34m(\u001b[0m\u001b[0;34m)\u001b[0m\u001b[0;34m\u001b[0m\u001b[0m\n",
      "... last 1 frames repeated, from the frame below ...\n",
      "\u001b[0;32m<ipython-input-31-3aa4fb6b6fc7>\u001b[0m in \u001b[0;36m__setattr__\u001b[0;34m(self, name, value)\u001b[0m\n\u001b[1;32m      7\u001b[0m         \u001b[0mprint\u001b[0m\u001b[0;34m(\u001b[0m\u001b[0;34m'设置属性:{0}'\u001b[0m\u001b[0;34m.\u001b[0m\u001b[0mformat\u001b[0m\u001b[0;34m(\u001b[0m\u001b[0mname\u001b[0m\u001b[0;34m)\u001b[0m\u001b[0;34m)\u001b[0m\u001b[0;34m\u001b[0m\u001b[0m\n\u001b[1;32m      8\u001b[0m         \u001b[0;31m# 下面语句会导致问题,死循环\u001b[0m\u001b[0;34m\u001b[0m\u001b[0;34m\u001b[0m\u001b[0m\n\u001b[0;32m----> 9\u001b[0;31m         \u001b[0mself\u001b[0m\u001b[0;34m.\u001b[0m\u001b[0mname\u001b[0m \u001b[0;34m=\u001b[0m \u001b[0mvalue\u001b[0m\u001b[0;34m\u001b[0m\u001b[0m\n\u001b[0m\u001b[1;32m     10\u001b[0m \u001b[0;34m\u001b[0m\u001b[0m\n\u001b[1;32m     11\u001b[0m \u001b[0mp\u001b[0m \u001b[0;34m=\u001b[0m \u001b[0mPerson\u001b[0m\u001b[0;34m(\u001b[0m\u001b[0;34m)\u001b[0m\u001b[0;34m\u001b[0m\u001b[0m\n",
      "\u001b[0;31mRecursionError\u001b[0m: maximum recursion depth exceeded in comparison"
     ]
    }
   ],
   "source": [
    "# __setattr__案例\n",
    "class Person():\n",
    "    def __init__(self):\n",
    "            pass\n",
    "     \n",
    "    def __setattr__(self,name,value):\n",
    "        print('设置属性:{0}'.format(name))\n",
    "        # 下面语句会导致问题,死循环 \n",
    "        self.name = value\n",
    "    \n",
    "p = Person()\n",
    "print(p.__dict__)\n",
    "p.age = 18"
   ]
  },
  {
   "cell_type": "code",
   "execution_count": 34,
   "metadata": {},
   "outputs": [
    {
     "name": "stdout",
     "output_type": "stream",
     "text": [
      "{}\n",
      "设置属性:age\n",
      "执行了修改操作\n"
     ]
    }
   ],
   "source": [
    "# __setattr__案例\n",
    "class Person():\n",
    "    def __init__(self):\n",
    "            pass\n",
    "     \n",
    "    def __setattr__(self,name,value):\n",
    "        print('设置属性:{0}'.format(name))\n",
    "        # 下面语句会导致问题,死循环 \n",
    "        # self.name = value\n",
    "        print('执行了修改操作')\n",
    "        # 此种情况,为了避免死循环,规定统一调用他的第一个父类\n",
    "        super().__setattr__(name,value)\n",
    "    \n",
    "    \n",
    "p = Person()\n",
    "print(p.__dict__)\n",
    "p.age = 18"
   ]
  },
  {
   "cell_type": "code",
   "execution_count": 36,
   "metadata": {},
   "outputs": [
    {
     "ename": "TypeError",
     "evalue": "'>' not supported between instances of 'Student' and 'Student'",
     "output_type": "error",
     "traceback": [
      "\u001b[0;31m---------------------------------------------------------------------------\u001b[0m",
      "\u001b[0;31mTypeError\u001b[0m                                 Traceback (most recent call last)",
      "\u001b[0;32m<ipython-input-36-3e04014ee974>\u001b[0m in \u001b[0;36m<module>\u001b[0;34m()\u001b[0m\n\u001b[1;32m     12\u001b[0m \u001b[0mstu1\u001b[0m \u001b[0;34m=\u001b[0m \u001b[0mStudent\u001b[0m\u001b[0;34m(\u001b[0m\u001b[0;34m'one'\u001b[0m\u001b[0;34m)\u001b[0m\u001b[0;34m\u001b[0m\u001b[0m\n\u001b[1;32m     13\u001b[0m \u001b[0mstu2\u001b[0m \u001b[0;34m=\u001b[0m \u001b[0mStudent\u001b[0m\u001b[0;34m(\u001b[0m\u001b[0;34m'two'\u001b[0m\u001b[0;34m)\u001b[0m\u001b[0;34m\u001b[0m\u001b[0m\n\u001b[0;32m---> 14\u001b[0;31m \u001b[0mprint\u001b[0m\u001b[0;34m(\u001b[0m\u001b[0mstu1\u001b[0m \u001b[0;34m>\u001b[0m \u001b[0mstu2\u001b[0m\u001b[0;34m)\u001b[0m\u001b[0;34m\u001b[0m\u001b[0m\n\u001b[0m",
      "\u001b[0;31mTypeError\u001b[0m: '>' not supported between instances of 'Student' and 'Student'"
     ]
    }
   ],
   "source": [
    "# __gt__ \n",
    "class Student():\n",
    "    def __init__(self,name):\n",
    "        self._name = name \n",
    "    \n",
    "#     def __gt__(self,obj):\n",
    "#         print('哈哈,{0}会比{1}大么?'.format(self,obj))\n",
    "#         return self._name >obj._name\n",
    "\n",
    "# 作业:\n",
    "# 字符串的比较是按什么规则\n",
    "# 答: ASC码\n",
    "stu1 = Student('one')\n",
    "stu2 = Student('two')\n",
    "print(stu1 > stu2)"
   ]
  },
  {
   "cell_type": "code",
   "execution_count": 13,
   "metadata": {},
   "outputs": [
    {
     "name": "stdout",
     "output_type": "stream",
     "text": [
      "哈哈,<__main__.Student object at 0x7f942d6e2518>会比<__main__.Student object at 0x7f942d6e20f0>大么?\n",
      "False\n"
     ]
    }
   ],
   "source": [
    "# __gt__ \n",
    "class Student():\n",
    "    def __init__(self,name):\n",
    "        self._name = name \n",
    "    \n",
    "    def __gt__(self,obj):\n",
    "        \n",
    "\n",
    "        print('哈哈,{0}会比{1}大么?'.format(self,obj))\n",
    "        return self._name >obj._name\n",
    "    \n",
    "\n",
    "\n",
    "# 作业:\n",
    "# 字符窜的比较是按什么规则\n",
    "stu1 = Student('one')\n",
    "stu2 = Student('two')\n",
    "print(stu1 > stu2)\n",
    "\n",
    "# 作业:\n",
    "#　下面显示结果不太美观，能否改成刑如　＂哈哈,one 会比 two 大么 ?"
   ]
  },
  {
   "cell_type": "markdown",
   "metadata": {},
   "source": [
    "# 作业"
   ]
  },
  {
   "cell_type": "code",
   "execution_count": 19,
   "metadata": {},
   "outputs": [
    {
     "name": "stdout",
     "output_type": "stream",
     "text": [
      "哈哈,Student(one)会比Student(two)大么?\n",
      "False\n"
     ]
    }
   ],
   "source": [
    "class Student():\n",
    "    def __init__(self,name):\n",
    "        self._name = name \n",
    "    \n",
    "    def __gt__(self,obj):\n",
    "        print('哈哈,{0}会比{1}大么?'.format(self,obj))\n",
    "        return self._name >obj._name\n",
    "    \n",
    "    \n",
    "    def __str__(self):\n",
    "        return 'Student(%s)'%  self._name\n",
    "stu1 = Student('one')\n",
    "stu2 = Student('two')\n",
    "print(stu1> stu2)"
   ]
  },
  {
   "cell_type": "code",
   "execution_count": 23,
   "metadata": {},
   "outputs": [
    {
     "name": "stdout",
     "output_type": "stream",
     "text": [
      "<__main__.Person object at 0x7fd5bc6659e8>\n",
      "Eating..\n"
     ]
    }
   ],
   "source": [
    "# 三种方法的案例\n",
    "class Person:\n",
    "    # 实例方法\n",
    "    def eat(self):\n",
    "        print(self)\n",
    "        print('Eating..')\n",
    "    \n",
    "    # 类方法 \n",
    "    # 类方法的第一个参数,一般命名为cls,区别于self\n",
    "    @classmethod \n",
    "    def play(cls):\n",
    "        print(cls)\n",
    "        print('i am classmethod')\n",
    "    \n",
    "    # 静态方法\n",
    "    #不需要用第一参数表示自身或者类\n",
    "    @staticmethod\n",
    "    def say():\n",
    "        print('i am 静态')\n",
    "xl = Person()\n",
    "xl.eat()"
   ]
  },
  {
   "cell_type": "code",
   "execution_count": 26,
   "metadata": {},
   "outputs": [
    {
     "name": "stdout",
     "output_type": "stream",
     "text": [
      "<class '__main__.Person'>\n",
      "i am classmethod\n",
      "<class '__main__.Person'>\n",
      "i am classmethod\n"
     ]
    }
   ],
   "source": [
    "# 类方法可以很实例方法一样使用\n",
    "Person.play()\n",
    "xl.play()"
   ]
  },
  {
   "cell_type": "code",
   "execution_count": 28,
   "metadata": {},
   "outputs": [
    {
     "name": "stdout",
     "output_type": "stream",
     "text": [
      "<class '__main__.Person'>\n",
      "i am classmethod\n"
     ]
    }
   ],
   "source": [
    "# 用实例调用静态方法\n",
    "xl.play()"
   ]
  },
  {
   "cell_type": "markdown",
   "metadata": {},
   "source": [
    "作业:自行查找三种方法内存使用方面的区别"
   ]
  },
  {
   "cell_type": "markdown",
   "metadata": {},
   "source": [
    "# 类方法 \n",
    "原则上,类方法是将类本身作为对象进行操作.\n",
    "列子 : 假设有个方法,且这个方法在逻辑上采用类本身作为对象来调用更合理,那么这个方法就可以定义为类方法本身作为类对象调用跟合理.如果需要继承,也可以定义位类方法\n",
    "\n",
    "如下场景: 假设我有一个学生类和一个班级类,想要实现的功能位:\n",
    "    执行班级人数增加的操作,获得班级的总人数;\n",
    "    学生类继承自班级类,没实例话一个学生,那么班级人数都能增加:\n",
    "    做好定义一些学生,或的班级中的总人数\n"
   ]
  },
  {
   "cell_type": "code",
   "execution_count": 35,
   "metadata": {},
   "outputs": [
    {
     "name": "stdout",
     "output_type": "stream",
     "text": [
      "2\n"
     ]
    }
   ],
   "source": [
    "class BanJi(object):\n",
    "    _num = 0\n",
    "    @classmethod\n",
    "    def addNum(cls):\n",
    "        cls._num += 1\n",
    "    @classmethod\n",
    "    def getNum(cls):\n",
    "        return cls._num\n",
    "    def __new__(self):\n",
    "        BanJi.addNum()\n",
    "        return super(BanJi,self).__new__(self)\n",
    "\n",
    "class Student(BanJi):\n",
    "    def __init__(self):\n",
    "        self.name  = ''\n",
    "        \n",
    "b= Student()\n",
    "a = Student()\n",
    "print(BanJi.getNum())\n",
    "        "
   ]
  },
  {
   "cell_type": "code",
   "execution_count": 36,
   "metadata": {
    "collapsed": true
   },
   "outputs": [],
   "source": [
    "# 静态方法是类中的函数,不需要实例.静态方法主要是用来存放逻辑形的代码,漏记上属于类,\n",
    "#但和类的本身没有关系,静态方法是个独立,单纯的函数,它仅仅托管与某个类的命名空间中,便于使用和维护\n"
   ]
  },
  {
   "cell_type": "code",
   "execution_count": 73,
   "metadata": {},
   "outputs": [
    {
     "name": "stdout",
     "output_type": "stream",
     "text": [
      "15:29:30\n",
      "15:29:30\n"
     ]
    }
   ],
   "source": [
    "import time \n",
    "class TimeTest(object):\n",
    "    def __init__(self,hour,minute,second):\n",
    "        self.hour = hour \n",
    "        self.minute = minute\n",
    "        self.second = second\n",
    "    @staticmethod \n",
    "    def showTime():\n",
    "        return time.strftime(\"%H:%M:%S\",time.localtime())\n",
    "print(TimeTest.showTime())\n",
    "t = TimeTest(2,10,10)\n",
    "nowTime = t.showTime()\n",
    "print(nowTime)"
   ]
  }
 ],
 "metadata": {
  "kernelspec": {
   "display_name": "Python 3",
   "language": "python",
   "name": "python3"
  },
  "language_info": {
   "codemirror_mode": {
    "name": "ipython",
    "version": 3
   },
   "file_extension": ".py",
   "mimetype": "text/x-python",
   "name": "python",
   "nbconvert_exporter": "python",
   "pygments_lexer": "ipython3",
   "version": "3.6.3"
  }
 },
 "nbformat": 4,
 "nbformat_minor": 2
}
