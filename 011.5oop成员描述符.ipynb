{
 "cells": [
  {
   "cell_type": "code",
   "execution_count": 11,
   "metadata": {},
   "outputs": [
    {
     "name": "stdout",
     "output_type": "stream",
     "text": [
      "小林\n"
     ]
    }
   ],
   "source": [
    "#变量的三种用法\n",
    "class A():\n",
    "    def __init__(self,):\n",
    "        self.name = 'Nonename'\n",
    "        self.age = 19\n",
    "a = A()\n",
    "# 属性的三种方法\n",
    "#　１．赋值\n",
    "#  2.读取\n",
    "#  3.删除 \n",
    "a.name = '小林'\n",
    "print(a.name)\n",
    "del a.name\n",
    "# print (a.name)\n"
   ]
  },
  {
   "cell_type": "code",
   "execution_count": 15,
   "metadata": {},
   "outputs": [
    {
     "name": "stdout",
     "output_type": "stream",
     "text": [
      "Noname\n",
      "我被读取了\n",
      "Noname\n"
     ]
    }
   ],
   "source": [
    "# 类属性\n",
    "#应用场景：\n",
    "# 对于除了普通的三种操作,还想添加一些附加的操作,那么可以通过property完成\n",
    "class A():\n",
    "    def __init__(self):\n",
    "        self.name = 'Noname'\n",
    "        self.age = 18\n",
    "    # 此功能,是对变量进行的读取操作的适合应该执行的函数功能\n",
    "    def fget (self):\n",
    "        print('我被读取了')\n",
    "        return self.name\n",
    "    def fset (self):\n",
    "        print('我被写入了,但是还可以添加功能')\n",
    "        self.name = '我的名字是:' + name \n",
    "    # 模拟删除变量时进行的操作\n",
    "    def fdel(self):\n",
    "        pass \n",
    "    \n",
    "    # property 的四个参数顺序是固定的\n",
    "    #　第一个参数代表读取的时候需要调用的函数\n",
    "    # 第二个参数代表写入的适合需要调用的函数\n",
    "    #　第三个是删除\n",
    "    name2 = property(fget,fset,fdel,'这是一个说明文档')\n",
    "\n",
    "a = A()\n",
    "print(a.name)\n",
    "\n",
    "print(a.name2)\n",
    "\n",
    "        \n",
    "    "
   ]
  },
  {
   "cell_type": "code",
   "execution_count": null,
   "metadata": {
    "collapsed": true
   },
   "outputs": [],
   "source": []
  }
 ],
 "metadata": {
  "kernelspec": {
   "display_name": "Python 3",
   "language": "python",
   "name": "python3"
  },
  "language_info": {
   "codemirror_mode": {
    "name": "ipython",
    "version": 3
   },
   "file_extension": ".py",
   "mimetype": "text/x-python",
   "name": "python",
   "nbconvert_exporter": "python",
   "pygments_lexer": "ipython3",
   "version": "3.6.3"
  }
 },
 "nbformat": 4,
 "nbformat_minor": 2
}
